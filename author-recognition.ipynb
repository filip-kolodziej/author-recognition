{
 "cells": [
  {
   "cell_type": "code",
   "execution_count": 2,
   "metadata": {},
   "outputs": [
    {
     "name": "stderr",
     "output_type": "stream",
     "text": [
      "[nltk_data] Downloading package punkt to\n",
      "[nltk_data]     C:\\Users\\filip\\AppData\\Roaming\\nltk_data...\n",
      "[nltk_data]   Package punkt is already up-to-date!\n"
     ]
    }
   ],
   "source": [
    "import nltk\n",
    "nltk.download('punkt')\n",
    "from nltk.tokenize import word_tokenize, sent_tokenize\n",
    "import pandas as pd\n",
    "import string\n",
    "from nltk.stem import PorterStemmer\n",
    "from sklearn.model_selection import train_test_split\n",
    "from nltk.tokenize.treebank import TreebankWordDetokenizer\n",
    "from sklearn.feature_extraction.text import CountVectorizer\n",
    "from sklearn.feature_extraction.text import TfidfTransformer\n",
    "from sklearn.utils import shuffle\n",
    "from nltk.corpus import stopwords\n",
    "import numpy\n",
    "from sklearn.naive_bayes import BernoulliNB, MultinomialNB\n",
    "from sklearn.metrics import confusion_matrix"
   ]
  },
  {
   "cell_type": "markdown",
   "metadata": {},
   "source": [
    "# Loading books"
   ]
  },
  {
   "cell_type": "code",
   "execution_count": 3,
   "metadata": {
    "scrolled": true
   },
   "outputs": [],
   "source": [
    "path = '../doyle' #insert path to Doyle's books\n",
    "\n",
    "book_doyle_2 = open(path+'/baskerville_edited.txt', \"r\", encoding=\"utf-8\")\n",
    "text = book_doyle_2.read()\n",
    "doyle_texts = text\n",
    "\n",
    "book_doyle_3 = open(path+'/four_edited.txt', \"r\", encoding=\"utf-8\")\n",
    "text = book_doyle_3.read()\n",
    "doyle_texts = doyle_texts + text\n",
    "\n",
    "doyle_texts = doyle_texts.lower()\n",
    "doyle_texts = doyle_texts.translate(str.maketrans('', '', string.punctuation))"
   ]
  },
  {
   "cell_type": "code",
   "execution_count": 4,
   "metadata": {},
   "outputs": [
    {
     "data": {
      "text/plain": [
       "108246"
      ]
     },
     "execution_count": 4,
     "metadata": {},
     "output_type": "execute_result"
    }
   ],
   "source": [
    "words_doyle = word_tokenize(doyle_texts)\n",
    "len(words_doyle)"
   ]
  },
  {
   "cell_type": "code",
   "execution_count": 5,
   "metadata": {},
   "outputs": [],
   "source": [
    "path2 = '../shaw' #insert path to Shaw's books\n",
    "book_shaw_1 = open(path2+'/arms_edited.txt', \"r\", encoding=\"utf-8\")\n",
    "text = book_shaw_1.read()\n",
    "shaw_texts = text\n",
    "\n",
    "book_shaw_2 = open(path2+'/pygmalion_edited.txt', \"r\", encoding=\"utf-8\")\n",
    "text = book_shaw_2.read()\n",
    "shaw_texts = shaw_texts + text\n",
    "\n",
    "book_shaw_4 = open(path2+'/superman_edited.txt', \"r\", encoding=\"utf-8\")\n",
    "text = book_shaw_4.read()\n",
    "shaw_texts = shaw_texts + text\n",
    "\n",
    "shaw_texts = shaw_texts.lower()\n",
    "shaw_texts = shaw_texts.translate(str.maketrans('', '', string.punctuation))"
   ]
  },
  {
   "cell_type": "code",
   "execution_count": 6,
   "metadata": {},
   "outputs": [
    {
     "data": {
      "text/plain": [
       "107499"
      ]
     },
     "execution_count": 6,
     "metadata": {},
     "output_type": "execute_result"
    }
   ],
   "source": [
    "words_shaw = word_tokenize(shaw_texts)\n",
    "len(words_shaw)"
   ]
  },
  {
   "cell_type": "code",
   "execution_count": 7,
   "metadata": {},
   "outputs": [
    {
     "data": {
      "text/plain": [
       "['\\ufeff',\n",
       " 'mr',\n",
       " 'sherlock',\n",
       " 'holmes',\n",
       " 'who',\n",
       " 'was',\n",
       " 'usually',\n",
       " 'very',\n",
       " 'late',\n",
       " 'in',\n",
       " 'the',\n",
       " 'mornings',\n",
       " 'save',\n",
       " 'upon',\n",
       " 'those',\n",
       " 'not',\n",
       " 'infrequent',\n",
       " 'occasions',\n",
       " 'when',\n",
       " 'he']"
      ]
     },
     "execution_count": 7,
     "metadata": {},
     "output_type": "execute_result"
    }
   ],
   "source": [
    "words_doyle[:20]"
   ]
  },
  {
   "cell_type": "code",
   "execution_count": 8,
   "metadata": {},
   "outputs": [
    {
     "data": {
      "text/plain": [
       "['\\ufeff',\n",
       " 'night',\n",
       " 'a',\n",
       " 'ladys',\n",
       " 'bedchamber',\n",
       " 'in',\n",
       " 'bulgaria',\n",
       " 'in',\n",
       " 'a',\n",
       " 'small',\n",
       " 'town',\n",
       " 'near',\n",
       " 'the',\n",
       " 'dragoman',\n",
       " 'pass',\n",
       " 'it',\n",
       " 'is',\n",
       " 'late',\n",
       " 'in',\n",
       " 'november',\n",
       " 'in',\n",
       " 'the',\n",
       " 'year',\n",
       " '1885',\n",
       " 'and']"
      ]
     },
     "execution_count": 8,
     "metadata": {},
     "output_type": "execute_result"
    }
   ],
   "source": [
    "words_shaw[:25]"
   ]
  },
  {
   "cell_type": "markdown",
   "metadata": {},
   "source": [
    "# Deleting unique words for each authors"
   ]
  },
  {
   "cell_type": "code",
   "execution_count": 9,
   "metadata": {},
   "outputs": [],
   "source": [
    "words_doyle_unique = set(words_doyle)\n",
    "words_shaw_unique = set(words_shaw)"
   ]
  },
  {
   "cell_type": "code",
   "execution_count": 10,
   "metadata": {},
   "outputs": [
    {
     "data": {
      "text/plain": [
       "108246"
      ]
     },
     "execution_count": 10,
     "metadata": {},
     "output_type": "execute_result"
    }
   ],
   "source": [
    "len(words_doyle)"
   ]
  },
  {
   "cell_type": "code",
   "execution_count": 11,
   "metadata": {},
   "outputs": [
    {
     "data": {
      "text/plain": [
       "8639"
      ]
     },
     "execution_count": 11,
     "metadata": {},
     "output_type": "execute_result"
    }
   ],
   "source": [
    "len(words_doyle_unique)"
   ]
  },
  {
   "cell_type": "code",
   "execution_count": 12,
   "metadata": {},
   "outputs": [],
   "source": [
    "repeated = False\n",
    "first_loop = True\n",
    "for word in words_doyle:\n",
    "    for word2 in words_shaw_unique:\n",
    "        if word == word2:\n",
    "            repeated = True\n",
    "            break\n",
    "    if repeated == True:\n",
    "        if first_loop == False:\n",
    "            text_doyle = text_doyle + ' ' + word\n",
    "        else:\n",
    "            text_doyle = word\n",
    "            first_loop = False                                \n",
    "    repeated = False"
   ]
  },
  {
   "cell_type": "code",
   "execution_count": 14,
   "metadata": {},
   "outputs": [
    {
     "name": "stdout",
     "output_type": "stream",
     "text": [
      "﻿ mr sherlock holmes who was usually very late in the save upon those not occasions when he was up all night was seated at the breakfast table i stood upon the hearthrug and picked up the stick which our visitor had left behind him the night before it was a fine thick piece of wood of the sort which is known as a lawyer just under the head was a broad band nearly an inch across to james from his friends of the was engraved upon it with the date it was just such a stick as the oldfashioned family used to solid and reassuring well what do you make of it holmes was sitting with his back to me and i had given him no sign of my how did you know what i was doing i believe you have eyes in the back of your head i have at least a in front of me said he but tell me what do you make of our visitor stick since we have been so unfortunate as to miss him and have no notion of his this accidental souvenir becomes of importance let me hear you the man by an of it i think said i following as far as i could the methods of my companion that is a successful elderly man since those who know him give him this mark of their good said holmes excellent i think also that the is in of his being a country who does a great deal of his on foot why so because this stick though originally a very handsome one has been so about that i can hardly imagine a town carrying it the is worn down so it is that he has done a great of walking with it perfectly sound said holmes and then again there is the friends of the i should guess that to be the something hunt the local hunt to whose he has possibly given some assistance and which has made him a small in return really you excel yourself said holmes pushing back his chair and lighting a i am bound to say that in all the accounts which you have been so good as to give of my own small you have habitually your own it may be that you are not yourself but you are a conductor of light some people without genius have a remarkable power of it i confess my dear fellow that i am very much in your he had never said as much before and i must admit that his words gave me keen pleasure for i had often been by his indifference to my admiration and to the attempts which i had made to give to his methods i was proud too to think that i had so far his system as to it in a way which earned his approval he now took the stick from my hands and examined it for a few minutes with his naked eyes then with an expression of interest he laid down his and carrying the cane to the window he looked over it again with a interesting though said he as he returned to his corner of the settee there are certainly one or two indications upon the stick it gives us the basis for several has anything escaped me i asked with some i trust that there is nothing of consequence which i have i am afraid my dear that most of your conclusions were when i said that you me i meant to be frank that in your i was occasionally guided towards the truth not that you are entirely wrong in this instance the man is certainly a country and he walks a good deal then i was right to that extent but that was all no no my dear not no means all i would suggest for example that a to a doctor is more likely to come from a hospital than from a hunt and that when the initials are placed before that hospital the words charing cross very naturally suggest themselves you may be right the lies in that direction and if we take this as a working we have a fresh basis from which to start our construction of this unknown visitor well then that does stand for charing cross hospital what further may we draw do none suggest themselves you know my methods them i can only think of the obvious that the man has practised in town before going to the country i think that we might a little farther than this look at it in this light on what occasion would it be most that such a would be made when would his friends to give him a pledge of their good will obviously at the moment when from the service of the hospital in order to start a practice for himself we know there has been a we believe there has been a change from a town hospital to a country practice is it then stretching our too far to say that the was on the occasion of the change it certainly seems now you will observe that he could not have been on the staff of the hospital since only a man in a london practice could hold such a position and such a one would not drift into the country what was he then if he was in the hospital and yet not on the staff he could only have been a or a more than a student and he left five years date is on the stick so your grave middleaged family vanishes into thin air my dear and there a young fellow under thirty amiable unambitious and the possessor of a dog which i should describe roughly as being larger than a terrier and smaller than a i laughed incredulously as sherlock holmes back in his settee and little rings of up to the ceiling as to the part i have no means of you said i but at least it is not difficult to find out a few particulars about the man age and professional career from my small shelf i took down the directory and turned up the name there were several but only one who could be our visitor i read his record james from to at charing cross hospital of the for with essay entitled is disease a member of the society author of some of do we progress of march officer for the of and high no mention of that local hunt said holmes with a mischievous smile but a country doctor as you very observed i think that i am fairly justified in my as to the i said if i remember right amiable unambitious and it is my experience that it is only an amiable man in this world who receives only an unambitious one who a london career for the country and only an one who leaves his stick and not his after waiting an hour in your room and the dog has been in the habit of carrying this stick behind his master being a heavy stick the dog has held it by the middle and the of his teeth are very plainly visible the dog jaw as shown in the space between these is too broad in my opinion for a terrier and not broad enough for a it may have by jove it is a he had risen and paced the room as he spoke now he in the of the window there was such a ring of conviction in his voice that i up in surprise my dear fellow how can you possibly be so sure of that for the very simple reason that i see the dog himself on our very doorstep and there is the ring of its owner don move i beg you he is a professional brother of yours and your presence may be of assistance to me now is the dramatic moment of fate when you hear a step upon the which is walking into your life and you know not whether for good or ill what does james the man of science ask of sherlock holmes the in crime come in the appearance of our visitor was a surprise to me since i had expected a country he was a very tall thin man with a long nose like a which out between two keen grey eyes set closely together and from behind a pair of he was clad in a professional but rather slovenly fashion for his frockcoat was and his trousers though young his long back was already and he walked with a forward thrust of his head and a general air of peering as he entered his eyes fell upon the stick in holmes hand and he ran towards it with an exclamation of joy i am so very glad said he i was not sure whether i had left it here or in the office i would not lose that stick for the world a i see said holmes yes sir from charing cross hospital from one or two friends there on the occasion of my marriage dear dear that bad said holmes shaking his head through his in mild astonishment why was it bad only that you have disarranged our little your marriage you say yes sir i married and so left the hospital and with it all hopes of a consulting practice it was necessary to make a home of my own come come we are not so far wrong after all said holmes and now james mister sir humble and a man of mind evidently a in science mr holmes a up of shells on the shores of the great unknown i presume that it is mr sherlock holmes whom i am addressing and no this is my friend glad to meet you sir i have heard your name mentioned in with that of your friend you interest me very much mr holmes i had hardly expected so a or such would you have any objection to my running my finger along your a cast of your sir until the original is would be an ornament to any it is not my intention to be but i confess that i your sherlock holmes our strange visitor into a chair you are an in your line of thought i sir as i am in mine said he i observe from your forefinger that you make your own have no in lighting one the man drew out paper and and the one up in the other with surprising he had long quivering fingers as and restless as the of an insect holmes was silent but his little darting glances showed me the interest which he took in our curious companion i presume sir said he at last that it was not merely for the purpose of examining my that you have done me the to call here last night and again today no sir no though i am happy to have had the opportunity of doing that as well i came to you mr holmes because i recognized that i am myself an man and because i am suddenly confronted with a most serious and extraordinary problem recognizing as i do that you are the second highest in indeed sir may i who has the to be the first asked holmes with some to the man of precisely scientific mind the work of monsieur must always appeal strongly then had you not better consult him i said sir to the precisely scientific mind but as a practical man of affairs it is that you stand alone i trust sir that i have not just a little said holmes i think you would do if without more you would kindly tell me plainly what the exact nature of the problem is in which you demand my assistance the curse of the i have in my pocket a manuscript said james i observed it as you entered the room said holmes it is an old manuscript early century unless it is a how can you say that sir you have an inch or two of it to my all the time that you have been talking it would be a poor who could not give the date of a document within a or so you may possibly have read my little upon the subject i put that at the exact date is drew it from his this family paper was committed to my care by sir whose sudden and tragic death some three months ago created so much excitement in i may say that i was his personal friend as well as his he was a strongminded man sir practical and as as i am myself yet he took this document very seriously and his mind was prepared for just such an end as did overtake him holmes out his hand for the manuscript and it upon his knee you will observe the alternative use of the long and the short it is one of several indications which me to the date i looked over his shoulder at the yellow paper and the faded at the head was written hall and in large figures it appears to be a of some sort yes it is a of a certain legend which runs in the family but i understand that it is something more modern and practical upon which you wish to consult me most modern a most practical pressing matter which must be within twentyfour hours but the manuscript is short and is with the affair with your permission i will read it to you holmes back in his chair placed his together and closed his eyes with an air of resignation turned the manuscript to the light and read in a high voice the following curious of the origin of the of the there have been many yet as i come in a direct line from and as i had the story from my father who also had it from his i have set it down with all belief that it even as is here set forth and i would have you believe my sons that the same justice which may also most graciously forgive it and that no is so heavy but that by prayer and repentance it may be learn then from this story not to fear the of the past but rather to be in the future that those passions our family has suffered so may not again be to our know then that in the time of the great the history of which by the learned lord i most earnestly to your attention this of was held by of that name nor can it be that he was a most wild and man this in truth his neighbours might have seeing that saints have never in those parts but there was in him a certain and cruel which made his name a through the west it that this came to love if indeed so dark a passion may be known under so bright a name the daughter of a who held near the but the young maiden being and of good would ever avoid him for she feared his name so it came to pass that one this with five or six of his idle and wicked stole down upon the farm and carried off the maiden her father and brothers being from home as he well knew when they had brought her to the hall the maiden was placed in an upper chamber while and his friends sat down to a long as was their custom now the poor upstairs was like to have her wits turned at the singing and shouting and terrible which came up to her from for they say that the words used by when he was in wine were such as might blast the man who said them at last in the stress of her fear she did that which might have daunted the bravest or most active man for by the aid of the of which covered and still covers the south wall she came down from under the and so across the there being three the hall and her father farm it that some little time later left his guests to carry food and other worse things his and so found the cage and the bird escaped then as it would seem he became as one that a devil for rushing down the stairs into the he upon the great table and flying before him and he cried before all the company that he would that very night his body and soul to the powers of if he might but overtake the and while the stood aghast at the fury of the man one more wicked or it may be more than the rest cried out that they should put the upon her ran from the house crying to his that they should his mare and the pack and giving the a of the maid he them to the line and so off full cry in the moonlight over the now for some space the stood unable to understand all that had been done in such haste but their wits to the nature of the deed which was like to be done upon the everything was now in an some calling for their pistols some for their horses and some for another of wine but at length some sense came back to their minds and the whole of them in number took horse and started in pursuit the clear above them and they swiftly taking that course which the maid must needs have taken if she were to reach her own home they had gone a mile or two when they passed one of the night upon the and they cried to him to know if he had seen the hunt and the man as the story goes was so with fear that he could speak but at last he said that he had indeed seen the unhappy maiden with the upon her track but i have seen more than that said he for passed me upon his black mare and there ran mute behind him such a of hell as god forbid should ever be at my heels so the cursed the shepherd and but soon their skins turned cold for there came a across the and the black mare with white went past with and then the close together for a great fear was on them but they still followed over the though each had he been alone would have been right glad to have turned his horse head slowly in this fashion they came at last upon the these though known for their and their were whimpering in a at the head of a deep or as we call it upon the some away and some with starting and staring eyes gazing down the narrow valley before them the company had come to a more sober men as you may guess than when they started the most of them would by no means advance but three of them the or it may be the most forward down the now it opened into a broad space in which stood two of those great stones still to be seen there which were set by certain forgotten peoples in the days of old the was bright upon the clearing and there in the centre lay the unhappy maid where she had fallen dead of fear and of fatigue but it was not the sight of her body nor yet was it that of the body of lying near her which raised the hair upon the heads of these three but it was that standing over and at his throat there stood a thing a great black beast shaped like a yet larger than any that ever mortal eye has upon and even as they looked the thing tore the throat out of on which as it turned its eyes and dripping jaws upon them the three with fear and for dear life still screaming across the one it is said died that very night of what he had seen and the other were but broken men for the rest of their days such is the my sons of the coming of the which is said to have the family so ever since if i have set it down it is because that which is clearly known less terror than that which is but hinted at and guessed nor can it be that many of the family have been unhappy in their which have been sudden bloody and mysterious yet may we shelter ourselves in the infinite goodness of providence which would not the innocent beyond that third or generation which is threatened in holy to that providence my sons i hereby you and i counsel you by way of to from crossing the in those dark hours when the powers of are this from to his sons and john with that they say nothing to their sister elizabeth when had finished reading this singular he his spectacles up on his forehead and across at mr sherlock holmes the and the end of his into the fire well said he do you not find it interesting to a of fairy drew a folded newspaper out of his pocket now mr holmes we will give you something a little more recent this is the chronicle of may of this year it is a short account of the facts at the death of sir which a few days before that date my friend a little forward and his expression became our visitor his and began the recent sudden death of sir whose name has been mentioned as the for at the next has cast a gloom over the though sir had at hall for a comparatively short his of character and extreme had won the affection and respect of all who had been brought into with him in these days of it is to find a case where the of an old family which has fallen upon days is able to make his own fortune and to bring it back with him to restore the fallen grandeur of his line sir as is well known made large of money in south african more wise than those who go on until the wheel turns against them he his and returned to england with them it is only two years since he took up his at hall and it is common talk how large were those of and which have been interrupted by his death being himself childless it was his openly expressed desire that the whole should within his own lifetime profit by his good fortune and many will have personal reasons for his end his generous to local and charities have been frequently in these the circumstances with the death of sir can not be said to have been entirely cleared up by the but at least enough has been done to dispose of those to which local superstition has given rise there is no reason whatever to suspect play or to imagine that death could be from any but natural sir was a and a man who may be said to have been in some ways of an eccentric habit of mind in spite of his considerable wealth he was simple in his personal tastes and his servants at hall of a married couple named the husband acting as and the wife as housekeeper their evidence by that of several friends to show that sir health has for some time been and points especially to some affection of the heart itself in changes of and acute attacks of nervous depression james the friend and of the has given evidence to the same effect the facts of the case are simple sir was in the habit every night before going to bed of walking down the famous yew of hall the evidence of the shows that this had been his custom on the of may sir had his intention of starting next day for london and had ordered to prepare his luggage that night he went out as usual for his walk in the course of which he was in the habit of smoking a he never returned at twelve o clock finding the hall door still open became alarmed and lighting a went in search of his master the day had been wet and sir were easily down the down this walk there is a gate which leads out on to the there were indications that sir had stood for some little time here he then down the and it was at the far end of it that his body was discovered one fact which has not been explained is the of that his master altered their character from the time that he passed the and that he appeared from to have been walking upon his toes one a was on the at no great distance at the time but he appears by his own confession to have been the worse for drink he declares that he heard cries but is unable to state from what direction they came no signs of were to be discovered upon sir person and though the doctor evidence pointed to an almost great that refused at first to believe that it was indeed his friend and patient who lay before was explained that that is a which is not unusual in cases of and death from exhaustion this explanation was borne out by the which showed disease and the returned a in with the evidence it is well that this is so for it is obviously of the importance that sir should settle at the hall and continue the good work which has been so sadly interrupted had the prosaic finding of the not finally put an end to the romantic stories which have been in with the affair it might have been difficult to find a for hall it is understood that the next of is mr henry if he be still alive the son of sir younger brother the young man when last heard of was in america and are being with a view to him of his good fortune his paper and it in his pocket those are the public facts mr holmes in with the death of sir i must thank you said sherlock holmes for calling my attention to a case which certainly presents some features of interest i had observed some newspaper at the time but i was preoccupied by that little affair of the and in my anxiety to oblige the i lost touch with several interesting english cases this article you say contains all the public facts it does then let me have the private ones he back put his together and his most and judicial expression in doing so said who had begun to show signs of some strong emotion i am telling that which i have not to anyone my for it from the is that a man of science shrinks from placing himself in the public position of seeming to a popular superstition i had the further that hall as the paper says would certainly remain if anything were done to increase its already rather grim reputation for both these reasons i thought that i was justified in telling rather less than i knew since no practical good could result from it but with you there is no reason why i should not be perfectly frank the is very and those who live near each other are thrown very much together for this reason i saw a good deal of sir with the exception of mr of hall and mr the there are no other men of education within many miles sir was a retiring man but the chance of his brought us together and a community of interests in science kept us so he had brought back much scientific from south africa and many a charming evening we have spent together discussing the of the and the hottentot within the last few months it became plain to me that sir nervous system was strained to the breaking point he had taken this legend which i have read you to much so that he would walk in his own grounds nothing would induce him to go out upon the at night as it may appear to you mr holmes he was honestly convinced that a dreadful fate his family and certainly the records which he was able to give of his were not encouraging the idea of some presence constantly him and on more than one occasion he has asked me whether i had on my at night ever seen any strange creature or heard the of a the question he put to me several times and always with a voice which with excitement i can well remember driving up to his house in the evening some three weeks before the he to be at his hall door i had from my and was standing in front of him when i saw his eyes themselves over my shoulder and stare past me with an expression of the most dreadful horror i round and had just time to catch a glimpse of something which i took to be a large black passing at the head of the drive so excited and alarmed was he that i was compelled to go down to the spot where the animal had been and look around for it it was gone however and the incident appeared to make the worst impression upon his mind i with him all the evening and it was on that occasion to explain the emotion which he had shown that he to my keeping that which i read to you when first i came i mention this small episode because it some importance in view of the tragedy which followed but i was convinced at the time that the matter was entirely trivial and that his excitement had no it was at my advice that sir was about to go to london his heart was i knew affected and the constant anxiety in which he lived however the cause of it might be was evidently having a serious effect upon his health i thought that a few months among the of town would send him back a new man mr a friend who was much concerned at his state of health was of the same opinion at the last instant came this terrible on the night of sir death the who made the sent the groom on horseback to me and as i was sitting up late i was able to reach hall within an hour of the i checked and all the facts which were mentioned at the i followed the footsteps down the yew i saw the spot at the where he seemed to have waited i the change in the shape of the after that point i noted that there were no other footsteps save those of on the soft gravel and finally i carefully examined the body which had not been touched until my arrival sir lay on his face his arms out his fingers into the ground and his features with some strong emotion to such an extent that i could hardly have sworn to his identity there was certainly no physical injury of any kind but one false was made by at the he said that there were no upon the ground round the body he did not observe any but i little distance off but fresh and clear a man or a woman looked at us for an instant and his voice almost to a whisper as he mr holmes they were the of a the problem i confess at these words a passed through me there was a in the doctor voice which showed that he was himself deeply moved by that which he told us holmes forward in his excitement and his eyes had the hard dry which shot from them when he was keenly interested you saw this as clearly as i see you and you said nothing what was the use how was it that no one else saw it the were some twenty yards from the body and no one gave them a thought i don suppose i should have done so had i not known this legend there are many on the no doubt but this was no you say it was large enormous but it had not approached the body no what sort of night was it and raw but not actually no what is the like there are two lines of old yew twelve feet high and impenetrable the walk in the centre is about eight feet across is there anything between the and the walk yes there is a strip of about six feet broad on either side i understand that the yew is at one point by a gate yes the which leads on to the is there any other opening none so that to reach the yew one either has to come down it from the house or else to enter it by the there is an exit through a at the far end had sir reached this no he lay about fifty yards from it now tell me this is which you saw were on the path and not on the no could show on the were they on the same side of the path as the yes they were on the edge of the path on the same side as the you interest me another point was the closed closed and how high was it about four feet high then anyone could have got over it yes and what did you see by the none in particular good heaven did no one yes i examined myself and found nothing it was all very confused sir had evidently stood there for five or ten minutes how do you know that because the ash had twice dropped from his excellent this is a after our own heart but the he had left his own all over that small of gravel i could no others sherlock holmes struck his hand against his knee with an impatient gesture if i had only been there he cried it is evidently a case of extraordinary interest and one which immense to the scientific that gravel page upon which i might have read so much has been long ere this by the rain and by the of curious peasants oh to think that you should not have called me in you have indeed much to answer for i could not call you in mr holmes without these facts to the world and i have already given my reasons for not to do so besides why do you hesitate there is a realm in which the most acute and most experienced of is helpless you mean that the thing is i did not positively say so no but you evidently think it since the tragedy mr holmes there have come to my ears several which are hard to reconcile with the settled order of nature for example i find that before the terrible several people had seen a creature upon the which with this demon and which could not possibly be any animal known to science they all agreed that it was a huge creature and i have these men one of them a hardheaded one a and one a farmer who all tell the same story of this dreadful exactly to the of the legend i assure you that there is a reign of terror in the district and that it is a man who will cross the at night and you a trained man of science believe it to be i do not know what to believe holmes his shoulders i have confined my to this world said he in a modest way i have but to take on the father of himself would perhaps be too ambitious a task yet you must admit that the is material the original was material enough to a man throat out and yet he was diabolical as well i see that you have quite gone over to the but now tell me this if you hold these views why have you come to consult me at all you tell me in the same breath that it is useless to sir death and that you desire me to do it i did not say that i desired you to do it then how can i assist you by me as to what i should do with sir henry who at station looked at his in exactly one hour and a quarter he being the yes on the death of sir we for this young gentleman and found that he had been in from the accounts which have reached us he is an excellent fellow in every way i speak now not as a man but as a trustee and of sir will there is no other i presume none the only other whom we have been able to trace was the of three brothers of whom poor sir was the elder the second brother who died young is the father of this lad henry the third was the black sheep of the family he came of the old masterful strain and was the very image they tell me of the family picture of old he made england too hot to hold him to central america and died there in of yellow fever henry is the last of the in one hour and five minutes i meet him at station i have had a that he arrived at southampton this morning now mr holmes what would you advise me to do with him why should he not go to the home of his fathers it seems natural does it not and yet consider that every who goes there meets with an fate i feel sure that if sir could have spoken with me before his death he would have warned me against bringing this the last of the old race and the to great wealth to that deadly place and yet it can not be that the of the whole poor depends upon his presence all the good work which has been done by sir will to the ground if there is no of the hall i fear lest i should be too much by my own obvious interest in the matter and that is why i bring the case before you and ask for your advice holmes considered for a little time put into plain words the matter is this said he in your opinion there is a diabolical which makes an abode for a is your opinion at least i might go the length of saying that there is some evidence that this may be so exactly but surely if your be correct it could work the young man in london as easily as in a devil with merely local powers like a would be too inconceivable a thing you put the matter more flippantly mr holmes than you would probably do if you were brought into personal with these things your advice then as i understand it is that the young man will be as safe in as in london he comes in fifty minutes what would you recommend i recommend sir that you take a cab call off your who is at my front door and proceed to to meet sir henry and then and then you will say nothing to him at all until i have made up my mind about the matter how long will it take you to make up your mind twentyfour hours at ten o clock tomorrow i will be much obliged to you if you will call upon me here and it will be of help to me in my plans for the future if you will bring sir henry with you i will do so mr holmes he the on his and hurried off in his strange peering fashion holmes stopped him at the head of the only one more question you say that before sir death several people saw this upon the three people did did any see it after i have not heard of any thank you goodmorning holmes returned to his seat with that quiet look of satisfaction which meant that he had a task before him going out unless i can help you no my dear fellow it is at the hour of action that i turn to you for aid but this is splendid really from some points of view when you pass would you ask him to send up a pound of the strongest thank you it would be as well if you could make it convenient not to return before evening then i should be very glad to compare as to this most interesting problem which has been submitted to us this morning i knew that and solitude were very necessary for my friend in those hours of intense during which he every of evidence alternative one against the other and made up his mind as to which points were essential and which i therefore spent the day at my club and did not return to street until evening it was nearly nine o clock when i found myself in the sittingroom once more my first impression as i opened the door was that a fire had broken out for the room was so filled with that the light of the lamp upon the table was by it as i entered however my were set at rest for it was the fumes of strong coarse which took me by the throat and set me through the i had a vague vision of holmes in his dressinggown up in an with his black clay pipe between his lips several rolls of paper lay around him caught cold said he no it this atmosphere i suppose it is pretty thick now that you mention it thick it is intolerable open the window then you have been at your club all day i my dear holmes am i right certainly but how he laughed at my bewildered expression there is a delightful freshness about you which makes it a pleasure to exercise any small powers which i possess at your expense a gentleman goes forth on a and day he returns in the evening with the still on his hat and his boots he has been a therefore all day he is not a man with intimate friends where then could he have been is it not obvious well it is rather obvious the world is full of obvious things which nobody by any chance ever where do you think that i have been a also on the contrary i have been to in spirit exactly my body has remained in this and has i to observe in my absence two large pots of coffee and an of after you left i sent down to for the of this portion of the and my spirit has over it all day i flatter myself that i could find my way about a i presume very large he one section and held it over his knee here you have the particular district which concerns us that is hall in the middle with a wood round it exactly i fancy the yew though not marked under that name must stretch along this line with the as you upon the right of it this small clump of here is the hamlet of where our friend has his within a of five miles there are as you see only a very few scattered here is hall which was mentioned in the there is a house here which may be the of the if i remember right was his name here are two high and then fourteen miles away the great of between and around these scattered points the this then is the stage upon which tragedy has been played and upon which we may help to play it again it must be a wild place yes the setting is a worthy one if the devil did desire to have a hand in the affairs of then you are yourself to the explanation the devil agents may be of flesh and blood may they not there are two questions waiting for us at the the one is whether any crime has been committed at all the second is what is the crime and how was it committed of course if should be correct and we are with forces outside the ordinary laws of nature there is an end of our but we are bound to all other before falling back upon this one i think we shut that window again if you don mind it is a singular thing but i find that a atmosphere helps a of thought i have not it to the length of getting into a box to think but that is the outcome of my convictions have you turned the case over in your mind yes i have thought a good deal of it in the course of the day what do you make of it it is very it has certainly a character of its own there are points of distinction about it that change in the for example what do you make of that said that the man had walked on tiptoe down that portion of the he only repeated what some fool had said at the why should a man walk on tiptoe down the what then he was running desperately running for his life running until he burst his fell dead upon his face running from what there lies our problem there are indications that the man was with fear before ever he began to run how can you say that i am that the cause of his came to him across the if that were so and it seems most only a man who had lost his wits would have run from the house instead of towards it if the evidence may be taken as true he ran with cries for help in the direction where help was least likely to be then again whom was he waiting for that night and why was he waiting for him in the yew rather than in his own house you think that he was waiting for someone the man was elderly and we can understand his taking an evening but the ground was and the night is it natural that he should stand for five or ten minutes as with more practical sense than i should have given him credit for from the ash but he went out every evening i think it that he waited at the every evening on the contrary the evidence is that he avoided the that night he waited there it was the night before he made his for london the thing takes shape it becomes might i ask you to hand me my violin and we will all further thought upon this business until we have had the advantage of meeting and sir henry in the morning sir henry our breakfast table was cleared early and holmes waited in his dressinggown for the promised our clients were to their for the clock had just struck ten when was shown up followed by the young the was a small darkeyed man about thirty years of age very built with thick black eyebrows and a strong pugnacious face he wore a suit and had the appearance of one who has spent most of his time in the open air and yet there was something in his steady eye and the quiet of his bearing which the gentleman this is sir henry said why yes said he and the strange thing is mr sherlock holmes that if my friend here had not proposed coming round to you this morning i should have come on my own account i understand that you think out little and i had one this morning which wants more thinking out than i am able to give it pray take a seat sir henry do i understand you to say that you have yourself had some remarkable experience since you arrived in london nothing of much importance mr holmes only a joke as like as not it was this letter if you can call it a letter which reached me this morning he laid an envelope upon the table and we all bent over it it was of common quality in the address sir henry hotel was printed in rough characters the charing cross and the date of the evening who knew that you were going to the hotel asked holmes glancing keenly across at our visitor no one could have known we only after i met but was no doubt already stopping there no i had been staying with a friend said the doctor there was no possible that we intended to go to this hotel someone seems to be very deeply interested in your movements out of the envelope he took a of foolscap paper folded into four this he opened and spread flat upon the table across the middle of it a single sentence had been formed by the of printed words upon it it ran as you value your life or your reason keep away from the the word only was printed in ink now said sir henry perhaps you will tell me mr holmes what in thunder is the meaning of that and who it is that takes so much interest in my affairs what do you make of it you must allow that there is nothing about this at any rate no sir but it might very well come from someone who was convinced that the business is what business asked sir henry sharply it seems to me that all you gentlemen know a great deal more than i do about my own affairs you shall share our knowledge before you leave this room sir henry i promise you that said sherlock holmes we will ourselves for the present with your permission to this very interesting document which must have been put together and yesterday evening have you yesterday times it is here in the corner might i trouble you for inside page please with the leading articles he swiftly over it running his eyes up and down the capital article this on free trade permit me to give you an from it you may be into that your own special trade or your own will be encouraged by a but it stands to reason that such must in the long run keep away wealth from the country the value of our and lower the general conditions of life in this what do you think of that cried holmes in high his hands together with satisfaction don you think that is an sentiment looked at holmes with an air of professional interest and sir henry turned a pair of puzzled dark eyes upon me i don know much about the and things of that kind said he but it seems to me we got a bit off the trail so far as that note is concerned on the contrary i think we are particularly hot upon the trail sir henry here knows more about my methods than you do but i fear that even he has not quite grasped the of this sentence no i confess that i see no and yet my dear there is so very close a that the one is out of the other you your your life reason value keep away from the don you see now these words have been taken by thunder you right well if that smart cried sir henry if any possible doubt remained it is settled by the fact that keep away and from the are cut out in one piece well it is really mr holmes this anything which i could have said gazing at my friend in amazement i could understand anyone saying that the words were from a newspaper but that you should name which and add that it came from the leading article is really one of the most remarkable things which i have ever known how did you do it i presume doctor that you could tell the of a from that of an most certainly but how because that is my special hobby the are obvious the the the but this is my special hobby and the are equally obvious there is as much difference to my eyes between the bourgeois type of a times article and the slovenly of an evening halfpenny paper as there could be between your and your the of is one of the most of knowledge to the special in crime though i confess that once when i was very young i confused the with the western morning news but a times leader is entirely and these words could have been taken from nothing else as it was done yesterday the strong was that we should find the words in yesterday issue so far as i can follow you then mr holmes said sir henry someone cut out this message with a said holmes you can see that it was a very since the had to take two over keep away that is so someone then cut out the message with a pair of it with said holmes with on to the paper but i want to know why the word should have been written because he could not find it in the other words were all simple and might be found in any issue but would be less common why of course that would explain it have you read anything else in this message mr holmes there are one or two indications and yet the pains have been taken to all the address you observe is printed in rough characters but the times is a paper which is seldom found in any hands but those of the highly educated we may take it therefore that the letter was by an educated man who wished to pose as an uneducated one and his effort to conceal his own writing that that writing might be known or come to be known by you again you will observe that the words are not on in an accurate line but that some are much higher than others life for example is quite out of its proper place that may point to or it may point to and hurry upon the part of the on the whole i to the view since the matter was evidently important and it is that the of such a letter would be careless if he were in a hurry it opens up the interesting question why he should be in a hurry since any letter up to early morning would reach sir henry before he would leave his hotel did the fear an from whom we are coming now rather into the of said say rather into the where we and choose the most likely it is the scientific use of the imagination but we have always some material basis on which to start our now you would call it a guess no doubt but i am almost certain that this address has been written in a hotel how in the world can you say that if you it carefully you will see that both the pen and the ink have given the trouble the pen has twice in a single word and has run dry three times in a short address showing that there was very little ink in the bottle now a private pen or is seldom allowed to be in such a state and the of the two must be quite but you know the hotel ink and the hotel pen where it is to get anything else yes i have very little in saying that could we the wastepaper of the hotels around charing cross until we found the remains of the mutilated times leader we could lay our hands straight upon the person who sent this singular message what this he was carefully examining the foolscap upon which the words were holding it only an inch or two from his eyes well nothing said he throwing it down it is a of paper without even a upon it i think we have as much as we can from this curious letter and now sir henry has anything else of interest happened to you since you have been in london why no mr holmes i think not you have not observed anyone follow or watch you i seem to have walked right into the thick of a novel said our visitor why in thunder should anyone follow or watch me we are coming to that you have nothing else to to us before we go into this matter well it depends upon what you think worth i think anything out of the ordinary routine of life well worth sir henry i don know much of british life yet for i have spent nearly all my time in the and in but i hope that to lose one of your boots is not part of the ordinary routine of life over here you have lost one of your boots my dear sir cried it is only mislaid you will find it when you return to the hotel what is the use of mr holmes with of this kind well he asked me for anything outside the ordinary routine exactly said holmes however foolish the incident may seem you have lost one of your boots you say well mislaid it anyhow i put them both outside my door last night and there was only one in the morning i could get no sense out of the chap who them the worst of it is that i only bought the pair last night in the strand and i have never had them on if you have never worn them why did you put them out to be they were boots and had never been that was why i put them out then i understand that on your arrival in london yesterday you went out at once and bought a pair of boots i did a good deal of here went round with me you see if i am to be down there i must dress the part and it may be that i have got a little careless in my ways out west among other things i bought these brown six dollars for had one stolen before ever i had them on my feet it seems a useless thing to steal said sherlock holmes i confess that i share belief that it will not be long before the missing is found and now gentlemen said the with decision it seems to me that i have spoken quite enough about the little that i know it is time that you kept your promise and gave me a full account of what we are all driving at your request is a very reasonable one holmes i think you could not do better than to tell your story as you told it to us thus encouraged our scientific friend drew his papers from his pocket and the whole case as he had done upon the morning before sir henry listened with the deepest attention and with an occasional exclamation of surprise well i seem to have come into an with a vengeance said he when the long was finished of course i heard of the ever since i was in the nursery it the pet story of the family though i never thought of taking it seriously before but as to my uncle it all seems up in my head and i can get it clear yet you don seem quite to have made up your mind whether it a case for a policeman or a clergyman precisely and now there this affair of the letter to me at the hotel i suppose that fits into its place it seems to show that someone knows more than we do about what goes on upon the said and also said holmes that someone is not towards you since they warn you of danger or it may be that they wish for their own purposes to me away well of course that is possible also i am very much to you for introducing me to a problem which presents several interesting but the practical point which we now have to decide sir henry is whether it is or is not for you to go to hall why should i not go there seems to be danger do you mean danger from this family or do you mean danger from human well that is what we have to find out it is my answer is fixed there is no devil in hell mr holmes and there is no man upon earth who can prevent me from going to the home of my own people and you may take that to be my final answer his dark brows and his face to a red as he spoke it was that the temper of the was not in this their last meanwhile said he i have hardly had time to think over all that you have told me it a big thing for a man to have to understand and to decide at one sitting i should like to have a quiet hour by myself to make up my mind now look here mr holmes it halfpast eleven now and i am going back right away to my hotel suppose you and your friend come round and lunch with us at two i be able to tell you more clearly then how this thing strikes me is that convenient to you perfectly then you may expect us shall i have a cab called i d prefer to walk for this affair has me rather i join you in a walk with pleasure said his companion then we meet again at two o clock and goodmorning we heard the steps of our visitors descend the and the bang of the front door in an instant holmes had changed from the to the man of action your hat and boots quick not a moment to lose he into his room in his dressinggown and was back again in a few in a frockcoat we hurried together down the stairs and into the street and were still visible about two hundred yards ahead of us in the direction of oxford street shall i run on and stop them not for the world my dear i am perfectly satisfied with your company if you will tolerate mine our friends are wise for it is certainly a very fine morning for a walk he his pace until we had the distance which divided us by about half then still keeping a hundred yards behind we followed into oxford street and so down regent street once our friends stopped and into a shop window upon which holmes did the same an instant afterwards he gave a little cry of satisfaction and following the direction of his eager eyes i saw that a hansom cab with a man inside which had on the other side of the street was now proceeding slowly again there our man come along we have a good look at him if we can do no more at that instant i was aware of a black beard and a pair of piercing eyes turned upon us through the side window of the cab instantly the at the top up something was screamed to the driver and the cab off down regent street holmes looked eagerly round for another but no one was in sight then he dashed in wild pursuit the stream of the but the start was too great and already the cab was out of sight there now said holmes bitterly as he panting and white with vexation from the of was ever such bad luck and such bad too if you are an honest man you will record this also and set it against my who was the man i have not an idea a spy well it was from what we have heard that has been very closely by someone since he has been in town how else could it be known so quickly that it was the hotel which he had chosen if they had followed him the first day i argued that they would follow him also the second you may have observed that i twice over to the window while was reading his legend yes i remember i was looking out for in the street but i saw none we are with a clever man this matter cuts very deep and though i have not finally made up my mind whether it is a or a which is in touch with us i am conscious always of power and when our friends left i at once followed them in the hopes of down their so was he that he had not trusted himself upon foot but he had himself of a cab so that he could behind or dash past them and so escape their notice his had the additional advantage that if they were to take a cab he was all ready to follow them it has however one obvious disadvantage it puts him in the power of the exactly what a pity we did not get the number my dear clumsy as i have been you surely do not seriously imagine that i neglected to get the number no is our man but that is no use to us for the moment i fail to see how you could have done more on the cab i should have instantly turned and walked in the other direction i should then at my leisure have hired a second cab and followed the first at a respectful distance or better still have driven to the hotel and waited there when our unknown had followed home we should have had the opportunity of playing his own game upon himself and seeing where he made for as it is by an indiscreet eagerness which was taken advantage of with extraordinary quickness and energy by our opponent we have betrayed ourselves and lost our man we had been slowly down regent street during this conversation and with his companion had long in front of us there is no object in our following them said holmes the has and will not return we must see what further cards we have in our hands and play them with decision could you swear to that man face within the cab i could swear only to the beard and so could which i gather that in all it was a false one a clever man upon so delicate an has no use for a beard save to conceal his features come in here he turned into one of the district messenger where he was warmly by the manager ah i see you have not forgotten the little case in which i had the good fortune to help you no sir indeed i have not you saved my good name and perhaps my life my dear fellow you i have some recollection that you had among your boys a lad named who showed some ability during the yes sir he is still with us could you ring him you and i should be glad to have change of this fivepound note a lad of fourteen with a bright keen face had the of the manager he stood now gazing with great reverence at the famous detective let me have the hotel directory said holmes thank you now there are the names of twentythree hotels here all in the of charing cross do you see yes sir you will visit each of these in turn yes sir you will begin in each case by giving the outside one shilling here are twentythree yes sir you will tell him that you want to see the wastepaper of yesterday you will say that an important telegram has and that you are looking for it you understand yes sir but what you are really looking for is the centre page of the times with some holes cut in it with here is a copy of the times it is this page you could easily recognize it could you not yes sir in each case the outside will send for the hall to whom also you will give a shilling here are twentythree you will then learn in possibly twenty cases out of the twentythree that the waste of the day before has been or in the three other cases you will be shown a heap of paper and you will look for this page of the times among it the odds are enormously against your finding it there are ten over in case of let me have a by at street before evening and now it only remains for us to find out by the identity of the no and then we will drop into one of the bond street picture and fill in the time until we are due at the hotel three broken sherlock holmes had in a very remarkable degree the power of his mind at will for two hours the strange business in which we had been appeared to be forgotten and he was entirely absorbed in the pictures of the modern masters he would talk of nothing but art of which he had the ideas from our leaving the gallery until we found ourselves at the hotel sir henry is upstairs expecting you said the clerk he asked me to show you up at once when you came have you any objection to my looking at your said holmes not in the least the book showed that two names had been after that of one was and family of the other mrs and maid of high surely that must be the same whom i used to know said holmes to the a lawyer is he not and walks with a no sir this is mr the a very active gentleman not older than yourself surely you are mistaken about his trade no sir he has used this hotel for many years and he is very well known to us ah that settles it mrs too i seem to remember the name excuse my curiosity but often in calling upon one friend one finds another she is an lady sir her husband was once mayor of she always comes to us when she is in town thank you i am afraid i can not claim her acquaintance we have established a most important fact by these questions he continued in a low voice as we went upstairs together we know now that the people who are so interested in our friend have not settled down in his own hotel that means that while they are as we have seen very anxious to watch him they are equally anxious that he should not see them now this is a most fact what does it suggest it my dear fellow what on earth is the matter as we came round the top of the stairs we had run up against sir henry himself his face was with anger and he held an old and dusty in one of his hands so furious was he that he was hardly articulate and when he did speak it was in a much and more western dialect than any which we had heard from him in the morning seems to me they are playing me for a in this hotel he cried they find they started in to monkey with the wrong man unless they are careful by thunder if that chap can find my missing there will be trouble i can take a joke with the best mr holmes but they got a bit over the mark this time still looking for your yes sir and mean to find it but surely you said that it was a new brown so it was sir and now it an old black one what you don mean to that just what i do mean to say i only had three pairs in the new brown the old black and the patent which i am wearing last night they took one of my brown ones and today they have one of the black well have you got it speak out man and don stand staring an german waiter had appeared upon the scene no sir i have made all over the hotel but i can hear no word of it well either that comes back before or i see the manager and tell him that i go right straight out of this hotel it shall be found promise you that if you will have a little patience it will be found mind it is for it the last thing of mine that i lose in this of well well mr holmes you excuse my you about such a i think it well worth about why you look very serious over it how do you explain it i just don attempt to explain it it seems the very maddest thing that ever happened to me the said holmes thoughtfully what do you make of it yourself well i don profess to understand it yet this case of yours is very sir henry when taken in with your uncle death i am not sure that of all the five hundred cases of capital importance which i have there is one which cuts so deep but we hold several in our hands and the odds are that one or other of them us to the truth we may waste time in following the wrong one but sooner or later we must come upon the right we had a pleasant in which little was said of the business which had brought us together it was in the private sittingroom to which we afterwards that holmes asked what were his intentions to go to hall and when at the end of the week on the whole said holmes i think that your decision is a wise one i have evidence that you are being dogged in london and the millions of this great city it is difficult to discover who these people are or what their object can be if their intentions are they might do you a mischief and we should be to prevent it you did not know that you were followed this morning from my house started violently followed by whom that unfortunately is what i can not tell you have you among your neighbours or on any man with a black full beard let me yes sir is a man with a full black beard ha where is he is in charge of the hall we had best if he is really there or if by any possibility he might be in london how can you do that give me a form is all ready for sir henry that will do address to mr hall what is the nearest very good we will send a second to the telegram to mr to be delivered into his own hand if absent please return to sir henry hotel that should let us know before evening whether is at his in or not that so said by the way who is this anyhow he is the son of the old who is dead they have looked after the hall for four now so far as i know he and his wife are as respectable a couple as any in the at the same time said it clear enough that so long as there are none of the family at the hall these people have a mighty fine home and nothing to do that is true did profit at all by sir will asked holmes he and his wife had five hundred pounds each ha did they know that they would receive this yes sir was very fond of talking about the of his will that is very interesting i hope said that you do not look with suspicious eyes upon everyone who received a from sir for i also had a thousand pounds left to me indeed and anyone else there were many insignificant to individuals and a large number of public charities the all went to sir henry and how much was the seven hundred and forty thousand pounds holmes raised his eyebrows in surprise i had no idea that so a sum was said he sir had the reputation of being rich but we did not know how very rich he was until we came to his the total value of the was close on to a dear me it is a stake for which a man might well play a desperate game and one more question that anything happened to our young friend will forgive the would the since sir younger brother died unmarried the would descend to the who are distant james is an elderly clergyman in thank you these are all of great interest have you met mr james yes he once came down to visit sir he is a man of appearance and of life i remember that he refused to accept any from sir though he it upon him and this man of simple tastes would be the to sir he would be the to the because that is he would also be the to the money unless it were otherwise by the present owner who can of course do what he likes with it and have you made your will sir henry no mr holmes i have not i had no time for it was only yesterday that i learned how matters stood but in any case i feel that the money should go with the title and that was my poor uncle idea how is the owner going to restore the of the if he has not money enough to keep up the property house land and dollars must go together quite so well sir henry i am of one mind with you as to the advisability of your going down to without delay there is only one which i must make you certainly must not go alone returns with me but has his practice to attend to and his house is miles away from yours with all the in the world he may be unable to help you no sir henry you must take with you someone a man who will be always by your side is it possible that you could come yourself mr holmes if matters came to a crisis i should to be present in person but you can understand that with my consulting practice and with the constant appeals which reach me from many quarters it is impossible for me to be absent from london for an time at the present instant one of the most names in england is being by a and only i can stop a disastrous you will see how impossible it is for me to go to whom would you recommend then holmes laid his hand upon my arm if my friend would undertake it there is no man who is better worth having at your side when you are in a tight place no one can say so more confidently than i the took me completely by surprise but before i had time to answer seized me by the hand and it heartily well now that is real kind of you said he you see how it is with me and you know just as much about the matter as i do if you will come down to hall and see me through i never forget it the promise of adventure had always a fascination for me and i was complimented by the words of holmes and by the eagerness with which the me as a companion i will come with pleasure said i i do not know how i could employ my time better and you will very carefully to me said holmes when a crisis comes as it will do i will direct how you shall act i suppose that by saturday all might be ready would that suit perfectly then on saturday unless you hear to the contrary we shall meet at the train from we had risen to when gave a cry of triumph and diving into one of the corners of the room he drew a brown from under a cabinet my missing he cried may all our difficulties vanish as easily said sherlock holmes but it is a very singular thing i searched this room carefully before lunch and so did i said every inch of it there was certainly no in it then in that case the waiter must have placed it there while we were the german was sent for but to know nothing of the matter nor could any clear it up another had been to that constant and apparently series of small mysteries which had succeeded each other so setting aside the whole grim story of sir death we had a line of all within the limits of two days which included the of the printed letter the spy in the hansom the loss of the new brown the loss of the old black and now the return of the new brown holmes sat in silence in the cab as we drove back to street and i knew from his brows and keen face that his mind like my own was busy in to frame some into which all these strange and apparently episodes could be fitted all afternoon and late into the evening he sat lost in and thought just before dinner two telegrams were in the first ran have just heard that is at the hall the second visited twentythree hotels as directed but sorry to unable to trace cut sheet of times there go two of my there is nothing more than a case where everything goes against you we must cast round for another we have still the who drove the spy exactly i have to get his name and address from the official i should not be surprised if this were an answer to my question the ring at the bell to be something even more satisfactory than an answer however for the door opened and a fellow entered who was evidently the man himself i got a message from the head office that a gent at this address had been inquiring for no said he i driven my cab this seven years and never a word of complaint i came here straight from the yard to ask you to your face what you had against me i have nothing in the world against you my good man said holmes on the contrary i have half a sovereign for you if you will give me a clear answer to my questions well i had a good day and no mistake said the with a grin what was it you wanted to ask sir first of all your name and address in case i want you again john street the my cab is out of yard near station sherlock holmes made a note of it now tell me all about the fare who came and this house at ten o clock this morning and afterwards followed the two gentlemen down regent street the man looked surprised and a little embarrassed why there no good my telling you things for you seem to know as much as i do already said he the truth is that the gentleman told me that he was a detective and that i was to say nothing about him to anyone my good fellow this is a very serious business and you may find yourself in a pretty bad position if you try to hide anything from me you say that your fare told you that he was a detective yes he did when did he say this when he left me did he say anything more he mentioned his name holmes cast a swift glance of triumph at me oh he mentioned his name did he that was what was the name that he mentioned his name said the was mr sherlock holmes never have i seen my friend more completely taken aback than by the for an instant he sat in silent amazement then he burst into a hearty laugh a touch touch said he i feel a as quick and as my own he got home upon me very that time so his name was sherlock holmes was it yes sir that was the gentleman name excellent tell me where you picked him up and all that he me at halfpast nine in trafalgar square he said that he was a detective and he offered me two guineas if i would do exactly what he wanted all day and ask no questions i was glad enough to agree first we drove down to the hotel and waited there until two gentlemen came out and took a cab from the rank we followed their cab until it pulled up somewhere near here this very door said holmes well i be sure of that but i dare say my fare knew all about it we pulled up down the street and waited an hour and a half then the two gentlemen passed us walking and we followed down street and i know said holmes until we got down regent street then my gentleman threw up the trap and he cried that i should drive right away to station as hard as i could go i up the mare and we were there under the ten minutes then he paid up his two guineas like a good one and away he went into the station only just as he was leaving he turned round and he said it might interest you to know that you have been driving mr sherlock holmes that how i come to know the name i see and you saw no more of him not after he went into the station and how would you describe mr sherlock holmes the his head well he altogether such an easy gentleman to describe i d put him at forty years of age and he was of a middle height two or three inches than you sir he was dressed like a toff and he had a black beard cut square at the end and a pale face i don know as i could say more than that of his eyes no i can say that nothing more that you can remember no sir nothing well then here is your halfsovereign there another one waiting for you if you can bring any more goodnight goodnight sir and thank you john chuckling and holmes turned to me with a shrug of his shoulders and a smile snap goes our third and we end where we began said he the cunning rascal he knew our number knew that sir henry had consulted me spotted who i was in regent street that i had got the number of the cab and would lay my hands on the driver and so sent back this audacious message i tell you this time we have got a who is worthy of our i been in london i can only wish you better luck in but i not easy in my mind about it about what about sending you it an ugly business an ugly dangerous business and the more i see of it the less i like it yes my dear fellow you may laugh but i give you my word that i shall be very glad to have you back safe and sound in street once more hall sir henry and were ready upon the appointed day and we started as arranged for mr sherlock holmes drove with me to the station and gave me his last parting and advice i will not your mind by suggesting or suspicions said he i wish you simply to facts in the possible manner to me and you can leave me to do the what sort of facts i asked anything which may seem to have a bearing however upon the case and especially the relations between young and his neighbours or any fresh particulars the death of sir i have made some myself in the last few days but the results have i fear been one thing only appears to be certain and that is that mr james who is the next is an elderly gentleman of a very amiable disposition so that this does not arise from him i really think that we may eliminate him entirely from our there remain the people who will actually sir henry upon the would it not be well in the first place to get rid of this couple by no means you could not make a greater mistake if they are innocent it would be a cruel and if they are guilty we should be giving up all chance of bringing it home to them no no we will preserve them upon our of suspects then there is a groom at the hall if i remember right there are two there is our friend whom i believe to be entirely honest and there is his wife of whom we know nothing there is this and there is his sister who is said to be a young lady of there is mr of hall who is also an unknown and there are one or two other neighbours these are the folk who must be your very special study i will do my best you have arms i suppose yes i thought it as well to take them most certainly keep your revolver near you night and day and never your our friends had already secured a firstclass carriage and were waiting for us upon the platform no we have no news of any kind said in answer to my friend questions i can swear to one thing and that is that we have not been during the last two days we have never gone out without keeping a sharp watch and no one could have escaped our notice you have always kept together i presume except yesterday afternoon i usually give up one day to pure amusement when i come to town so i spent it at the of the college of and i went to look at the folk in the park said but we had no trouble of any kind it was all the same said holmes shaking his head and looking very grave i beg sir henry that you will not go about alone some great will you if you do did you get your other no sir it is gone indeed that is very interesting well goodbye he as the train began to down the platform bear in mind sir henry one of the in that queer old legend which has read to us and avoid the in those hours of darkness when the powers of are i looked back at the platform when we had left it far behind and saw the tall figure of holmes standing motionless and gazing after us the journey was a swift and pleasant one and i spent it in making the more intimate acquaintance of my two and in playing with in a very few hours the brown earth had become the had changed to and red in where the and more vegetation spoke of a if a climate young eagerly out of the window and cried with delight as he recognized the familiar features of the scenery i been over a good part of the world since i left it said he but i have never seen a place to compare with it i never saw a man who did not swear by his i it depends upon the of men quite as much as on the said a glance at our friend here reveals the head of the which carries inside it the enthusiasm and power of attachment poor sir head was of a very type half half in its but you were very young when you last saw hall were you not i was a boy in my at the time of my father death and had never seen the hall for he lived in a little on the south i went straight to a friend in america i tell you it is all as new to me as it is to and i as keen as possible to see the are you then your wish is easily granted for there is your first sight of the said pointing out of the carriage window over the green of the and the low of a wood there rose in the distance a grey melancholy hill with a strange dim and vague in the distance like some landscape in a dream sat for a long time his eyes fixed upon it and i read upon his eager face how much it meant to him this first sight of that strange spot where the men of his blood had held so long and left their mark so deep there he sat with his suit and his american accent in the corner of a prosaic and yet as i looked at his dark and expressive face i felt more than ever how true a descendant he was of that long line of and masterful men there were pride and strength in his thick brows his sensitive and his large hazel eyes if on that a difficult and dangerous should lie before us this was at least a comrade for whom one might to take a risk with the certainty that he would share it the train pulled up at a small station and we all outside beyond the low white fence a with a pair of was waiting our coming was evidently a great for and round us to carry out our luggage it was a simple country spot but i was surprised to observe that by the gate there stood two soldierly men in dark who upon their short rifles and keenly at us as we passed the coachman a little fellow sir henry and in a few minutes we were flying swiftly down the broad white road rolling upward on either side of us and old houses out from the thick green but behind the and there rose ever dark against the evening sky the long of the broken by the and hills the round into a side road and we upward through deep worn by centuries of wheels high on either side heavy with dripping and bracken and in the light of the sun still steadily rising we passed over a narrow bridge and a stream which gushed swiftly down and roaring the grey both road and stream wound up through a valley with scrub and fir at every turn gave an exclamation of delight looking eagerly about him and asking questions to his eyes all seemed beautiful but to me a of melancholy lay upon the which bore so clearly the mark of the year yellow leaves the and down upon us as we passed the rattle of our wheels died away as we drove through drifts of as it seemed to me for nature to throw before the carriage of the returning of the cried what is this a of land an of the lay in front of us on the hard and clear like an statue upon its pedestal was a soldier dark and stern his rifle ready over his he was watching the road along which we what is this asked our driver half turned in his seat there a escaped from sir he been out three days now and the watch every road and every station but they had no sight of him yet the about here don like it sir and that a fact well i understand that they get five pounds if they can give yes sir but the chance of five pounds is but a poor thing compared to the chance of having your throat cut you see it like any ordinary this is a man that would stick at nothing who is he then it is the hill murderer i remembered the case well for it was one in which holmes had taken an interest on account of the of the crime and the which had marked all the of the the of his death sentence had been due to some as to his complete so was his conduct our had a rise and in front of us rose the huge of the with and and a cold wind swept down from it and set us shivering somewhere there on that plain was this man hiding in a like a wild beast his heart full of against the whole race which had cast him out it needed but this to complete the grim of the barren waste the wind and the sky even fell silent and pulled his overcoat more closely around him we had left the country behind and beneath us we looked back on it now the of a low sun turning the to of gold and glowing on the red earth new turned by the plough and the broad of the the road in front of us grew and over huge and olive slopes with giant now and then we passed a and with stone with no to break its harsh suddenly we looked down into a depression with and which had been and bent by the fury of years of storm two high narrow rose over the trees the driver pointed with his whip hall said he its master had risen and was staring with cheeks and eyes a few minutes later we had reached the a of in iron with pillars on either side with and by the heads of the the was a ruin of black and of but facing it was a new half the first fruit of sir south african gold through the gateway we passed into the avenue where the wheels were again the leaves and the old trees shot their in a tunnel over our heads as he looked up the long dark drive to where the house like a ghost at the farther end was it here he asked in a low voice no no the yew is on the other side the young round with a face it no wonder my uncle felt as if trouble were coming on him in such a place as this said he it enough to any man i have a row of electric lamps up here inside of six months and you won know it again with a thousand and right here in front of the hall door the avenue opened into a broad of turf and the house lay before us in the light i could see that the centre was a heavy block of from which a the whole front was draped in with a clipped bare here and there where a window or a coat of arms broke through the dark from this central block rose the and pierced with many to right and left of the were more modern wings of black a dull light through heavy windows and from the high chimneys which rose from the roof there a single black column of welcome sir henry welcome to hall a tall man had from the of the to open the door of the the figure of a woman was against the yellow light of the hall she came out and helped the man to hand down our you don mind my driving straight home sir henry said my wife is expecting me surely you will stay and have some dinner no i must go i shall probably find some work me i would stay to show you over the house but will be a better guide than i goodbye and never hesitate night or day to send for me if i can be of service the wheels died away down the drive while sir henry and i turned into the hall and the door heavily behind us it was a fine in which we found ourselves large lofty and heavily with huge of in the great oldfashioned fireplace behind the high iron dogs a and sir henry and i held out our hands to it for we were from our long drive then we round us at the high thin window of old stained glass the the heads the coats of arms upon the walls all dim and in the subdued light of the central lamp it just as i it said sir henry is it not the very picture of an old family home to think that this should be the same hall in which for five hundred years my people have lived it strikes me solemn to think of it i saw his dark face lit up with a boyish enthusiasm as he about him the light beat upon him where he stood but long down the walls and hung like a black above him had returned from taking our luggage to our rooms he stood in front of us now with the subdued manner of a servant he was a man tall handsome with a square black beard and pale distinguished features would you wish dinner to be served at once sir is it ready in a very few minutes sir you will find hot water in your rooms my wife and i will be happy sir henry to stay with you until you have made your fresh arrangements but you will understand that under the new conditions this house will a considerable staff what new conditions i only meant sir that sir led a very retired life and we were able to look after his wants you would naturally wish to have more company and so you will need changes in your household do you mean that your wife and you wish to leave only when it is quite convenient to you sir but your family have been with us for several have they not i should be sorry to begin my life here by breaking an old family i seemed to some signs of emotion upon the white face i feel that also sir and so does my wife but to tell the truth sir we were both very much attached to sir and his death gave us a shock and made these surroundings very painful to us i fear that we shall never again be easy in our minds at hall but what do you intend to do i have no doubt sir that we shall succeed in ourselves in some business sir has given us the means to do so and now sir perhaps i had best show you to your rooms a square gallery ran round the top of the old hall approached by a double from this central point two long the whole length of the from which all the opened my own was in the same as and almost next door to it these rooms appeared to be much more modern than the central part of the house and the bright paper and candles did something to the impression which our arrival had left upon my mind but the which opened out of the hall was a place of and gloom it was a long chamber with a step the where the family sat from the lower portion reserved for their at one end a gallery it black beams shot across above our heads with a ceiling beyond them with rows of to light it up and the and rude of an it might have softened but now when two gentlemen sat in the little circle of light thrown by a lamp one voice became and one spirit subdued a dim line of in every of dress from the elizabethan knight to the of the down upon us and daunted us by their silent company we talked little and i for one was glad when the was over and we were able to into the modern and a my word it a very cheerful place said sir henry i suppose one can tone down to it but i feel a bit out of the picture at present i don wonder that my uncle got a little if he lived all alone in such a house as this however if it suits you we will early tonight and perhaps things may seem more cheerful in the morning i drew aside my curtains before i went to bed and looked out from my window it opened upon the space which lay in front of the hall door beyond two of trees and in a rising wind a half broke through the of racing in its cold light i saw beyond the trees a broken of rocks and the long low of the melancholy i closed the curtain feeling that my last impression was in keeping with the rest and yet it was not quite the last i found myself weary and yet restlessly from side to side seeking for the sleep which would not come far away a clock struck out the quarters of the hours but otherwise a silence lay upon the old house and then suddenly in the very dead of the night there came a sound to my ears clear and unmistakable it was the sob of a woman the muffled gasp of one who is torn by an uncontrollable sorrow i sat up in bed and listened intently the noise could not have been far away and was certainly in the house for half an hour i waited with every nerve on the but there came no other sound save the clock and the of the on the wall 7 the of house the fresh beauty of the following morning did something to from our minds the grim and grey impression which had been left upon both of us by our first experience of hall as sir henry and i sat at breakfast the sunlight in through the high windows throwing patches of from the coats of arms which covered them the dark like bronze in the golden and it was hard to that this was indeed the chamber which had struck such a gloom into our souls upon the evening before i guess it is ourselves and not the house that we have to blame said the we were tired with our journey and chilled by our drive so we took a grey view of the place now we are fresh and well so it is all cheerful once more and yet it was not entirely a question of imagination i did you for example happen to hear someone a woman i think sobbing in the night that is curious for i did when i was half asleep fancy that i heard something of the sort i waited quite a time but there was no more of it so i concluded that it was all a dream i heard it distinctly and i am sure that it was really the sob of a woman we must ask about this right away he the bell and asked whether he could account for our experience it seemed to me that the features of the turned a paler still as he listened to his master question there are only two women in the house sir henry he one is the scullerymaid who sleeps in the other the other is my wife and i can answer for it that the sound could not have come from her and yet he lied as he said it for it that after breakfast i met mrs in the long with the sun full upon her face she was a large woman with a stern set expression of mouth but her telltale eyes were red and at me from between swollen it was she then who in the night and if she did so her husband must know it yet he had taken the obvious risk of in that it was not so why had he done this and why did she weep so bitterly already round this handsome man there was an atmosphere of mystery and of gloom it was he who had been the first to discover the body of sir and we had only his word for all the circumstances which led up to the old man death was it possible that it was after all whom we had seen in the cab in regent street the beard might well have been the same the had described a somewhat man but such an impression might easily have been how could i settle the point obviously the first thing to do was to see the and find whether the test telegram had really been placed in own hands be the answer what it might i should at least have something to to sherlock holmes sir henry had papers to after breakfast so that the time was for my it was a pleasant walk of four miles along the edge of the leading me at last to a small grey hamlet in which two larger which to be the and the house of stood high above the rest the who was also the had a clear recollection of the telegram certainly sir said he i had the telegram delivered to mr exactly as directed who delivered it my boy here james you delivered that telegram to mr at the hall last week did you not yes father i delivered it into his own hands i asked well he was up in the at the time so that i could not put it into his own hands but i gave it into mrs hands and she promised to it at once did you see mr no sir i tell you he was in the if you see him how do you know he was in the well surely his own wife ought to know where he is said the testily he get the telegram if there is any mistake it is for mr himself to complain it seemed hopeless to pursue the any farther but it was clear that in spite of holmes we had no proof that had not been in london all the time suppose that it were that the same man had been the last who had seen sir alive and the first to dog the new when he returned to england what then was he the of others or had he some of his own what interest could he have in the family i thought of the strange warning clipped out of the leading article of the times was that his work or was it possibly the doing of someone who was bent upon his the only was that which had been by sir henry that if the family could be scared away a comfortable and home would be secured for the but surely such an explanation as that would be quite to account for the deep and subtle which seemed to be an net round the young holmes himself had said that no more case had come to him in all the long series of his i as i walked back along the grey lonely road that my friend might soon be from his and able to come down to take this heavy burden of responsibility from my shoulders suddenly my thoughts were interrupted by the sound of running feet behind me and by a voice which called me by name i turned expecting to see but to my surprise it was a stranger who was pursuing me he was a small slim man and between thirty and forty years of age dressed in a grey suit and wearing a straw hat a box for hung over his shoulder and he carried a green in one of his hands you will i am sure excuse my said he as he came panting up to where i stood here on the we are folk and do not wait for introductions you may possibly have heard my name from our friend i am of house your net and box would have told me as much said i for i knew that mr was a but how did you know me i have been calling on and he pointed you out to me from the window of his as you passed as our road lay the same way i thought that i would overtake you and introduce myself i trust that sir henry is none the worse for his journey he is very well thank you we were all rather afraid that after the sad death of sir the new might refuse to live here it is asking much of a wealthy man to come down and himself in a place of this kind but i need not tell you that it means a very great deal to the sir henry has i suppose no superstitious in the matter i do not think that it is likely of course you know the legend of the dog which the family i have heard it it is extraordinary how credulous the peasants are about here any number of them are ready to swear that they have seen such a creature upon the he spoke with a smile but i seemed to read in his eyes that he took the matter more seriously the story took a great hold upon the imagination of sir and i have no doubt that it led to his tragic end but how his nerves were so worked up that the appearance of any dog might have had a effect upon his heart i fancy that he really did see something of the kind upon that last night in the yew i feared that some might occur for i was very fond of the old man and i knew that his heart was weak how did you know that my friend told me you think then that some dog pursued sir and that he died of in consequence have you any better explanation i have not come to any has mr sherlock holmes the words took away my breath for an instant but a glance at the face and steadfast eyes of my companion showed that no surprise was intended it is useless for us to pretend that we do not know you said he the records of your detective have reached us here and you could not celebrate him without being known yourself when told me your name he could not deny your identity if you are here then it follows that mr sherlock holmes is interesting himself in the matter and i am naturally curious to know what view he may take i am afraid that i can not answer that question may i ask if he is going to us with a visit himself he can not leave town at present he has other cases which his attention what a pity he might throw some light on that which is so dark to us but as to your own if there is any possible way in which i can be of service to you i trust that you will command me if i had any of the nature of your suspicions or how you propose to the case i might perhaps even now give you some aid or advice i assure you that i am simply here upon a visit to my friend sir henry and that i need no help of any kind excellent said you are perfectly right to be and i am for what i feel was an and i promise you that i will not mention the matter again we had come to a point where a narrow path struck off from the road and wound away across the a hill lay upon the right which had in days been cut into a quarry the face which was turned towards us formed a dark cliff with and growing in its from over a distant rise there a grey of a moderate walk along this brings us to house said he perhaps you will spare an hour that i may have the pleasure of introducing you to my sister my first thought was that i should be by sir henry side but then i remembered the pile of papers and bills with which his study table was it was certain that i could not help with those and holmes had expressly said that i should study the neighbours upon the i accepted invitation and we turned together down the path it is a wonderful place the said he looking round over the long green with of up into you never tire of the you can not think the wonderful secrets which it contains it is so vast and so barren and so mysterious you know it well then i have only been here two years the would call me a we came after sir settled but my tastes led me to every part of the country round and i should think that there are few men who know it better than i do is it hard to know very hard you see for example this great plain to the north here with the queer hills breaking out of it do you observe anything remarkable about that it would be a place for a you would naturally think so and the thought has cost several their lives before now you notice those bright green scattered over it yes they seem more than the rest laughed that is the great said he a false step means death to man or beast only yesterday i saw one of the into it he never came out i saw his head for quite a long time out of the but it him down at last even in dry it is a danger to cross it but after these it is an awful place and yet i can find my way to the very heart of it and return alive by george there is another of those miserable something brown was rolling and among the green then a long writhing neck shot upward and a dreadful cry over the it turned me cold with horror but my companion nerves seemed to be stronger than mine it gone said he the has him two in two days and many more perhaps for they get in the way of going there in the dry weather and never know the difference until the has them in its clutches it a bad place the great and you say you can it yes there are one or two paths which a very active man can take i have found them out but why should you wish to go into so horrible a place well you see the hills beyond they are really islands cut off on all by the impassable which has round them in the course of years that is where the plants and the are if you have the wit to reach them i shall try my luck some day he looked at me with a surprised face for god sake put such an idea out of your mind said he your blood would be upon my head i assure you that there would not be the least chance of your coming back alive it is only by certain that i am able to do it i cried what is that a long low sad swept over the it filled the whole air and yet it was impossible to say it came from a dull murmur it into a deep roar and then back into a melancholy throbbing murmur once again looked at me with a curious expression in his face queer place the said he but what is it the peasants say it is the of the calling for its prey i heard it once or twice before but never quite so loud i looked round with a chill of fear in my heart at the huge plain with the green patches of rushes nothing over the vast save a pair of which loudly from a behind us you are an educated man you don believe such nonsense as that said i what do you think is the cause of so strange a sound make queer sometimes it the mud settling or the water rising or something no no that was a living voice well perhaps it was did you ever hear a no i never did it a very england now but all things are possible upon the yes i should not be surprised to learn that what we have heard is the cry of the last of the it the thing that ever i heard in my life yes it rather an uncanny place altogether look at the what do you make of those the whole slope was covered with grey circular rings of stone a score of them at least what are they no they are the homes of our worthy man lived on the and as no one in particular has lived there since we find all his little arrangements exactly as he left them these are his with the off you can even see his hearth and his couch if you have the curiosity to go inside but it is quite a town when was it date what did he do he his on these slopes and he learned to dig for when the bronze sword began to the stone look at the great in the opposite hill that is his mark yes you will find some very singular points about the oh excuse me an instant it is surely a small fly or had across our path and in an instant was rushing with extraordinary energy and in pursuit of it to my dismay the creature straight for the great and my acquaintance never for an instant bounding from to behind it his green net in the air his grey clothes and irregular progress made him not unlike some huge himself i was standing watching his pursuit with a mixture of admiration for his extraordinary activity and fear lest he should lose his footing in the treacherous when i heard the sound of steps and turning round found a woman near me upon the path she had come from the direction in which the of the position of house but the of the had hid her until she was quite close i could not doubt that this was the miss of whom i had been told since ladies of any sort must be few upon the and i remembered that i had heard someone describe her as being a beauty the woman who approached me was certainly that and of a most uncommon type there could not have been a greater contrast between brother and sister for was with light hair and grey eyes while she was than any whom i have seen in elegant and tall she had a proud finely cut face so regular that it might have seemed were it not for the sensitive mouth and the beautiful dark eager eyes with her perfect figure and elegant dress she was indeed a strange upon a lonely path her eyes were on her brother as i turned and then she her pace towards me i had raised my hat and was about to make some when her own words turned all my thoughts into a new channel go back she said go straight back to london instantly i could only stare at her in stupid surprise her eyes at me and she the ground impatiently with her foot why should i go back i asked i can not explain she spoke in a low eager voice with a curious in her but for god sake do what i ask you go back and never set foot upon the again but i have only just come man man she cried can you not tell when a warning is for your own good go back to london start tonight get away from this place at all hush my brother is coming not a word of what i have said would you mind getting that for me among the mare we are very rich in on the though of course you are rather late to see the of the place had abandoned the chase and came back to us breathing hard and with his said he and it seemed to me that the tone of his was not altogether a one well jack you are very hot yes i was a he is very and seldom found in the late what a pity that i should have missed him he spoke but his small light eyes from the girl to me you have introduced yourselves i can see yes i was telling sir henry that it was rather late for him to see the true of the why who do you think this is i imagine that it must be sir henry no no said i only a humble but his friend my name is a flush of vexation passed over her expressive face we have been talking at cross purposes said she why you had not very much time for talk her brother with the same eyes i talked as if were a instead of being merely a visitor said she it can not much matter to him whether it is early or late for the but you will come on will you not and see house a short walk brought us to it a house once the farm of some in the old prosperous days but now put into and turned into a modern an surrounded it but the trees as is usual upon the were and and the effect of the whole place was mean and melancholy we were admitted by a strange old manservant who seemed in keeping with the house inside however there were large rooms furnished with an elegance in which i seemed to recognize the taste of the lady as i looked from their windows at the rolling to the horizon i could not but marvel at what could have brought this highly educated man and this beautiful woman to live in such a place queer spot to choose is it not said he as if in answer to my thought and yet we manage to make ourselves fairly happy do we not quite happy said she but there was no ring of conviction in her words i had a school said it was in the north country the work to a man of my temperament was and but the privilege of living with youth of helping to those young minds and of them with one own character and ideals was very dear to me however the were against us a serious broke out in the school and three of the boys died it never recovered from the blow and much of my capital was swallowed up and yet if it were not for the loss of the charming companionship of the boys i could over my own for with my strong tastes for and i find an field of work here and my sister is as devoted to nature as i am all this has been brought upon your head by your expression as you the out of our window it certainly did cross my mind that it might be a little for you perhaps than for your sister no no i am never dull said she quickly we have books we have our studies and we have interesting neighbours is a most learned man in his own line poor sir was also an companion we knew him well and miss him more than i can tell do you think that i should intrude if i were to call this afternoon and make the acquaintance of sir henry i am sure that he would be delighted then perhaps you would mention that i propose to do so we may in our humble way do something to make things more easy for him until he becomes accustomed to his new surroundings will you come upstairs and inspect my collection of i think it is the most complete one in the of england by the time that you have looked through them lunch will be almost ready but i was eager to get back to my charge the melancholy of the the death of the unfortunate the sound which had been with the grim legend of the all these things my thoughts with sadness then on the top of these more or less vague there had come the and distinct warning of miss delivered with such intense earnestness that i could not doubt that some grave and deep reason lay behind it i all pressure to stay for lunch and i set off at once upon my return journey taking the path by which we had come it seems however that there must have been some short cut for those who knew it for before i had reached the road i was astounded to see miss sitting upon a by the side of the track her face was beautifully with her and she held her hand to her side i have run all the way in order to cut you off said she i had not even time to put on my hat i must not stop or my brother may miss me i wanted to say to you how sorry i am about the stupid mistake i made in thinking that you were sir henry please forget the words i said which have no whatever to you but i can forget them miss said i i am sir henry friend and his is a very close concern of mine tell me why it was that you were so eager that sir henry should return to london a woman when you know me better you will understand that i can not always give reasons for what i say or do no no i remember the in your voice i remember the look in your eyes please please be frank with me miss for ever since i have been here i have been conscious of all round me life has become like that great with little green patches everywhere into which one may and with no guide to point the track tell me then what it was that you meant and i will promise to your warning to sir henry an expression of passed for an instant over her face but her eyes had again when she me you make too much of it said she my brother and i were very much shocked by the death of sir we knew him very for his walk was over the to our house he was deeply impressed with the curse which hung over the family and when this tragedy came i naturally felt that there must be some grounds for the which he had expressed i was distressed therefore when another member of the family came down to live here and i felt that he should be warned of the danger which he will run that was all which i intended to but what is the danger you know the story of the i do not believe in such nonsense but i do if you have any influence with sir henry take him away from a place which has always been to his family the world is wide why should he wish to live at the place of danger because it is the place of danger that is sir henry nature i fear that unless you can give me some more than this it would be impossible to get him to move i can not say anything for i do not know anything i would ask you one more question miss if you meant no more than this when you first spoke to me why should you not wish your brother to what you said there is nothing to which he or anyone else could object my brother is very anxious to have the hall for he thinks it is for the good of the poor folk upon the he would be very angry if he knew that i have said anything which might induce sir henry to go away but i have done my duty now and i will say no more i must go back or he will miss me and suspect that i have seen you goodbye she turned and had in a few minutes among the scattered while i with my soul full of vague pursued my way to hall first of from this point i will follow the course of events by my own letters to mr sherlock holmes which lie before me on the table one page is missing but otherwise they are exactly as written and show my feelings and suspicions of the moment more than my memory clear as it is upon these tragic events can possibly do hall my dear holmes my previous letters and telegrams have kept you pretty well up to date as to all that has in this most corner of the world the longer one here the more does the spirit of the into one soul its and also its grim charm when you are once out upon its bosom you have left all of modern england behind you but on the other hand you are conscious everywhere of the homes and the work of the people on all of you as you walk are the houses of these forgotten folk with their graves and the huge which are supposed to have marked their as you look at their grey stone against the you leave your own age behind you and if you were to see a man out from the low door fitting a arrow on to the string of his bow you would feel that his presence there was more natural than your own the strange thing is that they should have lived so on what must always have been most soil i am no but i could imagine that they were some and race who were forced to accept that which none other would all this however is foreign to the on which you sent me and will probably be very to your severely practical mind i can still remember your complete indifference as to whether the sun moved round the earth or the earth round the sun let me therefore return to the facts sir henry if you have not had any within the last few days it is because up to today there was nothing of importance to then a very surprising circumstance which i shall tell you in due course but first of all i must keep you in touch with some of the other in the situation one of these which i have said little is the escaped upon the there is strong reason now to believe that he has got right away which is a considerable relief to the lonely of this district a fortnight has passed since his flight during which he has not been seen and nothing has been heard of him it is surely inconceivable that he could have held out upon the during all that time of course so far as his concealment goes there is no difficulty at all any one of these stone would give him a but there is nothing to eat unless he were to catch and slaughter one of the sheep we think therefore that he has gone and the sleep the better in consequence we are four ablebodied men in this household so that we could take good care of ourselves but i confess that i have had uneasy moments when i have thought of the they live miles from any help there are one maid an old manservant the sister and the brother the not a very strong man they would be helpless in the hands of a desperate fellow like this hill criminal if he could once effect an both sir henry and i were concerned at their situation and it was that the groom should go over to sleep there but would not hear of it the fact is that our friend the begins to display a considerable interest in our fair it is not to be wondered at for time heavily in this lonely spot to an active man like him and she is a very fascinating and beautiful woman there is something and about her which forms a singular contrast to her cool and brother yet he also gives the idea of hidden he has certainly a very marked influence over her for i have seen her continually glance at him as she talked as if seeking for what she said i trust that he is kind to her there is a dry in his eyes and a set of his thin lips which goes with a positive and possibly a harsh nature you would find him an interesting study he came over to call upon on that first day and the very next morning he took us both to show us the spot where the legend of the wicked is supposed to have had its origin it was an of some miles across the to a place which is so that it might have the story we found a short valley between which led to an open space over with the white cotton in the middle of it rose two great stones worn and at the upper end until they looked like the huge of some monstrous beast in every way it with the scene of the old tragedy sir henry was much interested and asked more than once whether he did really believe in the possibility of the of the in the affairs of men he spoke lightly but it was that he was very much in earnest was in his but it was easy to see that he said less than he might and that he would not express his whole opinion out of consideration for the feelings of the he told us of cases where families had suffered from some influence and he left us with the impression that he the popular view upon the matter on our way back we for lunch at house and it was there that sir henry made the acquaintance of miss from the first moment that he saw her he appeared to be strongly by her and i am much mistaken if the feeling was not he to her again and again on our walk home and since then hardly a day has passed that we have not seen something of the brother and sister they dine here tonight and there is some talk of our going to them next week one would imagine that such a match would be very welcome to and yet i have more than once caught a look of the strongest in his face when sir henry has been paying some attention to his sister he is much attached to her no doubt and would lead a lonely life without her but it would seem the height of selfishness if he were to stand in the way of her making so brilliant a marriage yet i am certain that he does not wish their intimacy to into love and i have several times observed that he has taken pains to prevent them from being by the way your to me never to allow sir henry to go out alone will become very much more if a love affair were to be to our other difficulties my popularity would soon suffer if i were to carry out your orders to the letter the other to be more with us he has been a at long down and has got a which fills him with great joy never was there such a as he the came in afterwards and the good doctor took us all to the yew at sir henry request to show us exactly how everything upon that night it is a long walk the yew between two high walls of clipped with a narrow band of upon either side at the far end is an old down is the where the old gentleman left his it is a white wooden gate with a beyond it lies the wide i remembered your of the affair and tried to picture all that had as the old man stood there he saw something coming across the something which terrified him so that he lost his wits and ran and ran until he died of sheer horror and exhaustion there was the long tunnel down which he and from what a of the or a black silent and monstrous was there a human in the matter did the pale know more than he cared to say it was all dim and vague but always there is the dark of crime behind it one other i have met since i wrote last this is mr of hall who lives some four miles to the south of us he is an elderly man and his passion is for the british law and he has spent a large fortune in he fights for the mere pleasure of fighting and is equally ready to take up either side of a question so that it is no wonder that he has found it a amusement sometimes he will shut up a right of way and defy the to make him open it at others he will with his own hands tear down some other man gate and declare that a path has existed there from time defying the owner to him for he is learned in old and rights and he applies his knowledge sometimes in of the of and sometimes against them so that he is either carried in triumph down the street or else in effigy according to his latest he is said to have about seven upon his hands at present which will probably up the of his fortune and so draw his sting and leave him harmless for the future apart from the law he seems a kindly person and i only mention him because you were particular that i should send some description of the people who us he is curiously at present for being an amateur he has an excellent with which he lies upon the roof of his own house and sweeps the all day in the hope of catching a glimpse of the escaped if he would his energies to this all would be well but there are that he intends to for opening a grave without the consent of the next of because he up the in the on long down he helps to keep our lives from being and gives a little comic relief where it is badly needed and now having brought you up to date in the escaped the and of hall let me end on that which is most important and tell you more about the and especially about the surprising of last night first of all about the test telegram which you sent from london in order to make sure that was really here i have already explained that the of the shows that the test was worthless and that we have no proof one way or the other i told sir henry how the matter stood and he at once in his downright fashion had up and asked him whether he had received the telegram himself said that he had did the boy it into your own hands asked sir henry looked surprised and considered for a little time no said he i was in the at the time and my wife brought it up to me did you answer it yourself no i told my wife what to answer and she went down to write it in the evening he to the subject of his own accord i could not quite understand the object of your questions this morning sir henry said he i trust that they do not mean that i have done anything to your confidence sir henry had to assure him that it was not so and him by giving him a considerable part of his old the london having now all arrived mrs is of interest to me she is a heavy solid person very limited intensely respectable and to be you could hardly conceive a less subject yet i have told you how on the first night here i heard her sobbing bitterly and since then i have more than once observed of tears upon her face some deep sorrow ever at her heart sometimes i wonder if she has a guilty memory which her and sometimes i suspect of being a domestic tyrant i have always felt that there was something singular and in this man character but the adventure of last night brings all my suspicions to a head and yet it may seem a small matter in itself you are aware that i am not a very sound and since i have been on guard in this house my have been lighter than ever last night about two in the morning i was aroused by a stealthy step passing my room i rose opened my door and out a long black was down the it was thrown by a man who walked softly down the passage with a candle held in his hand he was in and trousers with no covering to his feet i could merely see the but his height told me that it was he walked very slowly and and there was something guilty and in his whole appearance i have told you that the is broken by the balcony which runs round the hall but that it is upon the farther side i waited until he had passed out of sight and then i followed him when i came round the balcony he had reached the end of the farther and i could see from the glimmer of light through an open door that he had entered one of the rooms now all these rooms are and so that his expedition became more mysterious than ever the light steadily as if he were standing motionless i down the passage as as i could and round the corner of the door was crouching at the window with the candle held against the glass his profile was half turned towards me and his face seemed to be rigid with expectation as he out into the blackness of the for some minutes he stood watching intently then he gave a deep groan and with an impatient gesture he put out the light instantly i made my way back to my room and very came the stealthy steps passing once more upon their return journey long afterwards when i had fallen into a light sleep i heard a turn somewhere in a lock but i could not tell the sound came what it all means i can not guess but there is some secret business going on in this house of gloom which sooner or later we shall get to the bottom of i do not trouble you with my for you asked me to furnish you only with facts i have had a long talk with sir henry this morning and we have made a plan of campaign founded upon my observations of last night i will not speak about it just now but it should make my next interesting reading the light upon the second of hall my dear holmes if i was compelled to leave you without much news during the early days of my you must acknowledge that i am making up for lost time and that events are now crowding thick and fast upon us in my last i ended upon my top note with at the window and now i have quite a already which will unless i am much mistaken considerably surprise you things have taken a turn which i could not have in some ways they have within the last hours become much clearer and in some ways they have become more complicated but i will tell you all and you shall judge for yourself before breakfast on the morning following my adventure i went down the and examined the room in which had been on the night before the western window through which he had so intently has i noticed one above all other windows in the the nearest on to the there is an opening between two trees which one from this point of view to look right down upon it while from all the other windows it is only a distant glimpse which can be it follows therefore that since only this window would serve the purpose must have been looking out for something or somebody upon the the night was very dark so that i can hardly imagine how he could have hoped to see anyone it had struck me that it was possible that some love intrigue was on foot that would have for his stealthy movements and also for the uneasiness of his wife the man is a fellow very well to steal the heart of a country girl so that this seemed to have something to support it that opening of the door which i had heard after i had returned to my room might mean that he had gone out to keep some so i with myself in the morning and i tell you the direction of my suspicions however much the result may have shown that they were but whatever the true explanation of movements might be i felt that the responsibility of keeping them to myself until i could explain them was more than i could bear i had an with the in his study after breakfast and i told him all that i had seen he was less surprised than i had expected i knew that walked about nights and i had a mind to speak to him about it said he two or three times i have heard his steps in the passage coming and going just about the hour you name perhaps then he a visit every night to that particular window i perhaps he does if so we should be able to him and see what it is that he is after i wonder what your friend holmes would do if he were here i believe that he would do exactly what you now suggest said i he would follow and see what he did then we shall do it together but surely he would hear us the man is rather and in any case we must take our chance of that we sit up in my room tonight and wait until he passes sir henry his hands with pleasure and it was that he the adventure as a relief to his somewhat quiet life upon the the has been in communication with the who prepared the plans for sir and with a from london so that we may expect great changes to begin here soon there have been and up from and it is that our friend has large ideas and means to spare no pains or expense to restore the grandeur of his family when the house is and all that he will need will be a wife to make it complete between ourselves there are pretty clear signs that this will not be wanting if the lady is willing for i have seldom seen a man more infatuated with a woman than he is with our beautiful miss and yet the course of true love does not run quite as smoothly as one would under the circumstances expect today for example its surface was broken by a very unexpected which has caused our friend considerable perplexity and annoyance after the conversation which i have about sir henry put on his hat and prepared to go out as a matter of course i did the same what are you coming he asked looking at me in a curious way that depends on whether you are going on the said i yes i am well you know what my are i am sorry to intrude but you heard how earnestly holmes insisted that i should not leave you and especially that you should not go alone upon the sir henry put his hand upon my shoulder with a pleasant smile my dear fellow said he holmes with all his wisdom did not some things which have happened since i have been on the you understand me i am sure that you are the last man in the world who would wish to be a i must go out alone it put me in a most awkward position i was at a loss what to say or what to do and before i had made up my mind he picked up his cane and was gone but when i came to think the matter over my conscience reproached me bitterly for having on any allowed him to go out of my sight i what my feelings would be if i had to return to you and to confess that some had through my disregard for your i assure you my cheeks at the very thought it might not even now be too late to overtake him so i set off at once in the direction of house i hurried along the road at the top of my without seeing anything of sir henry until i came to the point where the path off there fearing that perhaps i had come in the wrong direction after all i a hill from which i could command a same hill which is cut into the dark quarry i saw him at once he was on the path about a quarter of a mile off and a lady was by his side who could only be miss it was clear that there was already an understanding between them and that they had met by they were walking slowly along in deep conversation and i saw her making quick little movements of her hands as if she were very earnest in what she was saying while he listened intently and once or twice his head in strong i stood among the rocks watching them very much puzzled as to what i should do next to follow them and break into their intimate conversation seemed to be an and yet my clear duty was never for an instant to let him out of my sight to act the spy upon a friend was a task still i could see no better course than to observe him from the hill and to clear my conscience by confessing to him afterwards what i had done it is true that if any sudden danger had threatened him i was too far away to be of use and yet i am sure that you will agree with me that the position was very difficult and that there was nothing more which i could do our friend sir henry and the lady had on the path and were standing deeply absorbed in their conversation when i was suddenly aware that i was not the only witness of their a wisp of green in the air caught my eye and another glance showed me that it was carried on a stick by a man who was moving among the broken ground it was with his he was very much closer to the pair than i was and he appeared to be moving in their direction at this instant sir henry suddenly drew miss to his side his arm was round her but it seemed to me that she was away from him with her face averted he his head to hers and she raised one hand as if in protest next moment i saw them spring apart and turn hurriedly round was the cause of the he was running wildly towards them his absurd net behind him he and almost with excitement in front of the lovers what the scene meant i could not imagine but it seemed to me that was abusing sir henry who offered explanations which became more angry as the other refused to accept them the lady stood by in haughty silence finally turned upon his heel and in a way to his sister who after an glance at sir henry walked off by the side of her brother the angry showed that the lady was included in his the stood for a minute looking after them and then he walked slowly back the way that he had come his head hanging the very picture of dejection what all this meant i could not imagine but i was deeply ashamed to have so intimate a scene without my friend knowledge i ran down the hill therefore and met the at the bottom his face was with anger and his brows were like one who is at his wit ends what to do where have you dropped from said he you don mean to say that you came after me in spite of all i explained everything to him how i had found it impossible to remain behind how i had followed him and how i had all that had for an instant his eyes at me but my frankness disarmed his anger and he broke at last into a rather laugh you would have thought the middle of that a fairly safe place for a man to be private said he but by thunder the whole seems to have been out to see me do my a mighty poor at that where had you engaged a seat i was on that hill quite in the back row eh but her brother was well up to the front did you see him come out on us yes i did did he ever strike you as being brother of hers i can say that he ever did i dare say not i always thought him enough until today but you can take it from me that either he or i ought to be in a what the matter with me anyhow you lived near me for some weeks tell me straight now is there anything that would prevent me from making a good husband to a woman that i loved i should say not he can object to my position so it must be myself that he has this down on what has he against me i never hurt man or woman in my life that i know of and yet he would not so much as let me touch the of her fingers did he say so that and a deal more i tell you i only known her these few weeks but from the first i just felt that she was made for me and she was happy when she was with me and that i swear there a light in a woman eyes that speaks louder than words but he has never let us get together and it was only today for the first time that i saw a chance of having a few words with her alone she was glad to meet me but when she did it was not love that she would talk about and she have let me talk about it either if she could have stopped it she kept coming back to it that this was a place of danger and that she would never be happy until i had left it i told her that since i had seen her i was in no hurry to leave it and that if she really wanted me to go the only way to work it was for her to arrange to go with me with that i offered in as many words to marry her but before she could answer down came this brother of hers running at us with a face on him like a madman he was just white with rage and those light eyes of his were with fury what was i doing with the lady how dared i offer her attentions which were to her did i think that because i was a i could do what i liked if he had not been her brother i should have known better how to answer him as it was i told him that my feelings towards his sister were such as i was not ashamed of and that i hoped that she might me by becoming my wife that seemed to make the matter no better so then i lost my temper too and i him rather more hotly than i should perhaps considering that she was standing by so it ended by his going off with her as you saw and here am i as badly puzzled a man as any in this just tell me what it all means and i owe you more than ever i can hope to pay i tried one or two explanations but indeed i was completely puzzled myself our friend title his fortune his age his character and his appearance are all in his and i know nothing against him unless it be this dark fate which runs in his family that his advances should be so brusquely without any to the lady own wishes and that the lady should accept the situation without protest is very amazing however our were set at rest by a visit from himself that very afternoon he had come to offer apologies for his of the morning and after a long private with sir henry in his study the of their conversation was that the is quite and that we are to dine at house next as a sign of it i don say now that he a man said sir henry i can forget the look in his eyes when he ran at me this morning but i must allow that no man could make a more handsome apology than he has done did he give any explanation of his conduct his sister is everything in his life he says that is natural enough and i am glad that he should understand her value they have always been together and according to his account he has been a very lonely man with only her as a companion so that the thought of losing her was really terrible to him he had not understood he said that i was becoming attached to her but when he saw with his own eyes that it was really so and that she might be taken away from him it gave him such a shock that for a time he was not responsible for what he said or did he was very sorry for all that had passed and he recognized how foolish and how selfish it was that he should imagine that he could hold a beautiful woman like his sister to himself for her whole life if she had to leave him he had rather it was to a like myself than to anyone else but in any case it was a blow to him and it would take him some time before he could prepare himself to meet it he would withdraw all opposition upon his part if i would promise for three months to let the matter rest and to be content with the lady friendship during that time without her love this i promised and so the matter rests so there is one of our small mysteries cleared up it is something to have touched bottom anywhere in this in which we are we know now why looked with upon his sister when that suitor was so eligible a one as sir henry and now i pass on to another which i have out of the the mystery of the in the night of the face of mrs of the secret journey of the to the western window congratulate me my dear holmes and tell me that i have not disappointed you as an you do not the confidence which you showed in me when you sent me down all these things have by one night work been thoroughly cleared i have said by one night work but in truth it was by two nights work for on the first we drew entirely i sat up with sir henry in his rooms until nearly three o clock in the morning but no sound of any sort did we hear except the clock upon the stairs it was a most melancholy and ended by each of us falling asleep in our chairs fortunately we were not discouraged and we determined to try again the next night we lowered the lamp and sat smoking without making the least sound it was how slowly the hours by and yet we were helped through it by the same sort of patient interest which the must feel as he watches the trap into which he hopes the game may one struck and two and we had almost for the second time given it up in despair when in an instant we both sat upright in our chairs with all our weary senses keenly on the once more we had heard the of a step in the passage very we heard it pass along until it died away in the distance then the gently opened his door and we set out in pursuit already our man had gone round the gallery and the was all in darkness softly we stole along until we had come into the other we were just in time to catch a glimpse of the tall figure his shoulders as he down the passage then he passed through the same door as before and the light of the candle it in the darkness and shot one single yellow across the gloom of the we towards it trying every before we dared to put our whole weight upon it we had taken the of leaving our boots behind us but even so the old and beneath our sometimes it seemed impossible that he should fail to hear our approach however the man is fortunately rather and he was entirely preoccupied in that which he was doing when at last we reached the door and through we found him crouching at the window candle in hand his white face against the pane exactly as i had seen him two nights before we had arranged no plan of campaign but the is a man to whom the most direct way is always the most natural he walked into the room and as he did so up from the window with a sharp of his breath and stood and before us his dark eyes out of the white mask of his face were full of horror and astonishment as he from sir henry to me what are you doing here nothing sir his was so great that he could hardly speak and the up and down from the shaking of his candle it was the window sir i go round at night to see that they are fastened on the second floor yes sir all the windows look here said sir henry sternly we have made up our minds to have the truth out of you so it will save you trouble to tell it sooner rather than later come now no lies what were you doing at that window the fellow looked at us in a helpless way and he his hands together like one who is in the last extremity of doubt and misery i was doing no harm sir i was holding a candle to the window and why were you holding a candle to the window don ask me sir ask me i give you my word sir that it is not my secret and that i can not tell it if it concerned no one but myself i would not try to keep it from you a sudden idea to me and i took the candle from the hand of the he must have been holding it as a signal said i let us see if there is any answer i held it as he had done and out into the darkness of the night vaguely i could the black bank of the trees and the lighter of the for the was behind the and then i gave a cry of exultation for a tiny of yellow light had suddenly the dark and steadily in the centre of the black square by the window there it is i cried no no sir it is at all the broke in i assure you move your light across the window cried the see the other moves also now you rascal do you deny that it is a signal come speak up who is your out and what is this that is going on the man face became openly defiant it is my business and not yours i will not tell then you leave my employment right away very good sir if i must i must and you go in disgrace by thunder you may well be ashamed of yourself your family has lived with mine for over a hundred years under this roof and here i find you deep in some dark plot against me no no sir no not against you it was a woman voice and mrs paler and more than her husband was standing at the door her figure in a and skirt might have been comic were it not for the intensity of feeling upon her face we have to go eliza this is the end of it you can pack our things said the oh john john have i brought you to this it is my doing sir mine he has done nothing except for my sake and because i asked him speak out then what does it mean my unhappy brother is starving on the we can not let him perish at our very gates the light is a signal to him that food is ready for him and his light out is to show the spot to which to bring it then your brother the escaped the criminal that the truth sir said i said that it was not my secret and that i could not tell it to you but now you have heard it and you will see that if there was a plot it was not against you this then was the explanation of the stealthy at night and the light at the window sir henry and i both at the woman in amazement was it possible that this stolidly respectable person was of the same blood as one of the most in the country yes sir my name was and he is my younger brother we him too much when he was a lad and gave him his own way in everything until he came to think that the world was made for his pleasure and that he could do what he liked in it then as he grew older he met wicked and the devil entered into him until he broke my mother heart and dragged our name in the dirt from crime to crime he lower and lower until it is only the mercy of god which has him from the but to me sir he was always the little boy that i had nursed and played with as an elder sister would that was why he broke sir he knew that i was here and that we could not refuse to help him when he dragged himself here one night weary and starving with the hard at his heels what could we do we took him in and fed him and cared for him then you returned sir and my brother thought he would be on the than anywhere else until the and cry was over so he lay in hiding there but every second night we made sure if he was still there by putting a light in the window and if there was an answer my husband took out some bread and to him every day we hoped that he was gone but as long as he was there we could not desert him that is the whole truth as i am an honest christian woman and you will see that if there is blame in the matter it does not lie with my husband but with me for whose sake he has done all that he has the woman words came with an intense earnestness which carried conviction with them is this true yes sir henry every word of it well i can not blame you for standing by your own wife forget what i have said go to your room you two and we shall talk further about this matter in the morning when they were gone we looked out of the window again sir henry had flung it open and the cold night wind beat in upon our faces far away in the black distance there still that one tiny point of yellow light i wonder he dares said sir henry it may be so placed as to be only visible from here very likely how far do you think it is out by the cleft i think not more than a mile or two off hardly that well it can not be far if had to carry out the food to it and he is waiting this villain beside that candle by thunder i am going out to take that man the same thought had crossed my own mind it was not as if the had taken us into their confidence their secret had been forced from them the man was a danger to the community an scoundrel for whom there was neither pity nor excuse we were only doing our duty in taking this chance of putting him back where he could do no harm with his brutal and violent nature others would have to pay the price if we held our hands any night for example our neighbours the might be attacked by him and it may have been the thought of this which made sir henry so keen upon the adventure i will come said i then get your revolver and put on your boots the sooner we start the better as the fellow may put out his light and be off in five minutes we were outside the door starting upon our expedition we hurried through the dark the dull of the wind and the of the falling leaves the night air was heavy with the smell of and decay now and again the out for an instant but were driving over the face of the sky and just as we came out on the a thin rain began to fall the light still steadily in front are you armed i asked i have a we must close in on him for he is said to be a desperate fellow we shall take him by surprise and have him at our mercy before he can resist i say said the what would holmes say to this how about that hour of darkness in which the power of is as if in answer to his words there rose suddenly out of the vast gloom of the that strange cry which i had already heard upon the of the great it came with the wind through the silence of the night a long deep then a rising and then the sad in which it died away again and again it sounded the whole air throbbing with it wild and the caught my sleeve and his face white through the darkness my god what that i don know it a sound they have on the i heard it once before it died away and an absolute silence closed in upon us we stood our ears but nothing came said the it was the cry of a my blood ran cold in my veins for there was a break in his voice which told of the sudden horror which had seized him what do they call this sound he asked who the folk on the oh they are ignorant people why should you mind what they call it tell me what do they say of it i but could not escape the question they say it is the cry of the of the he and was silent for a few moments a it was he said at last but it seemed to come from miles away over i think it was hard to say it came it rose and fell with the wind that the direction of the great yes it is well it was up there come now you think yourself that it was the cry of a i am not a child you need not fear to speak the truth was with me when i heard it last he said that it might be the calling of a strange bird no no it was a my god can there be some truth in all these stories is it possible that i am really in danger from so dark a cause you don believe it do you no no and yet it was one thing to laugh about it in london and it is another to stand out here in the darkness of the and to hear such a cry as that and my uncle there was the of the beside him as he lay it all fits together i don think that i am a coward but that sound seemed to my very blood feel my hand it was as cold as a block of marble you be all right tomorrow i don think i get that cry out of my head what do you advise that we do now shall we turn back no by thunder we have come out to get our man and we will do it we after the and a as likely as not after us come on we see it through if all the fiends of the pit were loose upon the we slowly along in the darkness with the black of the hills around us and the yellow speck of light burning steadily in front there is nothing so as the distance of a light upon a night and sometimes the glimmer seemed to be far away upon the horizon and sometimes it might have been within a few yards of us but at last we could see it came and then we knew that we were indeed very close a candle was in a of the rocks which it on each side so as to keep the wind from it and also to prevent it from being visible save in the direction of hall a of our approach and crouching behind it we over it at the signal light it was strange to see this single candle burning there in the middle of the with no sign of life near the one straight yellow flame and the gleam of the on each side of it what shall we do now sir henry wait here he must be near his light let us see if we can get a glimpse of him the words were hardly out of my mouth when we both saw him over the rocks in the of which the candle there was thrust out an yellow face a terrible animal face all and with vile passions with with a beard and hung with hair it might well have belonged to one of those old savages who dwelt in the on the the light beneath him was in his small cunning eyes which fiercely to right and left through the darkness like a and animal who has heard the steps of the something had evidently aroused his suspicions it may have been that had some private signal which we had neglected to give or the fellow may have had some other reason for thinking that all was not well but i could read his upon his wicked face any instant he might dash out the light and vanish in the darkness i forward therefore and sir henry did the same at the same moment the screamed out a curse at us and hurled a which up against the which had sheltered us i caught one glimpse of his short strongly built figure as he to his feet and turned to run at the same moment by a chance the broke through the we over the brow of the hill and there was our man running with great down the other side springing over the stones in his way with the activity of a mountain a long shot of my revolver might have him but i had brought it only to defend myself if attacked and not to shoot an man who was running away we were both swift and in fairly good training but we soon found that we had no chance of him we saw him for a long time in the moonlight until he was only a small speck moving swiftly among the upon the side of a distant hill we ran and ran until we were completely blown but the space between us grew ever wider finally we stopped and sat panting on two rocks while we him in the distance and it was at this moment that there a most strange and unexpected thing we had risen from our rocks and were turning to go home having abandoned the hopeless chase the was low upon the right and the of a stood up against the lower of its there as black as an statue on that background i saw the figure of a man upon the do not think that it was a holmes i assure you that i have never in my life seen anything more clearly as far as i could judge the figure was that of a tall thin man he stood with his legs a little separated his arms folded his head as if he were brooding over that enormous of and which lay before him he might have been the very spirit of that terrible place it was not the this man was far from the place where the had besides he was a much man with a cry of surprise i pointed him out to the but in the instant during which i had turned to grasp his arm the man was gone there was the sharp of still cutting the lower edge of the but its peak bore no trace of that silent and motionless figure i wished to go in that direction and to search the but it was some distance away the nerves were still quivering from that cry which the dark story of his family and he was not in the for fresh adventures he had not seen this lonely man upon the and could not feel the which his strange presence and his commanding attitude had given to me a no doubt said he the has been thick with them since this fellow escaped well perhaps his explanation may be the right one but i should like to have some further proof of it today we mean to to the people where they should look for their missing man but it is hard lines that we have not actually had the triumph of bringing him back as our own prisoner such are the adventures of last night and you must acknowledge my dear holmes that i have done you very well in the matter of a much of what i tell you is no doubt quite but still i feel that it is best that i should let you have all the facts and leave you to select for yourself those which will be of most service to you in helping you to your conclusions we are certainly making some progress so far as the go we have found the of their and that has cleared up the situation very much but the with its mysteries and its strange remains as as ever perhaps in my next i may be able to throw some light upon this also best of all would it be if you could come down to us in any case you will hear from me again in the course of the next few days from the of so far i have been able to from the which i have during these early days to sherlock holmes now however i have arrived at a point in my where i am compelled to this and to trust once more to my by the which i kept at the time a few from the will carry me on to those scenes which are fixed in every upon my memory i proceed then from the morning which followed our chase of the and our other strange upon the dull and day with a of rain the house is in with rolling which rise now and then to show the of the with thin veins upon the of the hills and the distant where the light strikes upon their wet faces it is melancholy outside and in the is in a black reaction after the of the night i am conscious myself of a weight at my heart and a feeling of present danger which is the more terrible because i am unable to it and have i not cause for such a feeling consider the long of which have all pointed to some influence which is at work around us there is the death of the last of the hall fulfilling so exactly the conditions of the family legend and there are the repeated from peasants of the appearance of a strange creature upon the twice i have with my own ears heard the sound which the distant of a it is impossible that it should really be outside the ordinary laws of nature a which leaves material and fills the air with its is surely not to be thought of may fall in with such a superstition and also but if i have one quality upon earth it is common sense and nothing will persuade me to believe in such a thing to do so would be to descend to the level of these poor peasants who are not content with a mere dog but must needs describe him with shooting from his mouth and eyes holmes would not listen to such fancies and i am his but facts are facts and i have twice heard this crying upon the suppose that there were really some huge loose upon it that would go far to explain everything but where could such a lie where did it get its food where did it come from how was it that no one saw it by day it must be confessed that the natural explanation offers almost as many difficulties as the other and always apart from the there is the fact of the human in london the man in the cab and the letter which warned sir henry against the this at least was real but it might have been the work of a protecting friend as easily as of an enemy where is that friend or enemy now has he remained in london or has he followed us down here could he be the stranger whom i saw upon the it is true that i have had only the one glance at him and yet there are some things to which i am ready to swear he is no one whom i have seen down here and i have now met all the neighbours the figure was far than that of far than that of it might possibly have been but we had left him behind us and i am certain that he could not have followed us a stranger then is still us just as a stranger dogged us in london we have never him off if i could lay my hands upon that man then at last we might find ourselves at the end of all our difficulties to this one purpose i must now devote all my energies my first impulse was to tell sir henry all my plans my second and wisest one is to play my own game and speak as little as possible to anyone he is silent and his nerves have been by that sound upon the i will say nothing to add to his but i will take my own steps to attain my own end we had a small scene this morning after breakfast asked leave to speak with sir henry and they were in his study some little time sitting in the i more than once heard the sound of raised and i had a pretty good idea what the point was which was under discussion after a time the opened his door and called for me considers that he has a grievance he said he thinks that it was unfair on our part to hunt his down when he of his own free will had told us the secret the was standing very pale but very before us i may have spoken too warmly sir said he and if i have i am sure that i beg your pardon at the same time i was very much surprised when i heard you two gentlemen come back this morning and learned that you had been the poor fellow has enough to fight against without my putting more upon his track if you had told us of your own free will it would have been a different thing said the you only told us or rather your wife only told us when it was forced from you and you could not help yourself i think you would have taken advantage of it sir i the man is a public danger there are lonely houses scattered over the and he is a fellow who would stick at nothing you only want to get a glimpse of his face to see that look at mr house for example with no one but himself to defend it there no safety for anyone until he is under lock and he break into no house sir i give you my solemn word upon that but he will never trouble anyone in this country again i assure you sir henry that in a very few days the necessary arrangements will have been made and he will be on his way to south america for god sake sir i beg of you not to let the police know that he is still on the they have given up the chase there and he can lie quiet until the ship is ready for him you can tell on him without getting my wife and me into trouble i beg you sir to say nothing to the police what do you say i my shoulders if he were safely out of the country it would the of a burden but how about the chance of his holding someone up before he goes he would not do anything so mad sir we have provided him with all that he can want to commit a crime would be to show where he was hiding that is true said sir henry well god bless you sir and thank you from my heart it would have killed my poor wife had he been taken again i guess we are and a but after what we have heard i don feel as if i could give the man up so there is an end of it all right you can go with a few broken words of gratitude the man turned but he and then came back you been so kind to us sir that i should like to do the best i can for you in return i know something sir henry and perhaps i should have said it before but it was long after the that i found it out i never a word about it yet to mortal man it about poor sir death the and i were both upon our feet do you know how he died no sir i don know that what then i know why he was at the gate at that hour it was to meet a woman to meet a woman he yes sir and the woman name i can give you the name sir but i can give you the initials her initials were how do you know this well sir henry your uncle had a letter that morning he had usually a great many letters for he was a public man and well known for his kind heart so that everyone who was in trouble was glad to turn to him but that morning as it there was only this one letter so i took the more notice of it it was from and it was addressed in a woman hand well well sir i thought no more of the matter and never would have done had it not been for my wife only a few weeks ago she was out sir had never been touched since his she found the ashes of a letter in the back of the grate the greater part of it was to pieces but one little slip the end of a page hung together and the writing could still be read though it was grey on a black ground it seemed to us to be a at the end of the letter and it said please please as you are a gentleman burn this letter and be at the gate by ten o clock beneath it were signed the initials have you got that slip no sir it all to bits after we moved it had sir received any other letters in the same writing well sir i took no particular notice of his letters i should not have noticed this one only it happened to come alone and you have no idea who is no sir no more than you have but i expect if we could lay our hands upon that lady we should know more about sir death i can not understand how you came to conceal this important well sir it was immediately after that our own trouble came to us and then again sir we were both of us very fond of sir as we well might be considering all that he has done for us to this up help our poor master and it well to go carefully when there a lady in the case even the best of you thought it might his reputation well sir i thought no good could come of it but now you have been kind to us and i feel as if it would be treating you not to tell you all that i know about the matter very good you can go when the had left us sir henry turned to me well what do you think of this new light it seems to leave the darkness rather than before so i think but if we can only trace it should clear up the whole business we have gained that much we know that there is someone who has the facts if we can only find her what do you think we should do let holmes know all about it at once it will give him the for which he has been seeking i am much mistaken if it does not bring him down i went at once to my room and drew up my of the morning conversation for holmes it was to me that he had been very busy of late for the notes which i had from street were few and short with no upon the which i had supplied and hardly any to my no doubt his case is absorbing all his faculties and yet this new must surely his attention and his interest i wish that he were here day today the rain poured down on the and dripping from the i thought of the out upon the cold poor devil whatever his crimes he has suffered something to for them and then i thought of that other face in the cab the figure against the was he also out in that the man of darkness in the evening i put on my waterproof and i walked far upon the full of dark the rain beating upon my face and the wind whistling about my ears god help those who into the great now for even the are becoming a i found the black upon which i had seen the and from its i looked out myself across the melancholy rain drifted across their face and the heavy hung low over the landscape in grey down the of the hills in the distant hollow on the left half hidden by the the two thin of hall rose above the trees they were the only signs of human life which i could see save only those which lay upon the slopes of the hills nowhere was there any trace of that lonely man whom i had seen on the same spot two nights before as i walked back i was by driving in his over a rough track which led from the of he has been very attentive to us and hardly a day has passed that he has not called at the hall to see how we were getting on he insisted upon my climbing into his and he gave me a lift i found him much troubled over the of his little it had wandered on to the and had never come back i gave him such consolation as i might but i thought of the on the and i do not fancy that he will see his little dog again by the way said i as we along the rough road i suppose there are few people living within driving distance of this whom you do not know hardly any i think can you then tell me the name of any woman whose initials are he thought for a few minutes no said he there are a few and folk for whom i can answer but among the or there is no one whose initials are those wait a bit though he after a pause there is laura initials are she lives in who is she i asked she is daughter what old the exactly she married an artist named who came on the he to be a blackguard and deserted her the fault from what i hear may not have been entirely on one side her father refused to have anything to do with her because she had married without his consent and perhaps for one or two other reasons as well so between the old and the young one the girl has had a pretty bad time how does she live i fancy old allows her a but it can not be more for his own affairs are considerably whatever she may have one could not allow her to go hopelessly to the bad her story got about and several of the people here did something to enable her to earn an honest living did for one and sir for another i gave a trifle myself it was to set her up in a business he wanted to know the object of my but i managed to satisfy his curiosity without telling him too much for there is no reason why we should take anyone into our confidence tomorrow morning i shall find my way to and if i can see this mrs laura of reputation a long step will have been made towards clearing one incident in this chain of mysteries i am certainly the wisdom of the for when his questions to an extent i asked him to what type belonged and so heard nothing but for the rest of our drive i have not lived for years with sherlock holmes for nothing i have only one other incident to record upon this and melancholy day this was my conversation with just now which gives me one more strong card which i can play in due time had to dinner and he and the played afterwards the brought me my coffee into the library and i took the chance to ask him a few questions well said i has this precious relation of yours or is he still out i don know sir i hope to heaven that he has gone for he has brought nothing but trouble here i not heard of him since i left out food for him last and that was three days ago did you see him then no sir but the food was gone when next i went that way then he was certainly there so you would think sir unless it was the other man who took it i sat with my to my lips and at you know that there is another man then yes sir there is another man upon the have you seen him no sir how do you know of him then told me of him sir a week ago or more he in hiding too but he not a as far as i can make out i don like it tell you straight sir that i don like it he spoke with a sudden passion of earnestness now listen to me i have no interest in this matter but that of your master i have come here with no object except to help him tell me what it is that you don like for a moment as if he his outburst or found it difficult to express his own feelings in words it all these sir he cried at last his hand towards the window which the there play somewhere and there black brewing to that i swear very glad i should be sir to see sir henry on his way back to london again but what is it that you look at sir death that was bad enough for all that the said look at the on the at night there not a man would cross it after if he was paid for it look at this stranger hiding out and watching and waiting what he waiting for what does it mean it means no good to anyone of the name of and very glad i shall be to be of it all on the day that sir henry new servants are ready to take over the hall but about this stranger said i can you tell me anything about him what did say did he find out where he hid or what he was doing he saw him once or twice but he is a deep one and gives nothing away at first he thought that he was the police but soon he found that he had some lay of his own a kind of gentleman he was as far as he could see but what he was doing he could not make out and where did he say that he lived among the old houses on the stone where the old folk used to live but how about his food found out that he has got a lad who works for him and brings all he needs i dare say he goes to for what he wants very good we may talk further of this some other time when the had gone i walked over to the black window and i looked through a pane at the driving and at the of the trees it is a wild night and what must it be in a stone upon the what passion of can it be which leads a man to in such a place at such a time and what deep and earnest purpose can he have which calls for such a trial there in that upon the seems to lie the very centre of that problem which has vexed me so i swear that another day shall not have passed before i have done all that man can do to reach the heart of the mystery 11 the man on the the from my private which forms the last has brought my up to the of a time when these strange events began to move swiftly towards their terrible the of the next few days are upon my recollection and i can tell them without to the notes made at the time i start them from the day which succeeded that upon which i had established two facts of great importance the one that mrs laura of had written to sir and made an with him at the very place and hour that he met his death the other that the man upon the was to be found among the stone upon the with these two facts in my possession i felt that either my intelligence or my courage must be if i could not throw some further light upon these dark places i had no opportunity to tell the what i had learned about mrs upon the evening before for remained with him at cards until it was very late at breakfast however i him about my and asked him whether he would care to me to at first he was very eager to come but on second thoughts it seemed to both of us that if i went alone the results might be better the more we made the visit the less we might i left sir henry behind therefore not without some of conscience and drove off upon my new when i reached i told to put up the horses and i made for the lady whom i had come to i had no difficulty in finding her rooms which were central and well appointed a maid showed me in without ceremony and as i entered the sittingroom a lady who was sitting before a typewriter up with a pleasant smile of welcome her face fell however when she saw that i was a stranger and she sat down again and asked me the object of my visit the first impression left by mrs was one of extreme beauty her eyes and hair were of the same rich hazel and her cheeks though considerably were with the exquisite bloom of the the dainty pink which at the heart of the rose admiration was i repeat the first impression but the second was criticism there was something wrong with the face some coarseness of expression some perhaps of eye some looseness of lip which its perfect beauty but these of course are at the moment i was simply conscious that i was in the presence of a very handsome woman and that she was asking me the reasons for my visit i had not quite understood until that instant how delicate my was i have the pleasure said i of knowing your father it was a clumsy and the lady made me feel it there is nothing in common between my father and me she said i owe him nothing and his friends are not mine if it were not for the late sir and some other kind hearts i might have starved for all that my father cared it was about the late sir that i have come here to see you the started out on the lady face what can i tell you about him she asked and her fingers played nervously over the stops of her typewriter you knew him did you not i have already said that i owe a great deal to his kindness if i am able to support myself it is due to the interest which he took in my unhappy situation did you with him the lady looked quickly up with an angry gleam in her hazel eyes what is the object of these questions she asked sharply the object is to avoid a public it is better that i should ask them here than that the matter should pass outside our control she was silent and her face was still very pale at last she looked up with something reckless and defiant in her manner well i answer she said what are your questions did you with sir i certainly wrote to him once or twice to acknowledge his delicacy and his have you the of those letters no have you ever met him yes once or twice when he came into he was a very retiring man and he preferred to do good by but if you saw him so seldom and wrote so seldom how did he know enough about your affairs to be able to help you as you say that he has done she met my difficulty with the readiness there were several gentlemen who knew my sad history and united to help me one was mr a and intimate friend of sir he was kind and it was through him that sir learned about my affairs i knew already that sir had made his upon several occasions so the lady bore the of truth upon it did you ever write to sir asking him to meet you i continued mrs with anger again really sir this is a very extraordinary question i am sorry madam but i must repeat it then i answer certainly not not on the very day of sir death the flush had faded in an instant and a face was before me her dry lips could not speak the no which i saw rather than heard surely your memory you said i i could even a passage of your letter it ran please please as you are a gentleman burn this letter and be at the gate by ten o clock i thought that she had fainted but she recovered herself by a supreme effort is there no such thing as a gentleman she you do sir an he did burn the letter but sometimes a letter may be even when you acknowledge now that you wrote it yes i did write it she cried out her soul in a of words i did write it why should i deny it i have no reason to be ashamed of it i wished him to help me i believed that if i had an i could gain his help so i asked him to meet me but why at such an hour because i had only just learned that he was going to london next day and might be away for months there were reasons why i could not get there but why a in the garden instead of a visit to the house do you think a woman could go alone at that hour to a bachelor house well what happened when you did get there i never went mrs no i swear it to you on all i hold sacred i never went something to prevent my going what was that that is a private matter i can not tell it you acknowledge then that you made an with sir at the very hour and place at which he met his death but you deny that you kept the that is the truth again and again i her but i could never get past that point mrs said i as i rose from this long and you are taking a very great responsibility and putting yourself in a very false position by not making an absolutely clean breast of all that you know if i have to call in the aid of the police you will find how seriously you are compromised if your position is innocent why did you in the first instance deny having written to sir upon that date because i feared that some false might be from it and that i might find myself in a and why were you so pressing that sir should destroy your letter if you have read the letter you will know i did not say that i had read all the letter you some of it i the the letter had as i said been and it was not all i ask you once again why it was that you were so pressing that sir should destroy this letter which he received on the day of his death the matter is a very private one the more reason why you should avoid a public i will tell you then if you have heard anything of my unhappy history you will know that i made a rash marriage and had reason to it i have heard so much my life has been one incessant from a husband whom i abhor the law is upon his side and every day i am by the possibility that he may force me to live with him at the time that i wrote this letter to sir i had learned that there was a prospect of my my freedom if certain expenses could be met it meant everything to of mind happiness i knew sir and i thought that if he heard the story from my own lips he would help me then how is it that you did not go because i received help in the interval from another why then did you not write to sir and explain this so i should have done had i not seen his death in the paper next morning the woman story hung together and all my questions were unable to shake it i could only check it by finding if she had indeed proceedings against her husband at or about the time of the tragedy it was that she would dare to say that she had not been to hall if she really had been for a trap would be necessary to take her there and could not have returned to until the early hours of the morning such an could not be kept secret the was therefore that she was telling the truth or at least a part of the truth i came away baffled and disheartened once again i had reached that dead wall which seemed to be built across every path by which i tried to get at the object of my and yet the more i thought of the lady face and of her manner the more i felt that something was being held back from me why should she turn so pale why should she fight against every admission until it was forced from her why should she have been so reticent at the time of the tragedy surely the explanation of all this could not be as innocent as she would have me believe for the moment i could proceed no farther in that direction but must turn back to that other which was to be sought for among the stone upon the and that was a most vague direction i it as i drove back and noted how hill after hill showed of the people only had been that the stranger lived in one of these abandoned and many hundreds of them are scattered the length and of the but i had my own experience for a guide since it had shown me the man himself standing upon the of the black that then should be the centre of my search from there i should every upon the until i lighted upon the right one if this man were inside it i should find out from his own lips at the point of my revolver if necessary who he was and why he had dogged us so long he might slip away from us in the crowd of regent street but it would puzzle him to do so upon the lonely on the other hand if i should find the and its should not be within it i must remain there however long the until he returned holmes had missed him in london it would indeed be a triumph for me if i could run him to earth where my master had failed luck had been against us again and again in this but now at last it came to my aid and the messenger of good fortune was none other than mr who was standing and outside the gate of his garden which opened on to the along which i cried he with good you must really give your horses a rest and come in to have a glass of wine and to congratulate me my feelings towards him were very far from being friendly after what i had heard of his treatment of his daughter but i was anxious to send and the home and the opportunity was a good one i and sent a message to sir henry that i should walk over in time for dinner then i followed into his it is a great day for me of the days of my life he cried with many chuckles i have brought off a double i mean to teach them in these parts that law is law and that there is a man here who does not fear to it i have established a right of way through the centre of old park across it sir within a hundred yards of his own front door what do you think of that we teach these that they can not ride over the rights of the them and i closed the wood where the folk used to these people seem to think that there are no rights of property and that they can where they like with their papers and their both cases and both in my i had such a day since i had sir john for because he shot in his own how on earth did you do that look it up in the books sir it will v court of queen bench it cost me but i got my did it do you any good none sir none i am proud to say that i had no interest in the matter i act entirely from a sense of public duty i have no doubt for example that the people will burn me in effigy tonight i told the police last time they did it that they should stop these disgraceful exhibitions the is in a scandalous state sir and it has not me the protection to which i am entitled the case of v will bring the matter before the attention of the public i told them that they would have occasion to their treatment of me and already my words have come true how so i asked the old man put on a very knowing expression because i could tell them what they are dying to know but nothing would induce me to help the in any way i had been round for some excuse by which i could get away from his but now i began to wish to hear more of it i had seen enough of the contrary nature of the old to understand that any strong sign of interest would be the surest way to stop his confidences some case no doubt said i with an indifferent manner ha ha my boy a very much more important matter than that what about the on the i you don mean that you know where he is said i i may not know exactly where he is but i am quite sure that i could help the police to lay their hands on him has it never struck you that the way to catch that man was to find out where he got his food and so trace it to him he certainly seemed to be getting uncomfortably near the truth no doubt said i but how do you know that he is anywhere upon the i know it because i have seen with my own eyes the messenger who takes him his food my heart for it was a serious thing to be in the power of this old busybody but his next took a weight from my mind you be surprised to hear that his food is taken to him by a child i see him every day through my upon the roof he passes along the same path at the same hour and to whom should he be going except to the here was luck indeed and yet i suppressed all appearance of interest a child had said that our unknown was supplied by a boy it was on his track and not upon the that had if i could get his knowledge it might save me a long and weary hunt but incredulity and indifference were evidently my strongest cards i should say that it was much more likely that it was the son of one of the taking out his father dinner the least appearance of opposition struck fire out of the old autocrat his eyes looked at me and his grey whiskers like those of an angry cat indeed sir said he pointing out over the do you see that black over well do you see the low hill beyond with the upon it it is the part of the whole is that a place where a shepherd would be likely to take his station your suggestion sir is a most absurd one i that i had spoken without knowing all the facts my submission pleased him and led him to further confidences you may be sure sir that i have very good grounds before i come to an opinion i have seen the boy again and again with his bundle every day and sometimes twice a day i have been wait a moment do my eyes deceive me or is there at the present moment something moving upon that it was several miles off but i could distinctly see a small dark against the dull green and grey come sir come cried rushing upstairs you will see with your own eyes and judge for yourself the a formidable instrument upon a stood upon the flat leads of the house his eye to it and gave a cry of satisfaction quick quick before he passes over the hill there he was sure enough a small with a little bundle upon his shoulder slowly up the hill when he reached the i saw the figure for an instant against the cold blue sky he looked round him with a and stealthy air as one who pursuit then he over the hill well am i right certainly there is a boy who seems to have some secret and what the is even a could guess but not one word shall they have from me and i bind you to also not a word you understand just as you wish they have treated me when the facts come out in v i to think that a of indignation will run through the country nothing would induce me to help the police in any way for all they cared it might have been me instead of my effigy which these at the stake surely you are not going you will help me to the in of this great occasion but i all his and succeeded in him from his announced intention of walking home with me i kept the road as long as his eye was on me and then i struck off across the and made for the hill over which the boy had everything was working in my and i swore that it should not be through lack of energy or that i should miss the chance which fortune had thrown in my way the sun was already when i reached the of the hill and the long slopes beneath me were all on one side and grey on the other a lay low upon the out of which the of and over the wide there was no sound and no movement one great grey bird a gull or in the blue heaven he and i seemed to be the only living things between the huge arch of the sky and the desert beneath it the barren scene the sense of loneliness and the mystery and of my task all struck a chill into my heart the boy was nowhere to be seen but down beneath me in a cleft of the hills there was a circle of the old stone and in the middle of them there was one which retained roof to act as a screen against the weather my heart within me as i saw it this must be the where the stranger at last my foot was on the threshold of his hiding secret was within my grasp as i approached the walking as as would do when with net he drew near the settled i satisfied myself that the place had indeed been used as a a vague among the led to the opening which served as a door all was silent within the unknown might be there or he might be on the my nerves with the sense of adventure throwing aside my i closed my hand upon the of my revolver and walking swiftly up to the door i looked in the place was but there were signs that i had not come upon a false this was certainly where the man lived some blankets in a waterproof lay upon that very stone upon which man had once the ashes of a fire were heaped in a rude grate beside it lay some cooking and a of water a litter of showed that the place had been occupied for some time and i saw as my eyes became accustomed to the light a and a bottle of spirits standing in the corner in the middle of the a flat stone served the purpose of a table and upon this stood a small cloth same no doubt which i had seen through the upon the shoulder of the boy it a of bread a tongue and two of as i set it down again after having examined it my heart to see that beneath it there lay a sheet of paper with writing upon it i raised it and this was what i read roughly scrawled in has gone to for a minute i stood there with the paper in my hands thinking out the meaning of this message it was i then and not sir henry who was being dogged by this secret man he had not followed me himself but he had set an boy my track and this was his possibly i had taken no step since i had been upon the which had not been observed and always there was this feeling of an force a fine net round us with infinite skill and delicacy holding us so lightly that it was only at some supreme moment that one that one was indeed in its if there was one there might be others so i looked round the in search of them there was no trace however of anything of the kind nor could i discover any sign which might indicate the character or intentions of the man who lived in this singular place save that he must be of habits and cared little for the of life when i thought of the heavy and looked at the roof i understood how strong and must be the purpose which had kept him in that abode was he our enemy or was he by chance our guardian angel i swore that i would not leave the until i knew outside the sun was low and the west was with scarlet and gold its reflection was shot back in patches by the distant which lay the great there were the two of hall and there a distant of which marked the of between the two behind the hill was the house of the all was and and in the golden evening light and yet as i looked at them my soul none of the peace of nature but at the and the terror of that which every instant was bringing nearer with nerves but a fixed purpose i sat in the dark of the and waited with patience for the coming of its and then at last i heard him far away came the sharp of a striking upon a stone then another and yet another coming nearer and nearer i shrank back into the corner and the pistol in my pocket determined not to discover myself until i had an opportunity of seeing something of the stranger there was a long pause which showed that he had stopped then once more the footsteps approached and a fell across the opening of the it is a lovely evening my dear said a voice i really think that you will be more comfortable outside than in death on the for a moment or two i sat breathless hardly able to believe my ears then my senses and my voice came back to me while a crushing weight of responsibility seemed in an instant to be from my soul that cold voice could belong to but one man in all the world holmes i holmes come out said he and please be careful with the revolver i under the rude and there he sat upon a stone outside his grey eyes with amusement as they fell upon my astonished features he was thin and worn but clear and his keen face by the sun and by the wind in his suit and cloth cap he looked like any other upon the and he had with that love of personal cleanliness which was one of his that his chin should be as smooth and his linen as perfect as if he were in street i never was more glad to see anyone in my life said i as i him by the hand or more astonished eh well i must confess to it the surprise was not all on one side i assure you i had no idea that you had found my occasional still less that you were inside it until i was within twenty of the door my i presume no i fear that i could not undertake to recognize your all the of the world if you seriously desire to deceive me you must change your for when i see the of a marked oxford street i know that my friend is in the you will see it there beside the path you threw it down no doubt at that supreme moment when you charged into the exactly i thought as knowing your i was convinced that you were sitting in a weapon within reach waiting for the to return so you actually thought that i was the criminal i did not know who you were but i was determined to find out excellent and how did you me you saw me perhaps on the night of the hunt when i was so as to allow the to rise behind me yes i saw you then and have no doubt searched all the until you came to this one no your boy had been observed and that gave me a guide where to look the old gentleman with the no doubt i could not make it out when first i saw the light flashing upon the he rose and into the ha i see that has brought up some what this paper so you have been to have you yes to see mrs laura exactly well done our have evidently been running on parallel lines and when we our results i expect we shall have a fairly full knowledge of the case well i am glad from my heart that you are here for indeed the responsibility and the mystery were both becoming too much for my nerves but how in the name of wonder did you come here and what have you been doing i thought that you were in street working out that case of that was what i wished you to think then you use me and yet do not trust me i cried with some bitterness i think that i have better at your hands holmes my dear fellow you have been invaluable to me in this as in many other cases and i beg that you will forgive me if i have seemed to play a trick upon you in truth it was partly for your own sake that i did it and it was my of the danger which you ran which led me to come down and the matter for myself had i been with sir henry and you it is confident that my point of view would have been the same as yours and my presence would have warned our very formidable to be on their guard as it is i have been able to get about as i could not possibly have done had i been living in the hall and i remain an unknown in the business ready to throw in all my weight at a critical moment but why keep me in the dark for you to know could not have helped us and might possibly have led to my you would have wished to tell me something or in your kindness you would have brought me out some comfort or other and so an unnecessary risk would be run i brought down with remember the little chap at the express he has seen after my simple wants a of bread and a clean collar what does man want more he has given me an extra pair of eyes upon a very active pair of feet and both have been invaluable then my have all been wasted voice as i the pains and the pride with which i had them holmes took a bundle of papers from his pocket here are your my dear fellow and very well thumbed i assure you i made excellent arrangements and they are only one day upon their way i must compliment you upon the and the intelligence which you have shown over an extraordinarily difficult case i was still rather raw over the which had been practised upon me but the warmth of holmes drove my anger from my mind i felt also in my heart that he was right in what he said and that it was really best for our purpose that i should not have known that he was upon the that better said he seeing the rise from my face and now tell me the result of your visit to mrs laura was not difficult for me to guess that it was to see her that you had gone for i am already aware that she is the one person in who might be of service to us in the matter in fact if you had not gone today it is that i should have gone tomorrow the sun had set and was settling over the the air had turned chill and we into the for warmth there sitting together in the i told holmes of my conversation with the lady so interested was he that i had to repeat some of it twice before he was satisfied this is most important said he when i had concluded it fills up a which i had been unable to bridge in this most affair you are aware perhaps that a close intimacy exists between this lady and the man i did not know of a close intimacy there can be no doubt about the matter they meet they write there is a complete understanding between them now this puts a very weapon into our hands if i could only use it to his his wife i am giving you some now in return for all that you have given me the lady who has passed here as miss is in reality his wife good heavens holmes are you sure of what you say how could he have permitted sir henry to fall in love with her sir henry falling in love could do no harm to anyone except sir henry he took particular care that sir henry did not make love to her as you have yourself observed i repeat that the lady is his wife and not his sister but why this elaborate because he that she would be very much more useful to him in the character of a free woman all my unspoken instincts my vague suspicions suddenly took shape and upon the in that man with his straw hat and his i seemed to see something creature of infinite patience and with a smiling face and a murderous heart it is he then who is our is he who dogged us in london so i read the and the must have come from her exactly the shape of some monstrous half seen half guessed through the darkness which had me so long but are you sure of this holmes how do you know that the woman is his wife because he so far forgot himself as to tell you a true piece of upon the occasion when he first met you and i dare say he has many a time it since he was once a in the north of england now there is no one more easy to trace than a there are by which one may any man who has been in the profession a little showed me that a school had come to grief under circumstances and that the man who had owned name was with his wife the agreed when i learned that the missing man was devoted to the was complete the darkness was rising but much was still hidden by the if this woman is in truth his wife where does mrs laura come in i asked that is one of the points upon which your own have shed a light your with the lady has cleared the situation very much i did not know about a between herself and her husband in that case regarding as an unmarried man she counted no doubt upon becoming his wife and when she is why then we may find the lady of service it must be our first duty to see of don you think that you are away from your charge rather long your place should be at hall the last red had faded away in the west and night had settled upon the a few faint stars were in a violet sky one last question holmes i said as i rose surely there is no need of between you and me what is the meaning of it all what is he after holmes voice as he it is murder coldblooded deliberate murder do not ask me for particulars my are closing upon him even as his are upon sir henry and with your help he is already almost at my mercy there is but one danger which can threaten us it is that he should strike before we are ready to do so another at the i have my case complete but until then guard your charge as closely as ever a fond mother her child your today has justified itself and yet i could almost wish that you had not left his side a terrible yell of horror and out of the silence of the that frightful cry turned the blood to ice in my veins oh my god i what is it what does it mean holmes had sprung to his feet and i saw his dark at the door of the his shoulders stooping his head thrust forward his face peering into the darkness hush he hush the cry had been loud on account of its vehemence but it had out from somewhere far off on the plain now it burst upon our ears nearer louder more urgent than before where is it holmes and i knew from the of his voice that he the man of iron was to the soul where is it there i think i pointed into the darkness no there again the cry swept through the silent night louder and much nearer than ever and a new sound mingled with it a deep muttered musical and yet rising and falling like the low constant murmur of the sea the cried holmes come come great heavens if we are too late he had started running swiftly over the and i had followed at his heels but now from somewhere among the broken ground immediately in front of us there came one last despairing yell and then a dull heavy we and listened not another sound broke the heavy silence of the night i saw holmes put his hand to his forehead like a man distracted he his feet upon the ground he has beaten us we are too late no no surely not fool that i was to hold my hand and you see what comes of abandoning your charge but by heaven if the worst has happened we him we ran through the gloom blundering against forcing our way through gorse bushes panting up hills and rushing down slopes heading always in the direction those dreadful sounds had come at every rise holmes looked eagerly round him but the were thick upon the and nothing moved upon its face can you see anything nothing but what is that a low had fallen upon our ears there it was again upon our left on that side a of rocks ended in a sheer cliff which a slope on its face was some dark irregular object as we ran towards it the vague into a shape it was a man face upon the ground the head under him at a horrible the shoulders and the body together as if in the act of throwing a so grotesque was the attitude that i could not for the instant that that had been the passing of his soul not a whisper not a rose now from the dark figure over which we holmes laid his hand upon him and held it up again with an exclamation of horror the gleam of the match which he struck upon his fingers and upon the which slowly from the crushed of the victim and it upon something else which turned our hearts sick and faint within body of sir henry there was no chance of either of us forgetting that very one which he had worn on the first morning that we had seen him in street we caught the one clear glimpse of it and then the match and went out even as the hope had gone out of our souls holmes and his face white through the darkness the brute the brute i cried with clenched hands oh holmes i shall never forgive myself for having left him to his fate i am more to blame than you in order to have my case well and complete i have thrown away the life of my it is the greatest blow which has me in my career but how could i could i he would risk his life alone upon the in the face of all my that we should have heard his god those yet have been unable to save him where is this brute of a which drove him to his death it may be among these rocks at this instant and where is he he shall answer for this deed he shall i will see to that uncle and have been one frightened to death by the very sight of a beast which he thought to be the other driven to his end in his wild flight to escape from it but now we have to prove the between the man and the beast save from what we heard we can not even swear to the existence of the since sir henry has evidently died from the fall but by heavens cunning as he is the fellow shall be in my power before another day is past we stood with bitter hearts on either side of the body overwhelmed by this sudden and which had brought all our long and weary to so an end then as the rose we climbed to the top of the rocks over which our poor friend had fallen and from the we out over the half and half gloom far away miles off in the direction of a single steady yellow light was it could only come from the lonely abode of the with a bitter curse i my fist at it as i why should we not seize him at once our case is not complete the fellow is and cunning to the last degree it is not what we know but what we can prove if we make one false move the villain may escape us yet what can we do there will be plenty for us to do tomorrow tonight we can only the last to our poor friend together we made our way down the slope and approached the body black and clear against the stones the agony of those limbs struck me with a of pain and my eyes with tears we must send for help holmes we can not carry him all the way to the hall good heavens are you mad he had uttered a cry and bent over the body now he was and laughing and my hand could this be my stern friend these were hidden indeed a beard a beard the man has a beard a beard it is not the it is my the with haste we had turned the body over and that dripping beard was pointing up to the cold clear there could be no doubt about the forehead the animal eyes it was indeed the same face which had upon me in the light of the candle from over the face of the criminal then in an instant it was all clear to me i remembered how the had told me that he had his old to had passed it on in order to help in his escape boots was all sir henry the tragedy was still black enough but this man had at least death by the laws of his country i told holmes how the matter stood my heart over with and joy then the clothes have been the poor devil death said he it is clear enough that the has been laid on from some article of sir henry which was in the hotel in all so ran this man down there is one very singular thing however how came in the darkness to know that the was on his trail he heard him to hear a upon the would not work a hard man like this into such a of terror that he would risk by screaming wildly for help by his cries he must have run a long way after he knew the animal was on his track how did he know a greater mystery to me is why this that all our are i presume nothing well then why this should be loose tonight i suppose that it does not always run loose upon the would not let it go unless he had reason to think that sir henry would be there my difficulty is the more formidable of the two for i think that we shall very get an explanation of yours while mine may remain a mystery the question now is what shall we do with this poor wretch body we can not leave it here to the and the i suggest that we put it in one of the until we can with the police exactly i have no doubt that you and i could carry it so far what this it the man himself by all that wonderful and audacious not a word to show your a word or my plans to the ground a figure was approaching us over the and i saw the dull red glow of a the upon him and i could the shape and jaunty walk of the he stopped when he saw us and then came on again why that not you is it you are the last man that i should have expected to see out on the at this time of night but dear me what this somebody hurt tell me that it is our friend sir henry he hurried past me and over the dead man i heard a sharp of his breath and the fell from his fingers this he it is the man who escaped from turned a face upon us but by a supreme effort he had overcome his amazement and his disappointment he looked sharply from holmes to me dear me what a very shocking affair how did he die he appears to have broken his neck by falling over these rocks my friend and i were strolling on the when we heard a cry i heard a cry also that was what brought me out i was uneasy about sir henry why about sir henry in particular i could not help asking because i had that he should come over when he did not come i was surprised and i naturally became alarmed for his safety when i heard cries upon the by the way eyes again from my face to holmes did you hear anything else besides a cry no said holmes did you no what do you mean then oh you know the stories that the peasants tell about a and so on it is said to be heard at night upon the i was wondering if there were any evidence of such a sound tonight we heard nothing of the kind said i and what is your of this poor fellow death i have no doubt that anxiety and have driven him off his head he has about the in a state and fallen over here and broken his neck that seems the most reasonable said and he gave a sigh which i took to indicate his relief what do you think about it mr sherlock holmes my friend his compliments you are quick at said he we have been expecting you in these parts since came down you are in time to see a tragedy yes indeed i have no doubt that my friend explanation will the facts i will take an back to london with me tomorrow oh you return tomorrow that is my intention i hope your visit has cast some light upon those which have puzzled us holmes his shoulders one can not always have the success for which one hopes an needs facts and not or it has not been a satisfactory case my friend spoke in his and most unconcerned manner still looked hard at him then he turned to me i would suggest carrying this poor fellow to my house but it would give my sister such a that i do not feel justified in doing it i think that if we put something over his face he will be safe until morning and so it was arranged offer of hospitality holmes and i set off to hall leaving the to return alone looking back we saw the figure moving slowly away over the broad and behind him that one black on the slope which showed where the man was lying who had come so horribly to his end we at close grips at last said holmes as we walked together across the what a nerve the fellow has how he pulled himself together in the face of what must have been a shock when he found that the wrong man had fallen a victim to his plot i told you in london and i tell you now again that we have never had a more worthy of our i am sorry that he has seen you and so was i at first but there was no getting out of it what effect do you think it will have upon his plans now that he knows you are here it may cause him to be more cautious or it may drive him to desperate measures at once like most clever he may be too confident in his own cleverness and imagine that he has completely deceived us why should we not him at once my dear you were born to be a man of action your instinct is always to do something energetic but for argument sake that we had him arrested tonight what on earth the better off should we be for that we could prove nothing against him there the devilish cunning of it if he were acting through a human we could get some evidence but if we were to drag this great dog to the light of day it would not help us in putting a round the neck of its master surely we have a case not a of and we should be laughed out of court if we came with such a story and such evidence there is sir death found dead without a mark upon him you and i know that he died of sheer and we know also what frightened him but how are we to get twelve to know it what signs are there of a where are the of its of course we know that a does not bite a dead body and that sir was dead before ever the brute him but we have to prove all this and we are not in a position to do it well then tonight we are not much better off tonight again there was no direct between the and the man death we never saw the we heard it but we could not prove that it was running upon this man trail there is a complete absence of no my dear fellow we must reconcile ourselves to the fact that we have no case at present and that it is worth our while to run any risk in order to establish one and how do you propose to do so i have great hopes of what mrs laura may do for us when the position of affairs is made clear to her and i have my own plan as well for tomorrow is the but i hope before the day is past to have the upper hand at last i could draw nothing further from him and he walked lost in thought as far as the gates are you coming up yes i see no reason for further concealment but one last word say nothing of the to sir henry let him think that death was as would have us believe he will have a better nerve for the which he will have to tomorrow when he is engaged if i remember your aright to dine with these people and so am i then you must excuse yourself and he must go alone that will be easily arranged and now if we are too late for dinner i think that we are both ready for our the sir henry was more pleased than surprised to see sherlock holmes for he had for some days been expecting that recent events would bring him down from london he did raise his eyebrows however when he found that my friend had neither any luggage nor any explanations for its absence between us we soon supplied his wants and then over a supper we explained to the as much of our experience as it seemed desirable that he should know but first i had the duty of breaking the news to and his wife to him it may have been an relief but she bitterly in her apron to all the world he was the man of half animal and half demon but to her he always remained the little boy of her own the child who had clung to her hand indeed is the man who has not one woman to him i been in the house all day since went off in the morning said the i guess i should have some credit for i have kept my promise if i sworn not to go about alone i might have had a more lively evening for i had a message from asking me over there i have no doubt that you would have had a more lively evening said holmes drily by the way i don suppose you appreciate that we have been mourning over you as having broken your neck sir henry opened his eyes how was that this poor wretch was dressed in your clothes i fear your servant who gave them to him may get into trouble with the police that is there was no mark on any of them as far as i know that for fact it for all of you since you are all on the wrong side of the law in this matter i am not sure that as a detective my first duty is not to the whole household are most documents but how about the case asked the have you made anything out of the i don know that and i are much the wiser since we came down i think that i shall be in a position to make the situation rather more clear to you before long it has been an difficult and most complicated business there are several points upon which we still want it is coming all the same we had one experience as has no doubt told you we heard the on the so i can swear that it is not all superstition i had something to do with dogs when i was out west and i know one when i hear one if you can muzzle that one and put him on a chain i be ready to swear you are the greatest detective of all time i think i will muzzle him and chain him all right if you will give me your help whatever you tell me to do i will do very good and i will ask you also to do it without always asking the reason just as you like if you will do this i think the chances are that our little problem will soon be solved i have no he stopped suddenly and fixedly up over my head into the air the lamp beat upon his face and so was it and so still that it might have been that of a classical statue a of and expectation what is it we both cried i could see as he looked down that he was some emotion his features were still but his eyes with amused exultation excuse the admiration of a said he as he his hand towards the line of portraits which covered the opposite wall won allow that i know anything of art but that is mere jealousy because our views upon the subject now these are a really very fine series of portraits well i glad to hear you say so said sir henry glancing with some surprise at my friend i don pretend to know much about these things and i d be a better judge of a horse or a steer than of a picture i know that you found time for such things i know what is good when i see it and i see it now that a i swear that lady in the blue silk over and the gentleman with the ought to be a they are all family portraits i presume every one do you know the names has been me in them and i think i can say my lessons fairly well who is the gentleman with the that is who served under in the west the man with the blue coat and the roll of paper is sir who was chairman of of the house of under and this opposite to one with the black velvet and the ah you have a right to know about him that is the cause of all the mischief the wicked who started the of the we not likely to forget him i with interest and some surprise upon the portrait dear me said holmes he seems a quiet man enough but i dare say that there was a devil in his eyes i had him as a more robust and person there no doubt about the for the name and the date are on the back of the canvas holmes said little more but the picture of the old seemed to have a fascination for him and his eyes were continually fixed upon it during supper it was not until later when sir henry had gone to his room that i was able to follow the of his thoughts he led me back into the his bedroom candle in his hand and he held it up against the portrait on the wall do you see anything there i looked at the broad hat the the white collar and the straight face which was between them it was not a brutal countenance but it was hard and stern with a mouth and a coldly eye is it like anyone you know there is something of sir henry about the jaw just a suggestion perhaps but wait an instant he stood upon a chair and holding up the light in his left hand he his right arm over the broad hat and round the long good heavens i cried in amazement the face of had sprung out of the canvas ha you see it now my eyes have been trained to faces and not their it is the first quality of a criminal that he should see through a but this is marvellous it might be his portrait yes it is an interesting instance of a which appears to be both physical and spiritual a study of family portraits is enough to a man to the of the fellow is a is with designs upon the exactly this chance of the picture has supplied us with one of our most obvious missing we have him we have him and i dare swear that before tomorrow night he will be in our net as helpless as one of his own a a and a card and we add him to the street collection he burst into one of his fits of laughter as he turned away from the picture i have not heard him laugh often and it has always ill to somebody i was up in the morning but holmes was still for i saw him as i dressed coming up the drive yes we should have a full day today he and he his hands with the joy of action the are all in place and the drag is about to begin we know before the day is out whether we have caught our big or whether he has got through the have you been on the already i have sent a from to as to the death of i think i can promise that none of you will be troubled in the matter and i have also with my faithful who would certainly have away at the door of my as a dog does at his master grave if i had not set his mind at rest about my safety what is the next move to see sir henry ah here he is goodmorning holmes said the you look like a general who is a battle with his chief of the staff that is the exact situation was asking for orders and so do i very good you are engaged as i understand to dine with our friends the tonight i hope that you will come also they are very hospitable people and i am sure that they would be very glad to see you i fear that and i must go to london to london yes i think that we should be more useful there at the present the face perceptibly i hoped that you were going to see me through this business the hall and the are not very pleasant places when one is alone my dear fellow you must trust me and do exactly what i tell you you can tell your friends that we should have been happy to have come with you but that urgent business us to be in town we hope very soon to return to will you remember to give them that message if you insist upon it there is no alternative i assure you i saw by the brow that he was deeply hurt by what he regarded as our when do you desire to go he asked coldly immediately after breakfast we will drive in to but will leave his things as a pledge that he will come back to you you will send a note to to tell him that you that you can not come i have a good mind to go to london with you said the why should i stay here alone because it is your of duty because you gave me your word that you would do as you were told and i tell you to stay all right then i stay one more direction i wish you to drive to house send back your trap however and let them know that you intend to walk home to walk across the yes but that is the very thing which you have so often me not to do this time you may do it with safety if i had not every confidence in your nerve and courage i would not suggest it but it is essential that you should do it then i will do it and as you value your life do not go across the in any direction save along the straight path which leads from house to the road and is your natural way home i will do just what you say very good i should be glad to get away as soon after breakfast as possible so as to reach london in the afternoon i was much astounded by this though i remembered that holmes had said to on the night before that his visit would next day it had not crossed my mind however that he would wish me to go with him nor could i understand how we could both be absent at a moment which he himself to be critical there was nothing for it however but so we bade goodbye to our friend and a couple of hours afterwards we were at the station of and had the trap upon its return journey a small boy was waiting upon the platform any orders sir you will take this train to town the moment you you will send a to sir henry in my name to say that if he finds the pocketbook which i have dropped he is to send it by to street yes sir and ask at the station office if there is a message for me the boy returned with a telegram which holmes to me it ran received coming down with warrant that is in answer to mine of this morning he is the best of the i think and we may need his assistance now i think that we can not employ our time better than by calling upon your acquaintance mrs laura his plan of campaign was beginning to be he would use the in order to the that we were really gone while we should actually return at the instant when we were likely to be needed that telegram from london if mentioned by sir henry to the must the last suspicions from their minds already i seemed to see our drawing closer around that mrs laura was in her office and sherlock holmes opened his with a frankness and which considerably amazed her i am the circumstances which attended the death of the late sir said he my friend here has me of what you have and also of what you have withheld in with that matter what have i withheld she asked defiantly you have confessed that you asked sir to be at the gate at ten o clock we know that that was the place and hour of his death you have withheld what the is between these events there is no in that case the coincidence must indeed be an extraordinary one but i think that we shall succeed in a after all i wish to be perfectly frank with you mrs we regard this case as one of murder and the evidence may not only your friend mr but his wife as well the lady from her chair his wife she cried the fact is no longer a secret the person who has passed for his sister is really his wife mrs had her seat her hands were grasping the arms of her chair and i saw that the pink nails had turned white with the pressure of her grip his wife she said again his wife he is not a married man sherlock holmes his shoulders prove it to me prove it to me and if you can do the fierce flash of her eyes said more than any words i have come prepared to do so said holmes drawing several papers from his pocket here is a photograph of the couple taken in four years ago it is mr and mrs but you will have no difficulty in recognizing him and her also if you know her by sight here are three written by of mr and mrs who at that time kept st private school read them and see if you can doubt the identity of these people she at them and then looked up at us with the set rigid face of a desperate woman mr holmes she said this man had offered me marriage on condition that i could get a from my husband he has lied to me the villain in every way not one word of truth has he ever told me and i that all was for my own sake but now i see that i was never anything but a tool in his hands why should i preserve faith with him who never kept any with me why should i try to him from the consequences of his own wicked ask me what you like and there is nothing which i shall hold back one thing i swear to you and that is that when i wrote the letter i never of any harm to the old gentleman who had been my kindest friend i entirely believe you madam said sherlock holmes the of these events must be very painful to you and perhaps it will make it easier if i tell you what and you can check me if i make any material mistake the sending of this letter was to you by he it i presume that the reason he gave was that you would receive help from sir for the expenses with your exactly and then after you had sent the letter he you from keeping the he told me that it would hurt his selfrespect that any other man should find the money for such an object and that though he was a poor man himself he would devote his last penny to the obstacles which divided us he appears to be a very character and then you heard nothing until you read the of the death in the paper no and he made you swear to say nothing about your with sir he did he said that the death was a very mysterious one and that i should certainly be suspected if the facts came out he frightened me into remaining silent quite so but you had your suspicions she and looked down i knew him she said but if he had kept faith with me i should always have done so with him i think that on the whole you have had a fortunate escape said sherlock holmes you have had him in your power and he knew it and yet you are alive you have been walking for some months very near to the edge of a precipice we must wish you goodmorning now mrs and it is that you will very hear from us again our case becomes off and difficulty after difficulty away in front of us said holmes as we stood waiting for the arrival of the express from town i shall soon be in the position of being able to put into a single one of the most singular and crimes of modern times of will remember the in in little russia in the year and of course there are the in north but this case some features which are entirely its own even now we have no clear case against this very man but i shall be very much surprised if it is not clear enough before we go to bed this night the london express came roaring into the station and a small bulldog of a man had sprung from a firstclass carriage we all three hands and i saw at once from the way in which at my companion that he had learned a good deal since the days when they had first worked together i could well remember the scorn which the of the used then to in the practical man anything good he asked the biggest thing for years said holmes we have two hours before we need think of starting i think we might employ it in getting some dinner and then we will take the london out of your throat by giving you a breath of the pure night air of never been there ah well i don suppose you will forget your first visit the of the one of sherlock holmes indeed one may call it a that he was to his full plans to any other person until the instant of their fulfilment partly it came no doubt from his own masterful nature which loved to and surprise those who were around him partly also from his professional which him never to take any chances the result however was very trying for those who were acting as his agents and i had often suffered under it but never more so than during that long drive in the darkness the great was in front of us at last we were about to make our final effort and yet holmes had said nothing and i could only what his course of action would be my nerves with when at last the cold wind upon our faces and the dark void on either side of the narrow road told me that we were back upon the once again every of the horses and every turn of the wheels was taking us nearer to our supreme adventure our conversation was by the presence of the driver of the hired so that we were forced to talk of trivial matters when our nerves were with emotion and it was a relief to me after that unnatural when we at last passed house and knew that we were drawing near to the hall and to the scene of action we did not drive up to the door but got down near the gate of the avenue the was paid off and ordered to return to while we started to walk to house are you armed the little detective as long as i have my trousers i have a and as long as i have my i have something in it good my friend and i are also ready for you mighty close about this affair mr holmes what the game now a waiting game my word it does not seem a very cheerful place said the detective with a glancing round him at the slopes of the hill and at the huge of which lay over the i see the lights of a house ahead of us that is house and the end of our journey i must request you to walk on tiptoe and not to talk above a whisper we moved along the track as if we were bound for the house but holmes us when we were about two hundred yards from it this will do said he these rocks upon the right make an screen we are to wait here yes we shall make our little here get into this hollow you have been inside the house have you not can you tell the position of the rooms what are those windows at this end i think they are the kitchen windows and the one beyond which shines so that is certainly the the blinds are up you know the lie of the land best forward quietly and see what they are for heaven sake don let them know that they are i down the path and behind the low wall which surrounded the creeping in its i reached a point i could look straight through the window there were only two men in the room sir henry and they sat with their towards me on either side of the round table both of them were smoking and coffee and wine were in front of them was talking with but the looked pale and perhaps the thought of that lonely walk across the was heavily upon his mind as i them rose and left the room while sir henry filled his glass again and back in his chair puffing at his i heard the of a door and the crisp sound of boots upon gravel the steps passed along the path on the other side of the wall under which i looking over i saw the pause at the door of an in the corner of the a turned in a lock and as he passed in there was a curious noise from within he was only a minute or so inside and then i heard the turn once more and he passed me and the house i saw him his guest and i quietly back to where my were waiting to tell them what i had seen you say that the lady is not there holmes asked when i had finished my no where can she be then since there is no light in any other room except the kitchen i can not think where she is i have said that over the great there hung a white it was drifting slowly in our direction and itself up like a wall on that side of us low but thick and well the on it and it looked like a great with the heads of the distant as rocks borne upon its surface holmes face was turned towards it and he muttered impatiently as he its drift it moving towards us is that serious very serious one thing upon earth which could have disarranged my plans he can be very long now it is already ten o clock our success and even his life may depend upon his coming out before the is over the path the night was clear and fine above us the stars cold and bright while a the whole scene in a soft uncertain light before us lay the dark of the house its roof and chimneys hard against the sky broad of golden light from the lower windows across the and the one of them was suddenly shut off the servants had left the kitchen there only remained the lamp in the where the two men the murderous host and the unconscious guest still over their every minute that white woolly plain which covered of the was drifting closer and closer to the house already the first thin of it were across the golden square of the lighted window the farther wall of the was already and the trees were standing out of a of white as we it the came crawling round both corners of the house and slowly into one bank on which the upper floor and the roof like a strange ship upon a sea holmes struck his hand passionately upon the in front of us and his feet in his impatience if he out in a quarter of an hour the path will be covered in half an hour we won be able to see our hands in front of us shall we move farther back upon higher ground yes i think it would be as well so as the we fell back before it until we were half a mile from the house and still that white sea with the its upper edge swept slowly and inexorably on we are going too far said holmes we dare not take the chance of his being before he can reach us at all we must hold our ground where we are he dropped on his knees and his ear to the ground thank god i think that i hear him coming a sound of quick steps broke the silence of the crouching among the stones we intently at the bank in front of us the steps grew louder and through the as through a curtain there the man whom we were he looked round him in surprise as he into the clear starlit night then he came swiftly along the path passed close to where we lay and went on up the long slope behind us as he walked he continually over either shoulder like a man who is ill at ease cried holmes and i heard the sharp of a pistol look out it coming there was a thin crisp from somewhere in the heart of that crawling bank the cloud was within fifty yards of where we lay and we at it all three uncertain what horror was about to break from the heart of it i was at holmes elbow and i for an instant at his face it was pale and his eyes in the moonlight but suddenly they started forward in a rigid fixed stare and his lips parted in amazement at the same instant gave a yell of terror and threw himself face upon the ground i to my feet my hand grasping my pistol my mind by the dreadful shape which had sprung out upon us from the of the a it was an enormous but not such a as mortal eyes have ever seen fire burst from its open mouth its eyes with a smouldering glare its muzzle and and were in flame never in the dream of a brain could anything more more appalling more hellish be than that dark form and face which broke upon us out of the wall of with long the huge black creature was down the track following hard upon the footsteps of our friend so were we by the that we allowed him to pass before we had recovered our nerve then holmes and i both fired together and the creature gave a hideous which showed that one at least had hit him he did not pause however but far away on the path we saw sir henry looking back his face white in the moonlight his hands raised in horror helplessly at the frightful thing which was hunting him down but that cry of pain from the had blown all our to the winds if he was he was mortal and if we could wound him we could kill him never have i seen a man run as holmes ran that night i am of foot but he me as much as i the little professional in front of us as we up the track we heard scream after scream from sir henry and the deep roar of the i was in time to see the beast spring upon its victim him to the ground and worry at his throat but the next instant holmes had five barrels of his revolver into the creature flank with a last of agony and a vicious snap in the air it upon its back four feet furiously and then fell upon its side i panting and my pistol to the dreadful head but it was useless to press the the giant was dead sir henry lay where he had fallen we tore away his collar and holmes a prayer of gratitude when we saw that there was no sign of a wound and that the rescue had been in time already our friend and he made a feeble effort to move thrust his between the teeth and two frightened eyes were looking up at us my god he what was it what in heaven name was it it dead whatever it is said holmes we laid the family ghost once and in mere size and strength it was a terrible creature which was lying before us it was not a pure and it was not a pure but it appeared to be a of the and as large as a small even now in the stillness of death the huge jaws seemed to be dripping with a flame and the small cruel eyes were with fire i placed my hand upon the glowing muzzle and as i held them up my own fingers and in the darkness i said a cunning of it said holmes sniffing at the dead animal there is no smell which might have with his power of we owe you a deep apology sir henry for having exposed you to this i was prepared for a but not for such a creature as this and the gave us little time to receive him you have saved my life having first it are you strong enough to stand give me another of that brandy and i shall be ready for anything so now if you will help me up what do you propose to do to leave you here you are not fit for further adventures tonight if you will wait one or other of us will go back with you to the hall he tried to to his feet but he was still pale and in every we helped him to a where he sat shivering with his face buried in his hands we must leave you now said holmes the rest of our work must be done and every moment is of importance we have our case and now we only want our man it a thousand to one against our finding him at the house he continued as we our steps swiftly down the path those shots must have told him that the game was up we were some distance off and this may have them he followed the to call him that you may be certain no no he gone by this time but we search the house and make sure the front door was open so we in and hurried from room to room to the amazement of a old manservant who met us in the passage there was no light save in the but holmes caught up the lamp and left no corner of the house no sign could we see of the man whom we were on the upper floor however one of the bedroom doors was locked there someone in here cried i can hear a movement open this door a faint and came from within holmes struck the door just over the lock with the flat of his foot and it open pistol in hand we all three into the room but there was no sign within it of that desperate and defiant villain whom we expected to see instead we were by an object so strange and so unexpected that we stood for a moment staring at it in amazement the room had been fashioned into a small and the walls were by a number of cases full of that collection of and the formation of which had been the relaxation of this and dangerous man in the centre of this room there was an upright which had been placed at some as a support for the old of timber which the roof to this a figure was tied so and muffled in the sheets which had been used to secure it that one could not for the moment tell whether it was that of a man or a woman one towel passed round the throat and was secured at the back of the pillar another covered the lower part of the face and over it two dark full of grief and shame and a dreadful back at us in a minute we had torn off the the bonds and mrs upon the floor in front of us as her beautiful head fell upon her chest i saw the clear red of a across her neck the brute cried holmes here your put her in the chair she has fainted from and exhaustion she opened her eyes again is he safe she asked has he escaped he can not escape us madam no no i did not mean my husband sir henry is he safe yes and the it is dead she gave a long sigh of satisfaction thank god thank god oh this villain see how he has treated me she shot her arms out from her sleeves and we saw with horror that they were all with but this is it is my mind and soul that he has and i could endure it all solitude a life of everything as long as i could still to the hope that i had his love but now i know that in this also i have been his dupe and his tool she broke into sobbing as she spoke you bear him no good will madam said holmes tell us then where we shall find him if you have ever him in help us now and so there is but one place where he can have she there is an old mine on an in the heart of the it was there that he kept his and there also he had made so that he might have a refuge that is where he would fly the lay like white against the window holmes held the lamp towards it see said he no one could find his way into the tonight she laughed and her hands her eyes and teeth with fierce he may find his way in but never out she cried how can he see the tonight we them together he and i to mark the through the oh if i could only have them out today then indeed you would have had him at your mercy it was to us that all pursuit was in vain until the had meanwhile we left in possession of the house while holmes and i went back with the to hall the story of the could no longer be withheld from him but he took the blow when he learned the truth about the woman whom he had loved but the shock of the night adventures had shattered his nerves and before morning he lay in a high fever under the care of the two of them were destined to together round the world before sir henry had become once more the hearty man that he had been before he became master of that and now i come to the of this singular in which i have tried to make the share those dark and vague which our lives so long and ended in so tragic a manner on the morning after the death of the the had and we were guided by mrs to the point where they had found a through the it helped us to the horror of this woman life when we saw the eagerness and joy with which she laid us on her husband track we left her standing upon the thin of soil which out into the from the end of it a small here and there showed where the path from to of rushes among those and which the way to the stranger rank and sent an of decay and a heavy our faces while a false step plunged us more than once into the dark quivering which for yards in soft around our feet its grip at our heels as we walked and when we into it it was as if some hand was us down into those so grim and was the clutch in which it held us once only we saw a trace that someone had passed that way before us from a of cotton which bore it up out of the some dark thing was holmes to his waist as he from the path to seize it and had we not been there to drag him out he could never have set his foot upon land again he held an old black in the air was printed on the leather inside it is worth a mud bath said he it is our friend sir henry missing thrown there by in his flight exactly he retained it in his hand after using it to set the upon the track he when he knew the game was up still clutching it and he hurled it away at this point of his flight we know at least that he came so far in safety but more than that we were never destined to know though there was much which we might there was no chance of finding footsteps in the for the rising mud swiftly in upon them but as we at last reached ground beyond the we all looked eagerly for them but no slightest sign of them ever met our eyes if the earth told a true story then never reached that of refuge towards which he through the upon that last night somewhere in the heart of the great down in the of the huge which had him in this cold and man is buried many we found of him in the where he had hid his a huge and a with rubbish showed the position of an abandoned mine beside it were the remains of the of the driven away no doubt by the of the in one of these a and chain with a quantity of bones showed where the animal had been confined a with a of brown hair to it lay among the a dog said holmes by jove a poor will never see his pet again well i do not know that this place contains any secret which we have not already he could hide his but he could not hush its voice and hence came those cries which even in were not pleasant to hear on an he could keep the in the at but it was always a risk and it was only on the supreme day which he regarded as the end of all his efforts that he dared do it this in the is no doubt the mixture with which the creature was it was of course by the story of the family and by the desire to frighten old sir to death no wonder the poor devil of a ran and screamed even as our friend did and as we ourselves might have done when he saw such a creature bounding through the darkness of the upon his track it was a cunning device for apart from the chance of driving your victim to his death what peasant would to too closely into such a creature should he get sight of it as many have done upon the i said it in london and i say it again now that never yet have we helped to hunt down a more dangerous man than he who is lying swept his long arm towards the huge of which away until it into the slopes of the a it was the end of november and holmes and i sat upon a raw and night on either side of a fire in our sittingroom in street since the tragic of our visit to he had been engaged in two affairs of the importance in the first of which he had exposed the conduct of colonel in with the famous card of the club while in the second he had the unfortunate from the charge of murder which hung over her in with the death of her the young lady who as it will be remembered was found six months later alive and married in new my friend was in excellent spirits over the success which had attended a of difficult and important cases so that i was able to induce him to discuss the of the mystery i had waited patiently for the opportunity for i was aware that he would never permit cases to and that his clear and mind would not be from its present work to upon of the past sir henry and were however in london on their way to that long voyage which had been recommended for the of his shattered nerves they had called upon us that very afternoon so that it was natural that the subject should come up for discussion the whole course of events said holmes from the point of view of the man who called himself was simple and direct to us who had no means in the beginning of knowing the of his and could only learn part of the facts it all appeared i have had the advantage of two conversations with mrs and the case has now been so entirely cleared up that i am not aware that there is anything which has remained a secret to us you will find a few notes upon the matter under the heading b in my of cases perhaps you would kindly give me a of the course of events from memory certainly though i can not that i carry all the facts in my mind intense has a curious way of blotting out what has passed the who has his case at his fingers ends and is able to argue with an upon his own subject finds that a week or two of the will drive it all out of his head once more so each of my cases the last and has my recollection of hall tomorrow some other little problem may be submitted to my notice which will in turn the fair french lady and the infamous so far as the case of the goes however i will give you the course of events as nearly as i can and you will suggest anything which i may have forgotten my show beyond all question that the family portrait did not lie and that this fellow was indeed a he was a son of that the younger brother of sir who with a reputation to south america where he was said to have died unmarried he did as a matter of fact marry and had one child this fellow whose real name is the same as his father he married one of the of and having a considerable sum of public money he changed his name to and to england where he established a school in the east of his reason for this special line of business was that he had struck up an acquaintance with a upon the voyage home and that he had used this man ability to make the a success the died however and the school which had begun well from into the found it convenient to change their name to and he brought the remains of his fortune his for the future and his taste for to the south of england i learned at the british that he was a recognized authority upon the subject and that the name of has been permanently attached to a certain which he had in his days been the first to describe we now come to that portion of his life which has to be of such intense interest to us the fellow had evidently made and found that only two lives between him and a valuable when he went to his plans were i believe but that he meant mischief from the first is from the way in which he took his wife with him in the character of his sister the idea of using her as a was clearly already in his mind though he may not have been certain how the of his plot were to be arranged he meant in the end to have the and he was ready to use any tool or run any risk for that end his first act was to establish himself as near to his home as he could and his second was to cultivate a friendship with sir and with the neighbours the himself told him about the family and so prepared the way for his own death as i will continue to call him knew that the old man heart was weak and that a shock would kill him so much he had learned from he had heard also that sir was superstitious and had taken this grim legend very seriously his mind instantly a way by which the could be done to death and yet it would be hardly possible to bring home the guilt to the real murderer having the idea he to carry it out with considerable an ordinary would have been content to work with a the use of artificial means to make the creature diabolical was a flash of genius upon his part the dog he bought in london from and the in road it was the strongest and most in their possession he brought it down by the north line and walked a great distance over the so as to get it home without exciting any remarks he had already on his insect learned to the and so had found a safe for the creature here he it and waited his chance but it was some time coming the old gentleman could not be outside of his grounds at night several times about with his but without it was during these that he or rather his was seen by peasants and that the legend of the demon dog received a new he had hoped that his wife might sir to his ruin but here she independent she would not to the old gentleman in a sentimental attachment which might him over to his enemy threats and even i am sorry to say blows refused to move her she would have nothing to do with it and for a time was at a he found a way out of his difficulties through the chance that sir who had a friendship for him made him the minister of his charity in the case of this unfortunate woman mrs laura by representing himself as a single man he acquired complete influence over her and he gave her to understand that in the of her a from her husband he would marry her his plans were suddenly brought to a head by his knowledge that sir was about to leave the hall on the advice of with whose opinion he himself pretended to he must act at once or his victim might get beyond his power he therefore put pressure upon mrs to write this letter the old man to give her an on the evening before his for london he then by a argument her from going and so had the chance for which he had waited driving back in the evening from he was in time to get his to treat it with his paint and to bring the beast round to the gate at which he had reason to expect that he would find the old gentleman waiting the dog by its master over the and pursued the unfortunate who screaming down the yew in that tunnel it must indeed have been a dreadful sight to see that huge black creature with its flaming jaws and eyes bounding after its victim he fell dead at the end of the from heart disease and terror the had kept upon the border while the had run down the path so that no track but the man was visible on seeing him lying still the creature had probably approached to at him but finding him dead had turned away again it was then that it left the which was actually observed by the was called off and hurried away to its in the and a mystery was left which puzzled the alarmed the and finally brought the case within the of our observation so much for the death of sir you the devilish cunning of it for really it would be almost impossible to make a case against the real murderer his only accomplice was one who could never give him away and the grotesque inconceivable nature of the device only served to make it more effective both of the women concerned in the case mrs and mrs laura were left with a strong suspicion against mrs knew that he had designs upon the old man and also of the existence of the mrs knew neither of these things but had been impressed by the death occurring at the time of an which was only known to him however both of them were under his influence and he had nothing to fear from them the first half of his task was but the more difficult still remained it is possible that did not know of the existence of an in in any case he would very soon learn it from his friend and he was told by the all about the arrival of henry first idea was that this young stranger from might possibly be done to death in london without coming down to at all he his wife ever since she had refused to help him in laying a trap for the old man and he dared not leave her long out of his sight for fear he should lose his influence over her it was for this reason that he took her to london with him they i find at the private hotel in street which was actually one of those called upon by my in search of evidence here he kept his wife in her room while he disguised in a beard followed to street and afterwards to the station and to the hotel his wife had some of his plans but she had such a fear of her fear founded upon brutal she dare not write to warn the man whom she knew to be in danger if the letter should fall into hands her own life would not be safe as we know she the of cutting out the words which would form the message and addressing the letter in a disguised hand it reached the and gave him the first warning of his danger it was very essential for to get some article of sir henry so that in case he was driven to use the dog he might always have the means of setting him upon his track with and audacity he set about this at once and we can not doubt that the boots or of the hotel was well to help him in his by chance however the first which was procured for him was a new one and therefore useless for his purpose he then had it returned and most incident since it to my mind that we were with a real as no other could explain this anxiety to an old and this indifference to a new one the more and grotesque an incident is the more carefully it to be examined and the very point which appears to a case is when considered and the one which is most likely to it then we had the visit from our friends next morning always by in the cab from his knowledge of our rooms and of my appearance as well as from his general conduct i am to think that career of crime has been by no means limited to this single affair it is that during the last three years there have been four considerable in the west country for none of which was any criminal ever arrested the last of these at folkestone court in may was remarkable for the coldblooded of the page who surprised the and i can not doubt that his in this fashion and that for years he has been a desperate and dangerous man we had an example of his readiness of resource that morning when he got away from us so and also of his audacity in sending back my own name to me through the from that moment he understood that i had taken over the case in london and that therefore there was no chance for him there he returned to and the arrival of the one moment said i you have no doubt described the of events but there is one point which you have left what became of the when its master was in london i have given some attention to this matter and it is undoubtedly of importance there can be no question that had a though it is that he ever placed himself in his power by sharing all his plans with him there was an old manservant at house whose name was his with the can be for several years as far back as the days so that he must have been aware that his master and mistress were really husband and wife this man has and has escaped from the country it is that is not a common name in england while is so in all spanish or the man like mrs herself spoke good english but with a curious accent i have myself seen this old man cross the by the path which had marked out it is very therefore that in the absence of his master it was he who cared for the though he may never have known the purpose for which the beast was used the then went down to they were soon followed by sir henry and you one word now as to how i stood myself at that time it may possibly to your memory that when i examined the paper upon which the printed words were fastened i made a close for the in doing so i held it within a few inches of my eyes and was conscious of a faint smell of the known as white there are which it is very necessary that a criminal should be able to from each other and cases have more than once within my own experience upon their recognition the the presence of a lady and already my thoughts began to turn towards the thus i had made certain of the and had guessed at the criminal before ever we went to the west country it was my game to watch it was however that i could not do this if i were with you since he would be keenly on his guard i deceived everybody therefore yourself included and i came down secretly when i was supposed to be in london my were not so great as you though such trifling must never interfere with the of a case i for the most part at and only used the upon the when it was necessary to be near the scene of action had come down with me and in his as a country boy he was of great assistance to me i was dependent upon him for food and clean linen when i was watching was frequently watching you so that i was able to keep my hand upon all the i have already told you that your reached me being instantly from street to they were of great service to me and especially that one truthful piece of of i was able to establish the identity of the man and the woman and knew at last exactly how i stood the case had been considerably complicated through the incident of the escaped and the relations between him and the this also you cleared up in a very effective way though i had already come to the same conclusions from my own observations by the time that you discovered me upon the i had a complete knowledge of the whole business but i had not a case which could go to a even attempt upon sir henry that night which ended in the death of the unfortunate did not help us much in murder against our man there seemed to be no alternative but to catch him and to do so we had to use sir henry alone and apparently as a bait we did so and at the cost of a shock to our we succeeded in our case and driving to his destruction that sir henry should have been exposed to this is i must confess a reproach to my of the case but we had no means of the terrible and spectacle which the beast nor could we the which him to burst upon us at such short notice we succeeded in our object at a cost which both the and assure me will be a one a long journey may enable our friend to recover not only from his shattered nerves but also from his wounded feelings his love for the lady was deep and sincere and to him the part of all this black business was that he should have been deceived by her it only remains to indicate the part which she had played there can be no doubt that exercised an influence over her which may have been love or may have been fear or very possibly both since they are by no means incompatible emotions it was at least absolutely effective at his command she to pass as his sister though he found the limits of his power over her when he to make her the direct to murder she was ready to warn sir henry so far as she could without her husband and again and again she tried to do so himself seems to have been capable of jealousy and when he saw the paying court to the lady even though it was part of his own plan still he could not help interrupting with a outburst which the soul which his manner so by encouraging the intimacy he made it certain that sir henry would frequently come to house and that he would sooner or later get the opportunity which he desired on the day of the crisis however his wife turned suddenly against him she had learned something of the death of the and she knew that the was being kept in the on the evening that sir henry was coming to dinner she her husband with his intended crime and a furious scene followed in which he showed her for the first time that she had a rival in his love her turned in an instant to bitter and he saw that she would betray him he tied her up therefore that she might have no chance of warning sir henry and he hoped no doubt that when the whole put down the death to the curse of his family as they certainly would do he could win his wife back to accept an fact and to keep silent upon what she knew in this i fancy that in any case he made a and that if we had not been there his would none the less have been a woman of spanish blood does not such an injury so lightly and now my dear without to my notes i can not give you a more account of this curious case i do not know that anything essential has been left he could not hope to frighten sir henry to death as he had done the old uncle with his the beast was and if its appearance did not frighten its victim to death at least it would the resistance which might be offered no doubt there only remains one difficulty if came into the how could he explain the fact that he the had been living under another name so close to the property how could he claim it without suspicion and it is a formidable difficulty and i fear that you ask too much when you expect me to solve it the past and the present are within the field of my but what a man may do in the future is a hard question to answer mrs has heard her husband discuss the problem on several occasions there were three possible he might claim the property from south america establish his identity before the british there and so the fortune without ever coming to england at all or he might adopt an elaborate during the short time that he need be in london or again he might furnish an accomplice with the and papers putting him in as and a claim upon some of his income we can not doubt from what we know of him that he would have found some way out of the difficulty and now my dear we have had some weeks of work and for one evening i think we may turn our thoughts into more pleasant i have a box for have you heard the de might i trouble you then to be ready in half an hour and we can stop at for a little dinner on the way sherlock holmes took his bottle from the corner of the mantelpiece and his from its neat morocco case with his long white nervous fingers he the delicate needle and back his left for some little time his eyes thoughtfully upon the and all dotted and with innumerable finally he thrust the sharp point home down the tiny and back into the with a long sigh of satisfaction three times a day for many months i had this performance but custom had not my mind to it on the contrary from day to day i had become more at the sight and my conscience within me at the thought that i had the courage to protest again and again i had a that i should my soul upon the subject but there was that in the cool air of my companion which made him the last man with whom one would care to take anything approaching to a liberty his great powers his manner and the experience which i had had of his many extraordinary qualities all made me diffident and in crossing him yet upon that afternoon whether it was the which i had taken with my lunch or the additional produced by the extreme deliberation of his manner i suddenly felt that i could hold out no longer which is it today i or he raised his eyes from the old which he had opened it is he a solution would you care to try it no indeed i brusquely my has not got over the campaign yet i can not afford to throw any extra strain upon it he at my vehemence perhaps you are right he said i suppose that its influence is a bad one i find it however so and to the mind that its action is a matter of small moment but consider i said earnestly count the cost your brain may as you say be roused and excited but it is a and process which and may at last leave a weakness you know too what a black reaction comes upon you surely the game is hardly worth the candle why should you for a mere passing pleasure risk the loss of those great powers with which you have been remember that i speak not only as one comrade to another but as a man to one for whose he is to some extent he did not seem offended on the contrary he put his together and his elbows on the arms of his chair like one who has a for conversation my mind he said at give me give me work give me the most abstruse or the most and i am in my own proper atmosphere i can then with artificial but i abhor the dull routine of existence i for that is why i have chosen my own particular rather created it for i am the only one in the world the only detective i said raising my eyebrows the only consulting detective he i am the last and highest court of appeal in when or or jones are out of their by the way is their matter is laid before me i the as an and pronounce a opinion i claim no credit in such cases my name figures in no newspaper the work itself the pleasure of finding a field for my powers is my highest reward but you have yourself had some experience of my methods of work in the hope case yes indeed said i cordially i was never so struck by anything in my life i even embodied it in a small with the somewhat title of a study in scarlet he his head sadly i over it said he honestly i can not congratulate you upon it is or ought to be an exact science and should be treated in the same cold and manner you have to it with which produces much the same effect as if you worked a or an into the of but the romance was there i i could not with the facts some facts should be suppressed or at least a just sense of should be observed in treating them the only point in the case which mention was the curious reasoning from to by which i succeeded in it i was annoyed at this criticism of a work which had been specially designed to please him i confess too that i was irritated by the which seemed to demand that every line of my pamphlet should be devoted to his own special more than once during the years that i had lived with him in street i had observed that a small vanity my companion quiet and manner i made no however but sat nursing my wounded i had a bullet through it some time before and though it did not prevent me from walking it wearily at every change of the weather my practice has to the said holmes after a while filling up his old pipe i was consulted last week by le who as you probably know has come rather to the front lately in the french detective service he has all the power of quick but he is in the wide range of exact knowledge which is essential to the higher of his art the case was concerned with a will and possessed some features of interest i was able to him to two parallel cases the one at in and the other at st in which have to him the true solution here is the letter which i had this morning my assistance he over as he spoke a sheet of foreign i my eyes down it catching a profusion of notes of admiration with stray and all to the admiration of the frenchman he speaks as a pupil to his master said i oh he my assistance too highly said sherlock holmes lightly he has considerable himself he two out of the three qualities necessary for the ideal detective he has the power of observation and that of he is only wanting in knowledge and that may come in time he is now my small works into french your works oh you know he cried laughing yes i have been guilty of several they are all upon subjects here for example is one upon the distinction between the ashes of the various in it i a hundred and forty forms of and with plates the difference in the ash it is a point which is continually turning up in criminal trials and which is sometimes of supreme importance as a if you can say for example that some murder has been done by a man who was smoking an indian it obviously your field of search to the trained eye there is as much difference between the black ash of a and the white of bird as there is between a cabbage and a you have an extraordinary genius for i i appreciate their importance here is my upon the of footsteps with some remarks upon the uses of of paris as a of here too is a curious little work upon the influence of a trade upon the form of the hand with of the hands of and that is a matter of great practical interest to the scientific in cases of bodies or in the of but i weary you with my hobby not at all i earnestly it is of the greatest interest to me especially since i have had the opportunity of your practical of it but you spoke just now of observation and surely the one to some extent the other why hardly he leaning back in his and sending up thick blue from his pipe for example observation shows me that you have been to the street this morning but lets me know that when there you a telegram right said i right on both points but i confess that i don see how you arrived at it it was a sudden impulse upon my part and i have mentioned it to no one it is itself he chuckling at my so absurdly simple that an explanation is superfluous and yet it may serve to the limits of observation and of observation tells me that you have a little reddish to your just opposite the street office they have taken up the and thrown up some earth which lies in such a way that it is difficult to avoid in it in entering the earth is of this reddish which is found as far as i know nowhere else in the so much is observation the rest is how then did you the telegram why of course i knew that you had not written a letter since i sat opposite to you all morning i see also in your open there that you have a sheet of stamps and a thick bundle of postcards what could you go into the for then but to send a eliminate all other and the one which remains must be the truth in this case it certainly is so i replied after a little thought the thing however is as you say of the would you think me impertinent if i were to put your to a more test on the contrary he it would prevent me from taking a second of i should be delighted to look into any problem which you might submit to me i have heard you say that it is difficult for a man to have any object in daily use without leaving the of his individuality upon it in such a way that a trained might read it now i have here a watch which has come into my possession would you have the kindness to let me have an opinion upon the character or habits of the late owner i him over the watch with some slight feeling of amusement in my heart for the test was as i thought an impossible one and i intended it as a lesson against the somewhat tone which he occasionally he the watch in his hand hard at the opened the back and examined the works first with his naked eyes and then with a i could hardly keep from smiling at his face when he finally the case to and it back there are hardly any he the watch has been which me of my most facts you are right i it was before being sent to me in my heart i accused my companion of putting forward a most and excuse to his failure what could he expect from an watch though my has not been entirely barren he observed staring up at the ceiling with dreamy eyes subject to your correction i should judge that the watch belonged to your elder brother who it from your father that you gather no doubt from the h upon the back quite so the your own name the date of the watch is nearly fifty years back and the initials are as old as the watch so it was made for the last generation jewelry usually descends to the eldest son and he is most likely to have the same name as the father your father has if i remember right been dead many years it has therefore been in the hands of your eldest brother right so far said i anything else he was a man of untidy untidy and careless he was left with good but he threw away his chances lived for some time in poverty with occasional short of and finally taking to drink he died that is all i can gather i from my chair and impatiently about the room with considerable bitterness in my heart this is unworthy of you holmes i said i could not have believed that you would have to this you have made into the history of my unhappy brother and you now pretend to this knowledge in some way you can not expect me to believe that you have read all this from his old watch it is and to speak plainly has a touch of in it my dear doctor said he kindly pray accept my apologies the matter as an abstract problem i had forgotten how personal and painful a thing it might be to you i assure you however that i never even knew that you had a brother until you me the watch then how in the name of all that is wonderful did you get these facts they are absolutely correct in every particular ah that is good luck i could only say what was the of i did not at all expect to be so accurate but it was not mere no no i never guess it is a shocking to the faculty what seems strange to you is only so because you do not follow my train of thought or observe the small facts upon which large may depend for example i began by that your brother was careless when you observe the lower part of that you notice that it is not only in two places but it is cut and marked all over from the habit of keeping other hard objects such as coins or keys in the same pocket surely it is no great feat to that a man who treats a watch so must be a careless man neither is it a very that a man who one article of such value is pretty well provided for in other respects i to show that i followed his reasoning it is very customary for in england when they take a watch to the number of the ticket with a upon the inside of the case it is more than a as there is no risk of the number being lost or there are no less than four such numbers visible to my on the inside of this case your brother was often at low water he had occasional bursts of or he could not have redeemed the pledge finally i ask you to look at the inner plate which contains the look at the of all round the where the has slipped what sober man could have those but you will never see a drunkard watch without them he winds it at night and he leaves these of his hand where is the mystery in all this it is as clear as i i the which i did you i should have had more faith in your marvellous faculty may i ask whether you have any professional on foot at present none hence the i can not live without what else is there to live for stand at the window here was ever such a world see how the yellow down the street and drifts across the houses what could be more hopelessly prosaic and material what is the use of having powers doctor when one has no field upon which to them crime is commonplace existence is commonplace and no qualities save those which are commonplace have any function upon earth i had opened my mouth to to this when with a crisp knock our landlady entered bearing a card upon the brass salver a young lady for you sir she said addressing my companion miss he read i have no recollection of the name ask the young lady to step up mrs don go doctor i should prefer that you remain ii the of the case miss entered the room with a step and an composure of manner she was a young lady small dainty well and dressed in the most perfect taste there was however a plainness and about her costume which bore with it a suggestion of limited means the dress was a and and she wore a small of the same dull relieved only by a suspicion of white feather in the side her face had neither of nor beauty of complexion but her expression was and amiable and her large blue eyes were spiritual and sympathetic in an experience of women which over many nations and three separate i have never looked upon a face which gave a clearer promise of a refined and sensitive nature i could not but observe that as she took the seat which sherlock holmes placed for her her lip her hand and she showed every sign of intense i have come to you mr holmes she said because you once my employer mrs cecil to a little domestic complication she was much impressed by your kindness and skill mrs cecil he repeated thoughtfully i believe that i was of some slight service to her the case however as i remember it was a very simple one she did not think so but at least you can not say the same of mine i can hardly imagine anything more strange more utterly than the situation in which i find myself holmes his hands and his eyes he forward in his chair with an expression of extraordinary upon his features state your case said he in business tones i felt that my position was an one you will i am sure excuse me i said rising from my chair to my surprise the young lady held up her hand to detain me if your friend she said would be good enough to stop he might be of service to me i into my chair she continued the facts are these my father was an officer in an indian regiment who sent me home when i was quite a child my mother was dead and i had no relative in england i was placed however in a comfortable establishment at and there i remained until i was seventeen years of age in the year my father who was captain of his regiment twelve months leave and came home he to me from london that he had arrived all safe and directed me to come down at once giving the hotel as his address his message as i remember was full of kindness and love on reaching london i drove to the and was that captain was staying there but that he had gone out the night before and had not yet returned i waited all day without news of him that night on the advice of the manager of the hotel i with the police and next morning we in all the papers our led to no result and from that day to this no word has ever been heard of my unfortunate father he came home with his heart full of hope to find some peace some comfort and she put her hand to her throat and a choking sob cut short the sentence the date asked holmes opening his notebook he upon the of ten years ago his luggage remained at the hotel there was nothing in it to suggest a clothes some books and a considerable number of curiosities from the islands he had been one of the officers in charge of the there had he any friends in town only one that we know of his own regiment the infantry the major had retired some little time before and lived at upper we with him of course but he did not even know that his brother officer was in england a singular case holmes i have not yet described to you the most singular part about six years be exact upon the of may appeared in the times asking for the address of miss and that it would be to her advantage to come forward there was no name or address i had at that time just entered the family of mrs cecil in the capacity of by her advice i published my address in the column the same day there arrived through the a small box addressed to me which i found to a very large and no word of writing was since then every year upon the same date there has always appeared a box containing a without any as to the they have been by an to be of a and of considerable value you can see for yourselves that they are very handsome she opened a flat box as she spoke and showed me six of the finest that i had ever seen your is most interesting said sherlock holmes has anything else to you yes and no later than today that is why i have come to you this morning i received this letter which you will perhaps read for yourself thank you said holmes the envelope too please london date 7 man on best quality paper at sixpence a packet particular man in his stationery no address be at the third pillar from the left outside the lyceum theatre tonight at seven o clock if you are bring two friends you are a woman and shall have justice do not bring police if you do all will be in vain your unknown friend well really this is a very pretty little mystery what do you intend to do miss that is exactly what i want to ask you then we shall most certainly go you and i why is the very man your says two friends he and i have worked together before but would he come she asked with something appealing in her voice and expression i should be proud and happy said i fervently if i can be of any service you are both very kind she i have led a retired life and have no friends whom i could appeal to if i am here at six it will do i suppose you must not be later said holmes there is one other point however is this the same as that upon the addresses i have them here she producing half a dozen pieces of paper you are certainly a you have the correct let us see now he spread out the papers upon the table and gave little darting glances from one to the other they are disguised hands except the letter he said presently but there can be no question as to the see how the irrepressible e will break out and see the twirl of the final they are undoubtedly by the same person i should not like to suggest false hopes miss but is there any resemblance between this hand and that of your father nothing could be more unlike i expected to hear you say so we shall look out for you then at six pray allow me to keep the papers i may look into the matter before then it is only halfpast three then said our visitor and with a bright kindly glance from one to the other of us she her in her bosom and hurried away standing at the window i her walking down the street until the grey and white feather were but a speck in the crowd what a very attractive woman i turning to my companion he had lit his pipe again and was leaning back with is she he said i did not observe you really are an i cried there is something positively inhuman in you at times he gently it is of the first importance he said not to allow your judgment to be by personal qualities a is to me a mere in a problem the qualities are to clear reasoning i assure you that the most woman i ever knew was hanged for three little children for their and the most man of my acquaintance is a who has spent nearly a quarter of a upon the london poor in this case i never make an exception the rule have you ever had occasion to study character in what do you make of this fellow it is and regular i a man of business habits and some force of character holmes his head look at his long letters he said they hardly rise above the common herd that d might be an a and that an e men of character always their long letters however they may write there is in his and selfesteem in his i am going out now i have some few to make let me recommend this of the most remarkable ever it is of man i shall be back in an hour i sat in the window with the in my hand but my thoughts were far from the daring speculations of the my mind ran upon our late smiles the deep rich tones of her voice the strange mystery which her life if she were seventeen at the time of her father she must be age when youth has lost its selfconsciousness and become a little sobered by experience so i sat and until such dangerous thoughts came into my head that i hurried away to my and plunged furiously into the latest upon what was i an army with a weak and a weaker that i should dare to think of such things she was a a more if my future were black it was better surely to face it like a man than to attempt to it by mere of the imagination iii in of a solution it was halfpast five before holmes returned he was bright eager and in excellent which in his case with fits of the depression there is no great mystery in this matter he said taking the cup of tea which i had poured out for him the facts appear to admit of only one explanation what you have solved it already well that would be too much to say i have discovered a fact that is all it is however very the are still to be i have just found on consulting the back of the times that major of upper late of the infantry died upon the of i may be very obtuse holmes but i fail to see what this no you surprise me look at it in this way then captain disappears the only person in london whom he could have visited is major major having heard that he was in london four years later within a week of his death captain daughter receives a valuable present which is repeated from year to year and now in a letter which describes her as a woman what wrong can it to except this of her father and why should the presents begin immediately after death unless it is that knows something of the mystery and desires to make have you any alternative which will meet the facts but what a strange and how made why too should he write a letter now rather than six years ago again the letter speaks of giving her justice what justice can she have it is too much to suppose that her father is still alive there is no other in her case that you know of there are difficulties there are certainly difficulties said sherlock holmes but our expedition of tonight will solve them all ah here is a and miss is inside are you all ready then we had better go down for it is a little past the hour i picked up my hat and my stick but i observed that holmes took his revolver from his drawer and slipped it into his pocket it was clear that he thought that our night work might be a serious one miss was muffled in a dark cloak and her sensitive face was but pale she must have been more than woman if she did not feel some uneasiness at the strange enterprise upon which we were yet her selfcontrol was perfect and she the few additional questions which sherlock holmes put to her major was a very particular friend of papa she said his letters were full of to the major he and papa were in command of the at the islands so they were thrown a great deal together by the way a curious paper was found in papa which no one could understand i don suppose that it is of the slightest importance but i thought you might care to see it so i brought it with me it is here holmes the paper carefully and it out upon his knee he then very examined it all over with his double it is paper of native indian he it has at some time been to a board the upon it appears to be a plan of part of a large with halls and at one point is a small cross done in red ink and above it is from left in faded in the corner is a curious like four crosses in a line with their arms touching beside it is written in very rough and coarse characters the sign of the small mahomet no i confess that i do not see how this upon the matter yet it is evidently a document of importance it has been kept carefully in a pocketbook for the one side is as clean as the other it was in his pocketbook that we found it preserve it carefully then miss for it may prove to be of use to us i begin to suspect that this matter may turn out to be much deeper and more subtle than i at first supposed i must my ideas he back in the cab and i could see by his brow and his vacant eye that he was thinking intently miss and i in an about our present expedition and its possible outcome but our companion his impenetrable reserve until the end of our journey it was a evening and not yet seven o clock but the day had been a one and a lay low upon the great city sadly over the streets down the strand the lamps were but of light which threw a feeble circular glimmer upon the the yellow glare from the out into the air and threw a radiance across the crowded there was to my mind something and in the procession of faces which across these narrow of faces and glad and merry like all human kind they from the gloom into the light and so back into the gloom once more i am not subject to but the dull heavy evening with the strange business upon which we were engaged to make me nervous and i could see from miss manner that she was suffering from the same feeling holmes alone could rise superior to petty he held his open notebook upon his knee and from time to time he jotted down figures and in the light of his at the lyceum theatre the were already thick at the in front a stream of and were rattling up their of men and women we had hardly reached the third pillar which was our before a small dark man in the dress of a coachman us are you the parties who come with miss he asked i am miss and these two gentlemen are my friends said she he bent a pair of wonderfully and eyes upon us you will excuse me miss he said with a certain dogged manner but i was to ask you to give me your word that neither of your is a i give you my word on that she he gave a whistle on which a street arab led across a and opened the door the man who had addressed us to the box while we took our places inside we had hardly done so before the driver up his horse and we plunged away at a furious pace through the streets the situation was a curious one we were driving to an unknown place on an unknown yet our invitation was either a complete was an inconceivable else we had good reason to think that important might hang upon our journey miss was as resolute and as ever i to cheer and amuse her by of my adventures in but to tell the truth i was myself so excited at our situation and so curious as to our destination that my stories were slightly to this day she declares that i told her one moving as to how a looked into my tent at the dead of night and how i fired a tiger at it at first i had some idea as to the direction in which we were driving but soon what with our pace the and my own limited knowledge of london i lost my and knew nothing save that we seemed to be going a very long way sherlock holmes was never at fault however and he muttered the names as the cab through and in and out by row said he now square now we come out on the bridge road we are making for the surrey side apparently yes i thought so now we are on the bridge you can catch glimpses of the river we did indeed get a view of a stretch of the with the lamps upon the broad silent water but our cab dashed on and was soon in a of streets upon the other side road said my companion road lark hall lane place street cold lane our does not appear to take us to very fashionable we had indeed reached a and long lines of dull houses were only relieved by the coarse glare and of public houses at the corner then came rows of villas each with a of miniature garden and then again lines of new staring monster which the giant city was throwing out into the country at last the cab drew up at the third house in a new none of the other houses were and that at which we stopped was as dark as its neighbours save for a single glimmer in the kitchen window on our knocking however the door was instantly thrown open by a servant clad in a yellow white clothes and a yellow sash there was something in this oriental figure in the commonplace of a the awaits you said he and even as he spoke there came a high voice from some inner room show them in to me it cried show them straight in to me iv the story of the man we followed the indian down a sordid and common passage and worse furnished until he came to a door upon the right which he threw open a of yellow light out upon us and in the centre of the glare there stood a small man with a very high head a of red hair all round the of it and a bald which shot out from among it like a from he his hands together as he stood and his features were in a perpetual now smiling now but never for an instant in nature had given him a lip and a too visible line of yellow and irregular teeth which he strove feebly to conceal by constantly passing his hand over the lower part of his face in spite of his he gave the impression of youth in point of fact he had just turned his year your servant miss he kept repeating in a thin high voice your servant gentlemen pray step into my little a small place miss but furnished to my own liking an of art in the desert of south london we were all astonished by the appearance of the into which he invited us in that sorry house it looked as out of place as a of the first water in a setting of brass the richest and of curtains and draped the walls looped back here and there to expose some painting or oriental the carpet was of so soft and so thick that the foot into it as into a bed of two great thrown it the suggestion of eastern luxury as did a huge hookah which stood upon a in the corner a lamp in the fashion of a was hung from an almost golden in the centre of the room as it it filled the air with a subtle and mr said the little man still and smiling that is my name you are miss of course and these this is mr sherlock holmes and this is a doctor eh cried he much excited have you your might i ask you have the kindness i have grave as to my if you would be so very good the i may rely upon but i should value your opinion upon the i listened to his heart as but was unable to find anything save indeed that he was in an ecstasy of fear for he from head to foot it appears to be i said you have no cause for uneasiness you will excuse my anxiety miss he i am a great sufferer and i have long had suspicions as to that i am delighted to hear that they are had your father miss from throwing a strain upon his heart he might have been alive now i could have struck the man across the face so hot was i at this callous and to so delicate a matter miss sat down and her face grew white to the lips i knew in my heart that he was dead said she i can give you every said he and what is more i can do you justice and i will too whatever brother may say i am so glad to have your friends here not only as an escort to you but also as to what i am about to do and say the three of us can show a bold front to brother but let us have no police or we can settle everything among ourselves without any nothing would brother more than any he sat down upon a low settee and at us inquiringly with his weak blue eyes for my part said holmes whatever you may choose to say will go no further i to show my agreement that is well that is well said he may i offer you a glass of miss or of i keep no other shall i open a no well then i trust that you have no objection to to the mild of the eastern i am a little nervous and i find my hookah an invaluable he applied a to the great bowl and the through the we sat all three in a with our heads advanced and our upon our hands while the strange little fellow with his high head uneasily in the centre when i first determined to make this communication to you said he i might have given you my address but i feared that you might disregard my request and bring people with you i took the liberty therefore of making an in such a way that my man might be able to see you first i have complete confidence in his discretion and he had orders if he were dissatisfied to proceed no further in the matter you will excuse these but i am a man of somewhat retiring and i might even say refined tastes and there is nothing more than a policeman i have a natural shrinking from all forms of rough materialism i seldom come in with the rough crowd i live as you see with some little atmosphere of elegance around me i may call myself a of the arts it is my weakness the landscape is a genuine and though a might perhaps throw a doubt upon that there can not be the least question about the i am to the modern french school you will excuse me mr said miss but i am here at your request to learn something which you desire to tell me it is very late and i should desire the to be as short as possible at the best it must take some time he for we shall certainly have to go to and see brother we shall all go and try if we can get the better of brother he is very angry with me for taking the course which has seemed right to me i had quite high words with him last night you can not imagine what a terrible fellow he is when he is angry if we are to go to it would perhaps be as well to start at once i to he laughed until his ears were quite red that would hardly do he cried i don know what he would say if i brought you in that sudden way no i must prepare you by showing you how we all stand to each other in the first place i must tell you that there are several points in the story of which i am myself ignorant i can only lay the facts before you as far as i know them myself my father was as you may have guessed major john once of the indian army he retired some eleven years ago and came to live at in upper he had in india and brought back with him a considerable sum of money a large collection of valuable curiosities and a staff of native servants with these advantages he bought himself a house and lived in great luxury my and i were the only children i very well remember the sensation which was caused by the of captain we read the in the papers and knowing that he had been a friend of our father we the case freely in his presence he used to join in our speculations as to what could have happened never for an instant did we suspect that he had the whole secret hidden in his own of all men he alone knew the fate of we did know however that some positive our father he was very fearful of going out alone and he always two to act as at who drove you tonight was one of them he was once of england our father would never tell us what it was he feared but he had a most marked to men with wooden legs on one occasion he actually fired his revolver at a man who to be a harmless tradesman for orders we had to pay a large sum to hush the matter up my brother and i used to think this a mere of my father but events have since led us to change our opinion early in my father received a letter from india which was a great shock to him he nearly fainted at the when he opened it and from that day he to his death what was in the letter we could never discover but i could see as he held it that it was short and written in a hand he had suffered for years from an enlarged but he now became worse and towards the end of we were that he was beyond all hope and that he wished to make a last communication to us when we entered his room he was up with and breathing heavily he us to lock the door and to come upon either side of the bed then grasping our hands he made a remarkable to us in a voice which was broken as much by emotion as by pain i shall try and give it to you in his own very words i have only one thing he said which upon my mind at this supreme moment it is my treatment of poor orphan the cursed greed which has been my through life has withheld from her the treasure half at least of which should have been hers and yet i have made no use of it blind and foolish a thing is the mere feeling of possession has been so dear to me that i could not bear to share it with another see that with beside the even that i could not bear to part with i had got it out with the of sending it to her you my sons will give her a fair share of the treasure but send her even the i am gone after all men have been as bad as this and have recovered i will tell you how died he continued he had suffered for years from a weak heart but he it from every one i alone knew it when in india he and i through a remarkable chain of circumstances came into possession of a considerable treasure i brought it over to england and on the night of arrival he came straight over here to claim his share he walked over from the station and was admitted by my faithful old who is now dead and i had a difference of opinion as to the division of the treasure and we came to words had sprung out of his chair in a of anger when he suddenly his hand to his side his face turned a and he fell cutting his head against the corner of the when i over him i found to my horror that he was dead for a long time i sat half distracted wondering what i should do my first impulse was of course to call for assistance but i could not but recognise that there was every chance that i would be accused of his murder his death at the moment of a quarrel and the in his head would be black against me again an official could not be made without bringing out some facts about the treasure which i was particularly anxious to keep secret he had told me that no soul upon earth knew where he had gone there seemed to be no necessity why any soul ever should know i was still over the matter when looking up i saw my servant in the he stole in and bolted the door behind him do not fear he said no one need know that you have killed him let us hide him away and who is the wiser i did not kill him said i his head and i heard it all said he i heard you quarrel and i heard the blow but my lips are all are asleep in the house let us put him away together that was enough to decide me if my own servant could not believe my how could i hope to make it good before twelve foolish in a and i disposed of the body that night and within a few days the london papers were full of the mysterious of captain you will see from what i say that i can hardly be in the matter my fault lies in the fact that we not only the body but also the treasure and that i have clung to share as well as to my own i wish you therefore to make put your ears down to my mouth the treasure is hidden at this instant a horrible change came over his expression his eyes wildly his jaw dropped and he yelled in a voice which i can never forget keep him out for christ sake keep him out we both round at the window behind us upon which his gaze was fixed a face was looking in at us out of the darkness we could see the of the nose where it was against the glass it was a face with wild cruel eyes and an expression of my brother and i towards the window but the man was gone when we returned to my father his head had dropped and his pulse had ceased to beat we searched the garden that night but found no sign of the save that just under the window a single was visible in the but for that one trace we might have thought that our had up that wild fierce face we soon however had another and a more striking proof that there were secret at work all round us the window of my father room was found open in the morning his and boxes had been and upon his chest was fixed a torn piece of paper with the words the sign of the four scrawled across it what the phrase meant or who our secret visitor may have been we never knew as far as we can judge none of my father property had been actually stolen though everything had been turned out my brother and i naturally this incident with the fear which my father during his life but it is still a complete mystery to us the little man stopped to his hookah and thoughtfully for a few moments we had all sat absorbed listening to his extraordinary at the short account of her father death miss had turned deadly white and for a moment i feared that she was about to faint she rallied however on drinking a glass of water which i quietly poured out for her from a upon the sherlock holmes back in his chair with an expression and the low over his eyes as i at him i could not but think how on that very day he had bitterly of the of life here at least was a problem which would his sagacity to the mr looked from one to the other of us with an obvious pride at the effect which his story had produced and then continued between the of his pipe my brother and i said he were as you may imagine much excited as to the treasure which my father had spoken of for weeks and for months we and in every part of the garden without its it was to think that the was on his very lips at the moment that he died we could judge the of the missing by the which he had taken out over this my brother and i had some little discussion the were evidently of great value and he was to part with them for between friends my brother was himself a little to my father fault he thought too that if we parted with the it might give rise to and finally bring us into trouble it was all that i could do to persuade him to let me find out miss address and send her a at fixed so that at least she might never feel destitute it was a kindly thought said our companion earnestly it was extremely good of you the little man his hand we were your he said that was the view which i took of it though brother could not altogether see it in that light we had plenty of money ourselves i desired no more besides it would have been such bad taste to have treated a young lady in so a fashion le crime the french have a very neat way of putting these things our difference of opinion on this subject went so far that i thought it best to set up rooms for myself so i left taking the old and with me yesterday however i learn that an of extreme importance has the treasure has been discovered i instantly with miss and it only remains for us to drive out to and demand our share i explained my views last night to brother so we shall be expected if not welcome visitors mr ceased and sat on his settee we all remained silent with our thoughts upon the new which the mysterious business had taken holmes was the first to spring to his feet you have done well sir from first to last said he it is possible that we may be able to make you some small return by throwing some light upon that which is still dark to you but as miss just now it is late and we had best put the matter through without delay our new acquaintance very deliberately up the tube of his hookah and produced from behind a curtain a very long with collar and cuffs this he up in spite of the extreme of the night and finished his by putting on a cap with hanging which covered the ears so that no part of him was visible save his and face my health is somewhat he as he led the way down the passage i am compelled to be a our cab was us outside and our was evidently for the driver started off at once at a rapid pace talked in a voice which rose high above the rattle of the wheels is a clever fellow said he how do you think he found out where the treasure was he had come to the that it was somewhere so he worked out all the space of the house and made measurements everywhere so that not one inch should be for among other things he found that the height of the was feet but on adding together the heights of all the separate rooms and making every allowance for the space between which he by he could not bring the total to more than seventy feet there were four feet for these could only be at the top of the he a hole therefore in the ceiling of the highest room and there sure enough he came upon another little garret above it which had been up and was known to no one in the centre stood the upon two he lowered it through the hole and there it lies he the value of the jewels at not less than half a at the mention of this sum we all at one another miss could we secure her rights would change from a to the richest in england surely it was the place of a loyal friend to at such news yet i am ashamed to say that selfishness took me by the soul and that my heart turned as heavy as lead within me i out some few halting words of congratulation and then sat downcast with my head to the of our new acquaintance he was clearly a confirmed hypochondriac and i was dreamily conscious that he was forth trains of symptoms and as to the and action of innumerable quack some of which he bore about in a leather case in his pocket i trust that he may not remember any of the answers which i gave him that night holmes declares that he overheard me him against the great danger of taking more than two drops of oil while i recommended in large as a however that may be i was certainly relieved when our cab pulled up with a and the coachman down to open the door this miss is said mr as he her out v the tragedy of it was nearly eleven o clock when we reached this final stage of our night adventures we had left the of the great city behind us and the night was fairly fine a warm wind from the and heavy moved slowly across the sky with half a occasionally through the it was clear enough to see for some distance but took down one of the from the carriage to give us a better light upon our way stood in its own grounds and was round with a very high stone wall with broken glass a single narrow door formed the only means of on this our guide with a who is there cried a voice from within it is i you surely know my knock by this time there was a grumbling sound and a and of keys the door heavily back and a short man stood in the opening with the yellow light of the upon his face and eyes that you mr but who are the others i had no orders about them from the master no you surprise me i told my brother last night that i should bring some friends he been out o his room today mr and i have no orders you know very well that i must stick to i can let you in but your friends must just stop where they are this was an unexpected obstacle looked about him in a perplexed and helpless manner this is too bad of you he said if i them that is enough for you there is the young lady too she can not wait on the public road at this hour very sorry mr said the inexorably folk may be friends o yours and yet no friends o the master he me well to do my duty and my duty i do i don know none o your friends oh yes you do cried sherlock holmes genially i don think you can have forgotten me don you remember the amateur who fought three with you at rooms on the night of your four years back not mr sherlock holmes the god truth how could i have you if instead o there so quiet you had just up and given me that of yours under the jaw i d ha known you without a question ah you one that has wasted your you have you might have aimed high if you had joined the fancy you see if all else me i have still one of the scientific professions open to me said holmes laughing our friend won keep us out in the cold now i am sure in you come sir in you and your friends he very sorry mr but orders are very strict had to be certain of your friends before i let them in inside a gravel path wound through grounds to a huge clump of a house square and prosaic all plunged in save where a struck one corner and in a garret window the vast size of the with its gloom and its silence struck a chill to the heart even seemed ill at ease and the and in his hand i can not understand it he said there must be some mistake i distinctly told that we should be here and yet there is no light in his window i do not know what to make of it does he always guard the in this way asked holmes yes he has followed my father custom he was the son you know and i sometimes think that my father may have told him more than he ever told me that is window up there where the strikes it is quite bright but there is no light from within i think none said holmes but i see the of a light in that little window beside the door ah that is the housekeeper room that is where old mrs sits she can tell us all about it but perhaps you would not mind waiting here for a minute or two for if we all go in together and she has no word of our coming she may be alarmed but hush what is that he held up the and his hand until the circles of light and all round us miss seized my and we all stood with thumping hearts our ears from the great black house there sounded through the silent night the and most of broken whimpering of a frightened woman it is mrs said she is the only woman in the house wait here i shall be back in a moment he hurried for the door and in his way we could see a tall old woman admit him and with pleasure at the very sight of him oh mr sir i am so glad you have come i am so glad you have come mr sir we heard her until the door was closed and her voice died away into a muffled our guide had left us the holmes it slowly round and keenly at the house and at the great which the grounds miss and i stood together and her hand was in mine a subtle thing is love for here were we two who had never seen each other before that day between whom no word or even look of affection had ever passed and yet now in an hour of trouble our hands instinctively sought for each other i have at it since but at the time it seemed the most natural thing that i should go out to her so and as she has often told me there was in her also the instinct to turn to me for comfort and protection so we stood hand in hand like two children and there was peace in our hearts for all the dark things that surrounded us what a strange place she said looking round it looks as though all the in england had been let loose in it i have seen something of the sort on the side of a hill near where the had been at work and from the same cause said holmes these are the of the you must remember that they were six years looking for it no wonder that the grounds look like a at that moment the door of the house burst open and came running out with his hands thrown forward and terror in his eyes there is something with he cried i am frightened my nerves can not stand it he was indeed half with fear and his feeble face out from the great collar had the helpless appealing expression of a terrified child come into the house said holmes in his crisp way yes do i really do not feel equal to giving directions we all followed him into the housekeeper room which stood upon the side of the passage the old woman was up and down with a scared look and restless picking fingers but the sight of miss appeared to have a soothing effect upon her god bless your calm face she cried with an hysterical sob it does me good to see you oh but i have been tried this day our companion patted her thin hand and some few words of kindly womanly comfort which brought the back into the other cheeks master has locked himself in and will not answer me she explained all day i have waited to hear from him for he often likes to be alone but an hour ago i feared that something was so i went up and through the you must go up mr must go up and look for yourself i have seen mr in joy and in sorrow for ten long years but i never saw him with such a face on him as that sherlock holmes took the lamp and led the way for teeth were chattering in his head so was he that i had to pass my hand under his arm as we went up the stairs for his knees were under him twice as we holmes his out of his pocket and carefully examined which appeared to me to be mere of dust upon the which served as a he walked slowly from step to step holding the lamp and shooting keen glances to right and left miss had remained behind with the frightened housekeeper the third flight of stairs ended in a straight passage of some length with a great picture in indian upon the right of it and three doors upon the left holmes advanced along it in the same slow and way while we kept close at his heels with our long black down the the third door was that which we were seeking holmes without receiving any answer and then tried to turn the handle and force it open it was locked on the inside however and by a broad and as we could see when we set our lamp up against it the being turned however the hole was not entirely closed sherlock holmes bent down to it and instantly rose again with a sharp of the breath there is something devilish in this said he more moved than i had ever before seen him what do you make of it i to the hole and in horror moonlight was into the room and it was bright with a vague and radiance looking straight at me and suspended as it were in the air for all beneath was in there hung a very face of our companion there was the same high head the same circular of red hair the same countenance the features were set however in a horrible smile a fixed and unnatural grin which in that still and moonlit room was more to the nerves than any or so like was the face to that of our little friend that i looked round at him to make sure that he was indeed with us then i to mind that he had mentioned to us that his brother and he were this is terrible i said to holmes what is to be done the door must come down he and springing against it he put all his weight upon the lock it and but did not yield together we flung ourselves upon it once more and this time it gave way with a sudden snap and we found ourselves within chamber it appeared to have been fitted up as a laboratory a double line of was up upon the wall opposite the door and the table was over with burners and in the corners stood of in one of these appeared to or to have been broken for a stream of liquid had out from it and the air was heavy with a a set of steps stood at one side of the room in the midst of a litter of and and above them there was an opening in the ceiling large enough for a man to pass through at the foot of the steps a long of was thrown carelessly together by the table in a wooden the master of the house was seated all in a heap with his head upon his left shoulder and that smile upon his face he was stiff and cold and had clearly been dead many hours it seemed to me that not only his features but all his limbs were and turned in the most fashion by his hand upon the table there lay a brown stick with a stone head like a hammer rudely on with coarse beside it was a torn sheet of with some words scrawled upon it holmes at it and then it to me you see he said with a raising of the eyebrows in the light of the i read with a of horror the sign of the four in god name what does it all mean i asked it means murder said he stooping over the dead man ah i expected it look here he pointed to what looked like a long dark thorn in the skin just above the ear it looks like a thorn said i it is a thorn you may pick it out but be careful for it is poisoned i took it up between my finger and thumb it came away from the skin so that hardly any mark was left behind one tiny speck of blood showed where the puncture had been this is all an mystery to me said i it grows instead of clearer on the contrary he it clears every instant i only a few missing to have an entirely case we had almost forgotten our companion presence since we entered the chamber he was still standing in the the very picture of terror his hands and to himself suddenly however he broke out into a sharp cry the treasure is gone he said they have robbed him of the treasure there is the hole through which we lowered it i helped him to do it i was the last person who saw him i left him here last night and i heard him lock the door as i came downstairs what time was that it was ten o clock and now he is dead and the police will be called in and i shall be suspected of having had a hand in it oh yes i am sure i shall but you don think so gentlemen surely you don think that it was i is it likely that i would have brought you here if it were i oh dear oh dear i know that i shall go mad he his arms and his feet in a kind of you have no reason for fear mr said holmes kindly putting his hand upon his shoulder take my advice and drive down to the station to this matter to the police offer to assist them in every way we shall wait here until your return the little man in a fashion and we heard him stumbling down the stairs in the dark vi sherlock holmes gives a demonstration now said holmes his hands we have half an hour to ourselves let us make good use of it my case is as i have told you almost complete but we must not on the side of simple as the case seems now there may be something deeper it simple i surely said he with something of the air of a professor to his class just sit in the corner there that your may not matters now to work in the first place how did these folk come and how did they go the door has not been opened since last night how of the window he carried the lamp across to it muttering his observations the while but addressing them to himself rather than to me window is on the inner side is solid no at the side let us open it no waterpipe near roof quite out of reach yet a man has by the window it a little last night here is the of a foot in upon the and here is a circular mark and here again upon the floor and here again by the table see here this is really a very pretty demonstration i looked at the round this is not a said i it is something much more valuable to us it is the impression of a wooden you see here on the is the a heavy with the broad metal heel and beside it is the mark of the it is the man quite so but there has been some one very able and efficient could you scale that wall doctor i looked out of the open window the still on that of the house we were a good sixty feet from the ground and look where i would i could see no nor as much as a in the it is absolutely impossible i without aid it is so but suppose you had a friend up here who lowered you this good which i see in the corner one end of it to this great in the wall then i think if you were an active man you might up wooden and all you would of course in the same fashion and your would draw up the it from the shut the window it on the inside and get away in the way that he originally came as a minor point it may be noted he continued the that our friend though a fair was not a professional sailor his hands were far from my more than one especially towards the end of the from which i gather that he slipped down with such that he took the skin off his hand this is all very well said i but the thing becomes more unintelligible than ever how about this mysterious how came he into the room yes the repeated holmes there are features of interest about this he lifts the case from the of the commonplace i fancy that this breaks fresh ground in the of crime in this parallel cases suggest themselves from india and if my memory serves me from how came he then i the door is locked the window is was it through the the grate is much too small he i had already considered that possibility how then i you will not my he said shaking his head how often have i said to you that when you have the impossible whatever remains however must be the truth we know that he did not come through the door the window or the we also know that he could not have been in the room as there is no concealment possible then did he come he came through the hole in the roof i cried of course he did he must have done so if you will have the kindness to hold the lamp for me we shall now our to the room secret room in which the treasure was found he the steps and seizing a with either hand he himself up into the garret then lying on his face he reached down for the lamp and held it while i followed him the chamber in which we found ourselves was about ten feet one way and six the other the floor was formed by the with thin between so that in walking one had to step from to the roof ran up to an and was evidently the inner shell of the true roof of the house there was no furniture of any sort and the dust of years lay thick upon the floor here you are you see said sherlock holmes putting his hand against the wall this is a which leads out on to the roof i can press it back and here is the roof itself at a gentle this then is the way by which number one entered let us see if we can find any other of his individuality he held down the lamp to the floor and as he did so i saw for the second time that night a startled surprised look come over his face for myself as i followed his gaze my skin was cold under my clothes the floor was covered with the of a naked well perfectly formed but half the size of those of an ordinary man holmes i said in a whisper a child has done the thing he had recovered his selfpossession in an instant i was staggered for the moment he said but the thing is quite natural my memory failed me or i should have been able to it there is nothing more to be learned here let us go down what is your then as to those i asked eagerly when we had the lower room once more my dear try a little yourself said he with a touch of impatience you know my methods them and it will be to compare results i can not conceive anything which will the facts i it will be clear enough to you soon he said in an way i think that there is nothing else of importance here but i will look he out his and a measure and hurried about the room on his knees examining with his long thin nose only a few inches from the and his eyes and like those of a bird so swift silent and were his movements like those of a trained picking out a that i could not but think what a terrible criminal he would have made had he turned his energy and sagacity against the law instead of them in its defence as he about he kept muttering to himself and finally he broke out into a loud crow of delight we are certainly in luck said he we ought to have very little trouble now number one has had the to in the you can see the of the edge of his small foot here at the side of this mess the has been cracked you see and the stuff has out what then i asked why we have got him that all said he i know a dog that would follow that to the world end if a pack can track a across a how far can a follow so a smell as this it sounds like a sum in the rule of three the answer should give us here are the of the law heavy steps and the of loud were audible from and the hall door shut with a loud before they come said holmes just put your hand here on this poor fellow arm and here on his what do you feel the are as hard as a board i quite so they are in a state of extreme far the usual with this of the face this smile or as the old called it what would it suggest to your mind death from some i some which would produce that was the idea which to me the instant i saw the of the face on getting into the room i at once looked for the means by which the poison had entered the system as you saw i discovered a thorn which had been driven or shot with no great force into the you observe that the part struck was that which would be turned towards the hole in the ceiling if the man were erect in his chair now the thorn i took it up and held it in the light of the it was long sharp and black with a look near the point as though some had upon it the blunt end had been trimmed and off with a knife is that an english thorn he asked no it certainly is not with all these you should be able to draw some just but here are the so the forces may beat a as he spoke the steps which had been coming nearer sounded loudly on the passage and a very man in a grey suit heavily into the room he was and with a pair of very small eyes which looked keenly out from between swollen and he was closely followed by an inspector in uniform and by the still palpitating here a business he cried in a muffled voice here a pretty business but who are all these why the house seems to be as full as a i think you must recollect me mr jones said holmes quietly why of course i do he it mr sherlock holmes the remember you i never forget how you us all on and and in the case it true you set us on the right track but you own now that it was more by good luck than good guidance it was a piece of very simple reasoning oh come now come never be ashamed to own up but what is all this bad business bad business stern facts room for how that i happened to be out at over another case i was at the station when the message arrived what d you think the man died of oh this is hardly a case for me to over said holmes no no still we can deny that you hit the on the head sometimes dear me door locked i understand jewels worth half a missing how was the window fastened but there are steps on the well well if it was fastened the steps could have nothing to do with the matter that common sense man might have died in a fit but then the jewels are missing ha i have a these flashes come upon me at step outside sergeant and you mr your friend can do you think of this holmes was on his own confession with his brother last night the brother died in a fit on which walked off with the treasure how that on which the dead man very got up and locked the door on the inside there a there let us common sense to the matter this was with his brother there was a quarrel so much we know the brother is dead and the jewels are gone so much also we know no one saw the brother from the time left him his bed had not been slept in is evidently in a most disturbed state of mind his appearance not attractive you see that i am my round the net begins to close upon him you are not quite in possession of the facts yet said holmes this of wood which i have every reason to believe to be poisoned was in the man where you still see the mark this card as you see it was on the table and beside it lay this rather curious instrument how does all that fit into your it in every respect said the fat detective house is full of indian curiosities brought this up and if this be may as well have made murderous use of it as any other man the card is some blind as like as not the only question is how did he ah of course here is a hole in the roof with great activity considering his he up the steps and through into the garret and immediately afterwards we heard his voice proclaiming that he had found the he can find something holmes shrugging his shoulders he has occasional of reason il n y a de you see said jones down the steps again facts are better than mere after all my view of the case is confirmed there is a with the roof and it is partly open it was i who opened it oh indeed you did notice it then he seemed a little at the well whoever noticed it it shows how our gentleman got away inspector yes sir from the passage ask mr to step this it is my duty to inform you that anything which you may say will be used against you i you in the queen name as being concerned in the death of your brother there now i tell you cried the poor little man throwing out his hands and looking from one to the other of us don trouble yourself about it mr said holmes i think that i can to clear you of the charge don promise too much mr promise too much the detective you may find it a harder matter than you think not only will i clear him mr jones but i will make you a free present of the name and description of one of the two people who were in this room last night his name i have every reason to believe is small he is a man small active with his right off and wearing a wooden which is worn away upon the inner side his left has a coarse sole with an iron band round the heel he is a middleaged man much and has been a these few indications may be of some assistance to you with the fact that there is a good deal of skin missing from the of his hand the other ah the other asked jones in a sneering voice but impressed none the less as i could easily see by the of the other manner is a rather curious person said sherlock holmes turning upon his heel i hope before very long to be able to introduce you to the pair of word with you he led me out to the head of the this unexpected he said has caused us rather to lose sight of the original purpose of our journey i have just been thinking so i it is not right that miss should remain in this stricken house no you must escort her home she lives with mrs cecil in lower so it is not very far i will wait for you here if you will drive out again or perhaps you are too tired by no means i don think i could rest until i know more of this business i have seen something of the rough side of life but i give you my word that this quick of strange surprises tonight has my nerve completely i should like however to see the matter through with you now that i have got so far your presence will be of great service to me he we shall work the case out and leave this fellow jones to over any mare which he may choose to when you have dropped miss i wish you to go on to no lane down near the water edge at the third house on the righthand side is a is the name you will see a holding a young rabbit in the window knock old up and tell him with my compliments that i want at once you will bring back in the cab with you a dog i suppose queer with a most amazing power of i would rather have help than that of the whole detective force of london i shall bring him then said i it is one now i ought to be back before three if i can get a fresh horse and i said holmes shall see what i can learn from mrs and from the indian servant who mr tell me sleeps in the next garret then i shall study the great jones methods and listen to his not too delicate die was is always the episode of the the police had brought a cab with them and in this i escorted miss back to her home after the angelic fashion of women she had borne trouble with a calm face as long as there was some one weaker than herself to support and i had found her bright and by the side of the frightened housekeeper in the cab however she first turned faint and then burst into a passion of had she been tried by the adventures of the night she has told me since that she thought me cold and distant upon that journey she little guessed the struggle within my breast or the effort of which held me back my sympathies and my love went out to her even as my hand had in the garden i felt that years of the of life could not teach me to know her brave nature as had this one day of strange yet there were two thoughts which the words of affection upon my lips she was weak and helpless in mind and nerve it was to take her at a disadvantage to love upon her at such a time worse still she was rich if holmes were successful she would be an was it fair was it that a should take such advantage of an intimacy which chance had brought about might she not look upon me as a mere vulgar i could not bear to risk that such a thought should cross her mind this treasure like an impassable barrier between us it was nearly two o clock when we reached mrs cecil the servants had retired hours ago but mrs had been so interested by the strange message which miss had received that she had sat up in the hope of her return she opened the door herself a middleaged graceful woman and it gave me joy to see how tenderly her arm stole round the other waist and how was the voice in which she her she was clearly no mere paid but an friend i was introduced and mrs earnestly me to step in and tell her our adventures i explained however the importance of my and promised faithfully to call and any progress which we might make with the case as we drove away i stole a glance back and i still seem to see that little group on the step the two graceful clinging figures the door the through stained glass the and the bright it was soothing to catch even that passing glimpse of a tranquil english home in the midst of the wild dark business which had absorbed us and the more i thought of what had happened the and it grew i the whole extraordinary of events as i on through the silent streets there was the original problem that at least was pretty clear now the death of captain the sending of the the the had had light upon all those events they had only led us however to a deeper and far more tragic mystery the indian treasure the curious plan found among baggage the strange scene at major death the of the treasure immediately followed by the murder of the the very singular to the crime the footsteps the remarkable weapons the words upon the card with those upon captain was indeed a in which a man less than my might well despair of ever finding the lane was a row of houses in the lower quarter of i had to knock for some time at no before i could make my impression at last however there was the of a candle behind the blind and a face looked out at the upper window go on you said the face if you kick up any more row i open the and let out dogs upon you if you let one out it just what i have come for said i go on yelled the voice so help me gracious i have a in the bag an i drop it on your if you don it but i want a dog i cried i won be argued with mr now stand clear for when i say three down goes the mr sherlock i began but the words had a most effect for the window instantly down and within a minute the door was and open mr was a old man with stooping shoulders a neck and a friend of mr sherlock is always welcome said he step in sir keep clear of the for he bites ah naughty naughty would you take a at the gentleman this to a which thrust its wicked head and red eyes between the of its cage don mind that sir it only a it got no so i gives it the run o the room for it keeps the beetles down you must not mind my just a little short you at first for i at by the children and there many a one just comes down this lane to knock me up what was it that mr sherlock holmes wanted sir he wanted a dog of yours ah that would be yes was the name lives at no 7 on the left here he moved slowly forward with his candle among the queer animal family which he had gathered round him in the uncertain light i could see that there were glancing eyes down at us from every and corner even the above our heads were by solemn who lazily their weight from one to the other as our disturbed their to be an ugly creature half and half in with a very clumsy gait it accepted after some a lump of which the old to me and having thus an it followed me to the cab and made no difficulties about accompanying me it had just struck three on the palace clock when i found myself back once more at the had i found been arrested as an and both he and mr had been off to the station two the narrow gate but they allowed me to pass with the dog on my the detective name holmes was standing on the doorstep with his hands in his pockets smoking his pipe ah you have him there said he good dog then jones has gone we have had an immense display of energy since you left he has arrested not only friend but the the housekeeper and the indian servant we have the place to ourselves but for a sergeant upstairs leave the dog here and come up we tied to the hall table and the stairs the room was as he had left it save that a sheet had been draped over the central figure a in the corner lend me your bull sergeant said my companion now tie this bit of card round my neck so as to hang it in front of me thank you now i must kick off my boots and you carry them down with you i am going to do a little climbing and my handkerchief into the that will do now come up into the garret with me for a moment we up through the hole holmes turned his light once more upon the footsteps in the dust i wish you particularly to notice these he said do you observe anything about them they belong i said to a child or a small woman apart from their size though is there nothing else they appear to be much as other not at all look here this is the of a right foot in the dust now i make one with my naked foot beside it what is the chief difference your toes are all together the other has each toe distinctly divided quite so that is the point bear that in mind now would you kindly step over to that and smell the edge of the i shall stay here as i have this handkerchief in my hand i did as he directed and was instantly conscious of a strong smell that is where he put his foot in getting out if you can trace him i should think that will have no difficulty now run downstairs loose the dog and look out for by the time that i got out into the grounds sherlock holmes was on the roof and i could see him like an enormous crawling very slowly along the i lost sight of him behind a of chimneys but he presently and then once more upon the opposite side when i made my way round there i found him seated at one of the corner that you he cried yes this is the place what is that black thing down there a top on it yes no sign of a no the fellow it a most place i ought to be able to come down where he could climb up the waterpipe feels pretty here goes anyhow there was a of feet and the began to come steadily down the side of the wall then with a light spring he came on to the and from there to the earth it was easy to follow him he said drawing on his and boots were the whole way along and in his hurry he had dropped this it my as you doctors express it the object which he held up to me was a small pocket or out of and with a few strung round it in shape and size it was not unlike a inside were half a dozen of dark wood sharp at one end and at the other like that which had struck they are hellish things said he look out that you don yourself i delighted to have them for the chances are that they are all he has there is the less fear of you or me finding one in our skin before long i would sooner face a bullet myself are you game for a certainly i your will stand it oh yes here you are good old smell it smell it he the handkerchief under the dog nose while the creature stood with its legs separated and with a most to its head like a sniffing the of a famous holmes then threw the handkerchief to a distance fastened a to the collar and led him to the foot of the the creature instantly broke into a of high tremulous and with his nose on the ground and his tail in the air off upon the trail at a pace which strained his and kept us at the top of our the east had been and we could now see some distance in the cold grey light the square house with its black windows and high bare walls up sad and behind us our course led right across the grounds in and out among the and with which they were and the whole place with its scattered and had a look which with the black tragedy which hung over it on reaching the wall ran along eagerly underneath its and stopped finally in a corner by a young where the two walls joined several had been and the left were worn down and upon the lower side as though they had frequently been used as a holmes up and taking the dog from me he dropped it over upon the other side there the of hand he as i up beside him you see the slight of blood upon the white what a thing it is that we have had no very heavy rain since yesterday the will lie upon the road in spite of their hours start i confess that i had my myself when i upon the great which had passed along the london road in the interval my were soon however never or but on in his rolling fashion clearly the smell of the rose high above all other contending do not imagine said holmes that i depend for my success in this case upon the mere chance of one of these fellows having put his foot in the i have knowledge now which would enable me to trace them in many different ways this however is the and since fortune has put it into our hands i should be if i neglected it it has however the case from becoming the pretty little intellectual problem which it at one time promised to be there might have been some credit to be gained out of it but for this too there is credit and to spare said i i assure you holmes that i marvel at the means by which you your results in this case even more than i did in the hope murder the thing seems to me to be deeper and more how for example could you describe with such confidence the man pshaw my dear boy it was itself i don wish to be it is all patent and two officers who are in command of a learn an important secret as to buried treasure a is for them by an englishman named small you remember that we saw the name upon the in captain possession he had signed it in of himself and his sign of the four as he somewhat called it by this the one of the treasure and brings it to england leaving we will suppose some condition under which he received it now then why did not small get the treasure himself the answer is obvious the is dated at a time when was brought into close with small did not get the treasure because he and his were themselves and could not get away but that is mere said i it is more than that it is the only which covers the facts let us see how it fits in with the major remains at peace for some years happy in the possession of his treasure then he receives a letter from india which gives him a great what was that a letter to say that the men whom he had had been set free or had escaped that is much more likely for he would have known what their term of was it would not have been a surprise to him what does he do then he guards himself against a white man mark you for he mistakes a white tradesman for him and actually a pistol at him now only one white man name is on the the others are or there is no other white man therefore we may say with confidence that the man is with small does the reasoning strike you as being no it is clear and well now let us put ourselves in the place of small let us look at it from his point of view he comes to england with the double idea of what he would consider to be his rights and of having his revenge upon the man who had him he found out where lived and very possibly he established with some one inside the house there is this whom we have not seen mrs gives him far from a good character small could not find out however where the treasure was hid for no one ever knew save the major and one faithful servant who had died suddenly small learns that the major is on his in a lest the secret of the treasure die with him he runs the of the guards makes his way to the dying man window and is only from entering by the presence of his two sons mad with hate however against the dead man he enters the room that night his private papers in the hope of some relating to the treasure and finally leaves a of his visit in the short inscription upon the card he had that should he slay the major he would leave some such record upon the body as a sign that it was not a common murder but from the point of view of the four something in the nature of an act of justice whimsical and of this kind are common enough in the of crime and usually afford valuable indications as to the criminal do you follow all this very clearly now what could small do he could only continue to keep a secret watch upon the efforts made to find the treasure possibly he leaves england and only comes back at then comes the of the garret and he is instantly of it we again trace the presence of some in the household with his wooden is utterly unable to reach the lofty room of he takes with him however a rather curious associate who gets over this difficulty but his naked foot into comes and a for a officer with a damaged but it was the associate and not who committed the crime quite so and rather to disgust to judge by the way he about when he got into the room he bore no grudge against and would have preferred if he could have been simply bound and he did not wish to put his head in a there was no help for it however the instincts of his companion had broken out and the poison had done its work so small left his record lowered the to the ground and followed it himself that was the train of events as far as i can decipher them of course as to his personal appearance he must be middleaged and must be after serving his time in such an oven as the his height is from the length of his and we know that he was his was the one point which impressed itself upon when he saw him at the window i don know that there is anything else the associate ah well there is no great mystery in that but you will know all about it soon enough how the morning air is see how that one little cloud like a pink feather from some now the red of the sun pushes itself over the london it shines on a good many folk but on none i dare bet who are on a stranger than you and i how small we feel with our petty ambitions and in the presence of the great forces of nature are you well up in your paul fairly so i worked back to him through that was like following the brook to the parent he makes one curious but profound it is that the chief proof of man real greatness lies in his perception of his own smallness it you see a power of comparison and of which is in itself a proof of nobility there is much food for thought in you have not a pistol have you i have my stick it is just possible that we may need something of the sort if we get to their i shall leave to you but if the other turns i shall shoot him dead he took out his revolver as he spoke and having loaded two of the he put it back into the righthand pocket of his jacket we had during this time been following the guidance of down the roads which lead to the now however we were beginning to come among streets where and were already and women were taking down shutters and at the corner public houses business was just beginning and men were their sleeves across their after their morning wet strange dogs up and wonderingly at us as we passed but our looked neither to the right nor to the left but with his nose to the ground and an occasional eager whine which spoke of a hot we had and now found ourselves in lane having borne away through the to the east of the the men whom we pursued seemed to have taken a curiously road with the idea probably of escaping observation they had never kept to the main road if a parallel would serve their turn at the foot of lane they had away to the left through bond street and miles street where the street turns into knight place ceased to advance but began to run and with one ear and the other the very picture of then he round in circles looking up to us from time to time as if to ask for sympathy in his embarrassment what the deuce is the matter with the dog holmes they surely would not take a cab or go off in a perhaps they stood here for some time i ah it all right he off again said my companion in a tone of relief he was indeed off for after sniffing round again he suddenly made up his mind and away with an energy and such as he had not yet shown the appeared to be much than before for he had not even to put his nose on the ground but at his and tried to break into a run i cold see by the gleam in holmes eyes that he thought we were the end of our journey our course now ran down nine until we came to and large just past the white here the dog frantic with excitement turned down through the into the where the were already at work on the dog through and down an round a passage between two and finally with a triumphant upon a large which still stood upon the on which it had been brought with tongue and eyes stood upon the looking from one to the other of us for some sign of the of the and the wheels of the were with a dark liquid and the whole air was heavy with the smell of sherlock holmes and i looked at each other and then burst simultaneously into an uncontrollable fit of laughter the street what now i asked has lost his character for he acted according to his lights said holmes lifting him down from the and walking him out of the if you consider how much is about london in one day it is no great wonder that our trail should have been crossed it is much used now especially for the of wood poor is not to blame we must get on the main again i suppose yes and fortunately we have no distance to go evidently what puzzled the dog at the corner of knight place was that there were two different running in opposite directions we took the wrong one it only remains to follow the other there was no difficulty about this on leading to the place where he had committed his fault he cast about in a wide circle and finally dashed off in a fresh direction we must take care that he does not now bring us to the place where the came from i observed i had thought of that but you notice that he keeps on the whereas the passed down the no we are on the true now it down towards the running through place and prince street at the end of broad street it ran right down to the water edge where there was a small wooden led us to the very edge of this and there stood looking out on the dark beyond we are out of luck said holmes they have taken to a boat here several small and were lying about in the water and on the edge of the we took round to each in turn but though he earnestly he made no sign close to the rude was a small house with a wooden out through the second window was printed across it in large letters and underneath to hire by the hour or day a second inscription above the door us that a steam was which was confirmed by a great pile of upon the sherlock holmes looked slowly round and his face an expression this looks bad said he these fellows are than i expected they seem to have covered their there has i fear been here he was approaching the door of the house when it opened and a little lad of six came running out followed by a woman with a large in her hand you come back and be washed jack she come back you young for if your father comes home and finds you like that he let us hear of it dear little chap said holmes what a young rascal now jack is there anything you would like the youth for a moment i d like a shillin said he nothing you would like better i d like two shillin better the after some thought here you are then fine child mrs bless you sir he is that and forward he gets a most too much for me to manage specially when my man is away days at a time away is he said holmes in a disappointed voice i am sorry for that for i wanted to speak to mr he been away since yesterday sir and truth to tell i am to feel frightened about him but if it was about a boat sir maybe i could serve as well i wanted to hire his steam why bless you sir it is in the steam that he has gone that what me for i know there more in her than would take her to about and back if he d been away in the barge i d ha thought for many a time a job has taken him as far as and then if there was much there he might ha over but what good is a steam without he might have bought some at a down the river he might sir but it his way many a time i heard him call out at the they charge for a few odd besides i don like that man his ugly face and talk what did he want always about here for a man said holmes with surprise yes sir a brown chap that called more n once for my old man it was him that roused him up and what more my man knew he was for he had steam up in the i tell you straight sir i don feel easy in my mind about it but my dear mrs said holmes shrugging his shoulders you are frightening yourself about nothing how could you possibly tell that it was the man who came in the night i don quite understand how you can be so sure his voice sir i knew his voice which is kind o thick and he at the three it would be show a says he time to turn out guard my old man up my away they went without so much as a word to me i could hear the wooden on the stones and was this man alone say i am sure sir i hear no one else i am sorry mrs for i wanted a steam and i have heard good of me see what is her name the sir ah she not that old green with a yellow line very broad in the no indeed she as trim a little thing as any on the river she been fresh painted black with two red thanks i hope that you will hear soon from mr i am going down the river and if i should see anything of the i shall let him know that you are uneasy a black you say no sir black with a white band ah of course it was the which were black goodmorning mrs is a here with a we shall take it and cross the river the main thing with people of that sort said holmes as we sat in the sheets of the is never to let them think that their can be of the slightest importance to you if you do they will instantly shut up like an if you listen to them under protest as it were you are very likely to get what you want our course now seems pretty clear said i what would you do then i would a and go down the river on the track of the my dear fellow it would be a colossal task she may have touched at any on either side of the stream between here and the bridge there is a perfect of for miles it would take you days and days to them if you set about it alone employ the police then no i shall probably call jones in at the last moment he is not a bad fellow and i should not like to do anything which would him but i have a fancy for working it out myself now that we have gone so far could we then asking for from worse and worse our men would know that the chase was hot at their heels and they would be off out of the country as it is they are likely enough to leave but as long as they think they are perfectly safe they will be in no hurry jones energy will be of use to us there for his view of the case is sure to push itself into the daily press and the will think that every one is off on the wrong what are we to do then i asked as we landed near penitentiary take this hansom drive home have some breakfast and get an hour sleep it is quite on the cards that we may be tonight again stop at a we will keep for he may be of use to us yet we pulled up at the great street and holmes his whom do you think that is to he asked as we our journey i am sure i don know you remember the street division of the detective police force whom i in the hope case well said i laughing this is just the case where they might be invaluable if they fail i have other but i shall try them first that was to my dirty little and i expect that he and his will be with us before we have finished our breakfast it was between eight and nine o clock now and i was conscious of a strong reaction after the of the night i was and weary in mind and in body i had not the professional enthusiasm which carried my companion on nor could i look at the matter as a mere abstract intellectual problem as far as the death of went i had heard little good of him and could feel no intense to his murderers the treasure however was a different matter that or part of it belonged to miss while there was a chance of recovering it i was ready to devote my life to the one object true if i found it it would probably put her beyond my reach yet it would be a petty and selfish love which would be by such a thought as that if holmes could work to find the i had a stronger reason to me on to find the treasure a bath at street and a complete change me up wonderfully when i came down to our room i found the breakfast laid and homes out the coffee here it is said he laughing and pointing to an open newspaper the energetic jones and the have fixed it up between them but you have had enough of the case better have your ham and eggs first i took the paper from him and read the short notice which was mysterious business at upper about twelve o clock last night said the standard mr of upper was found dead in his room under circumstances which point to play as far as we can learn no actual of were found upon mr person but a valuable collection of indian which the gentleman had from his father has been carried off the was first made by mr sherlock holmes and who had called at the house with mr brother of the by a singular piece of good fortune mr jones the member of the detective police force happened to be at the police station and was on the ground within half an hour of the first alarm his trained and experienced faculties were at once directed towards the of the with the gratifying result that the brother has already been arrested together with the housekeeper mrs an indian named and a or named it is quite certain that the thief or were well acquainted with the house for mr jones knowledge and his powers of minute observation have him to prove that the could not have entered by the door or by the window but must have made their way across the roof of the and so through a into a room which with that in which the body was found this fact which has been very clearly made out proves that it was no mere the and energetic action of the officers of the law shows the great advantage of the presence on such occasions of a single vigorous and masterful mind we can not but think that it an argument to those who would wish to see our more and so brought into closer and more effective touch with the cases which it is their duty to it gorgeous said holmes grinning over his what do you think of it i think that we have had a close shave ourselves of being arrested for the crime so do i i answer for our safety now if he should happen to have another of his attacks of energy at this moment there was a loud ring at the bell and i could hear mrs our landlady raising her voice in a of expostulation and dismay by heaven holmes i said half rising i believe that they are really after us no it not quite so bad as that it is the street as he spoke there came a swift of naked feet upon the stairs a of high and in a dozen dirty and little there was some show of discipline among them their entry for they instantly drew up in line and stood facing us with faces one of their number and older than the others stood forward with an air of superiority which was very funny in such a little got your message sir said he and brought em on sharp three bob and a tanner for here you are said holmes producing some in future they can to you and you to me i can not have the house in this way however it is just as well that you should all hear the i want to find the of a steam called the owner black with two red black with a white band she is down the river somewhere i want one boy to be at opposite to say if the boat comes back you must it out among yourselves and do both thoroughly let me know the moment you have news is that all clear yes nor said the old scale of pay and a to the boy who finds the boat here a day in advance now off you go he them a shilling each and away they down the stairs and i saw them a moment later down the street if the is above water they will find her said holmes as he rose from the table and lit his pipe they can go everywhere see everything every one i expect to hear before evening that they have spotted her in the meanwhile we can do nothing but results we can not pick up the broken trail until we find either the or mr could eat these i dare say are you going to bed holmes no i am not tired i have a curious i never remember feeling tired by work though idleness me completely i am going to and to think over this queer business to which my fair has introduced us if ever man had an easy task this of ours ought to be men are not so common but the other man must i should think be absolutely that other man again i have no wish to make a mystery of you anyway but you must have formed your own opinion now do consider the toes never by boots naked feet wooden great small poisoned darts what do you make of all this a i perhaps one of those indians who were the of small hardly that said he when first i saw signs of strange weapons i was to think so but the remarkable character of the caused me to my views some of the of the indian are small men but none could have left such as that the proper has long and thin feet the has the great toe well separated from the others because the is commonly passed between these little darts too could only be shot in one way they are from a blowpipe now then where are we to find our south american i he his hand up and took down a from the shelf this is the first of a which is now being published it may be looked upon as the very latest authority what have we here islands miles to the north of in the bay of bengal what all this moist climate coral port here we are the of the islands may perhaps claim the distinction of being the race upon this earth though some prefer the of africa the indians of america and the del the average height is rather four feet many may be found who are very much smaller than this they are a fierce and people though capable of most devoted when their confidence has once been gained mark that now then listen to this they are naturally hideous having large heads small fierce eyes and features their feet and hands however are remarkably small so and fierce are they that all the efforts of the british official have failed to win them over in any degree they have always been a terror to the with their or shooting them with their poisoned these are invariably concluded by a nice amiable people if this fellow had been left to his own this affair might have taken an even more turn i fancy that even as it is small would give a good deal not to have him but how came he to have so singular a companion ah that is more than i can tell since however we had already determined that small had come from the it is not so very wonderful that this should be with him no doubt we shall know all about it in time look here you look regularly done lie down there on the and see if i can put you to sleep he took up his violin from the corner and as i myself out he began to play some low dreamy melodious own no doubt for he had a remarkable gift for i have a vague of his limbs his earnest face and the rise and fall of his bow then i seemed to be peacefully away upon a soft sea of sound until i found myself in with the face of looking down upon me a break in the chain it was late in the afternoon before i and sherlock holmes still sat exactly as i had left him save that he had laid aside his violin and was deep in a book he looked across at me as i and i noticed that his face was dark and troubled you have slept he said i feared that our talk would wake you i heard nothing i have you had fresh news then unfortunately no i confess that i am surprised and disappointed i expected something by this time has just been up to he says that no trace can be found of the it is a provoking check for every hour is of importance can i do anything i am perfectly fresh now and quite ready for another night no we can do nothing we can only wait if we go ourselves the message might come in our absence and delay be caused you can do what you will but i must remain on guard then i shall run over to and call upon mrs cecil she asked me to yesterday on mrs cecil asked holmes with the twinkle of a smile in his eyes well of course miss too they were anxious to hear what happened i would not tell them too much said holmes women are never to be entirely the best of them i did not pause to argue over this sentiment i shall be back in an hour or two i all right good luck but i say if you are crossing the river you may as well return for i don think it is at all likely that we shall have any use for him now i took our and left him together with a halfsovereign at the old in lane at i found miss a little weary after her night adventures but very eager to hear the news mrs too was full of curiosity i told them all that we had done however the more dreadful parts of the tragedy thus i spoke of mr death i said nothing of the exact manner and of it with all my however there was enough to and them it is a romance cried mrs an injured lady half a in treasure a black and a they take the place of the conventional or wicked and two to the rescue miss with a bright glance at me why your fortune depends upon the issue of this search i don think that you are nearly excited enough just imagine what it must be to be so rich and to have the world at your feet it sent a little of joy to my heart to notice that she showed no sign of at the prospect on the contrary she gave a toss of her proud head as though the matter were one in which she took small interest it is for mr that i am anxious she said nothing else is of any consequence but i think that he has behaved most kindly and it is our duty to clear him of this dreadful and charge it was evening before i left and quite dark by the time i reached home my companion book and pipe lay by his chair but he had i looked about in the hope of seeing a note but there was none i suppose that mr sherlock holmes has gone out i said to mrs as she came up to lower the blinds no sir he has gone to his room sir do you know sir her voice into an impressive whisper i am afraid for his health why so mrs well he that strange sir after you was gone he walked and he walked up and down and up and down until i was weary of the sound of his then i heard him talking to himself and muttering and every time the bell out he came on the with what is that mrs and now he has off to his room but i can hear him walking away the same as ever i hope he not going to be ill sir i to say something to him about medicine but he turned on me sir with such a look that i don know how ever i got out of the room i don think that you have any cause to be uneasy mrs i i have seen him like this before he has some small matter upon his mind which makes him restless i tried to speak lightly to our worthy landlady but i was myself somewhat uneasy when through the long night i still from time to time heard the dull sound of his and knew how his keen spirit was chafing against this at he looked worn and with a little of upon either cheek you are knocking yourself up old man i i heard you marching about in the night no i could not sleep he this problem is consuming me it is too much to be by so petty an obstacle when all else had been overcome i know the men the everything and yet i can get no news i have set other at work and used every means at my disposal the whole river has been searched on either side but there is no news nor has mrs heard of her husband i shall come to the soon that they have the but there are to that or that mrs has put us on a wrong no i think that may be i had made and there is a of that description could it have gone up the river i have considered that possibility too and there is a who will work up as far as richmond if no news comes today i shall start off myself tomorrow and go for the men rather than the boat but surely surely we shall hear something we did not however not a word came to us either from or from the other there were articles in most of the papers upon the tragedy they all appeared to be rather to the unfortunate no fresh were to be found however in any of them save that an was to be held upon the following day i walked over to in the evening to our ill success to the ladies and on my return i found holmes and somewhat he would hardly to my questions and himself all evening in an abstruse which much of and of at last in a smell which fairly drove me out of the up to the small hours of the morning i could hear the of his which told me that he was still engaged in his experiment in the early i with a start and was surprised to find him standing by my clad in a rude sailor dress with a and a coarse red round his neck i am off down the river said he i have been turning it over in my mind and i can see only one way out of it it is worth trying at all events surely i can come with you then said i no you can be much more useful if you will remain here as my i am to go for it is quite on the cards that some message may come during the day though was about it last night i want you to open all notes and telegrams and to act on your own judgment if any news should come can i rely upon you most certainly i am afraid that you will not be able to to me for i can hardly tell yet where i may find myself if i am in luck however i may not be gone so very long i shall have news of some sort or other before i get back i had heard nothing of him by on opening the standard however i found that there was a fresh allusion to the business with to the upper tragedy it we have reason to believe that the matter promises to be even more and mysterious than was originally supposed fresh evidence has shown that it is quite impossible that mr could have been in any way concerned in the matter he and the housekeeper mrs were both yesterday evening it is believed however that the police have a as to the real and that it is being by mr jones of yard with all his energy and sagacity further may be expected at any moment that is satisfactory so far as it goes thought i friend is safe at any rate i wonder what the fresh may be though it seems to be a form whenever the police have made a i the paper down upon the table but at that moment my eye caught an in the agony column it ran in this way and his son left at or about three o clock last tuesday morning in the steam black with two red stripes black with a white band the sum of five pounds will be paid to any one who can give to mrs at or at street as to the of the said and the this was clearly holmes doing the street address was enough to prove that it struck me as rather because it might be read by the fugitives without their seeing in it more than the natural anxiety of a wife for her missing husband it was a long day every time that a knock came to the door or a sharp step passed in the street i that it was either holmes returning or an answer to his i tried to read but my thoughts would off to our strange and to the and pair whom we were pursuing could there be i wondered some in my companion reasoning might he be suffering from some huge was it not possible that his and mind had built up this wild upon i had never known him to be wrong and yet the may occasionally be deceived he was likely i thought to fall into error through the of his for a subtle and explanation when a and more commonplace one lay ready to his hand yet on the other hand i had myself seen the evidence and i had heard the reasons for his when i looked back on the long chain of curious circumstances many of them trivial in themselves but all tending in the same direction i could not from myself that even if holmes explanation were the true must be equally and startling at three o clock in the afternoon there was a loud peal at the bell an voice in the hall and to my surprise no less a person than mr jones was shown up to me very different was he however from the brusque and masterful professor of common sense who had taken over the case so confidently at upper his expression was downcast and his bearing and even apologetic sir said he mr sherlock holmes is out i understand yes and i can not be sure when he will be back but perhaps you would care to wait take that chair and try one of these thank you i don mind if i do said he his face with a red handkerchief and a well half a glass it is very hot for the time of year and i have had a good deal to worry and try me you know my about this case i remember that you expressed one well i have been obliged to it i had my net round mr sir when he went through a hole in the middle of it he was able to prove an which could not be from the time that he left his brother room he was never out of sight of some one or other so it could not be he who climbed over and through it a very dark case and my professional credit is at stake i should be very glad of a little assistance we all need help sometimes said i your friend mr sherlock holmes is a wonderful man sir said he in a and confidential voice he a man who is not to be beat i have known that young man go into a good many cases but i never saw the case yet that he could not throw a light upon he is irregular in his methods and a little quick perhaps in jumping at but on the whole i think he would have made a most promising officer and i don care who knows it i have had a from him this morning by which i understand that he has got some to this business here is the message he took the telegram out of his pocket and it to me it was dated from at twelve o clock go to street at once it said if i have not returned wait for me i am close on the track of the you can come with us tonight if you want to be in at the finish this sounds well he has evidently picked up the again said i ah then he has been at fault too jones with satisfaction even the best of us are thrown off sometimes of course this may prove to be a false alarm but it is my duty as an officer of the law to allow no chance to slip but there is some one at the door perhaps this is he a heavy step was heard the with a great and rattling as from a man who was put to it for breath once or twice he stopped as though the climb were too much for him but at last he made his way to our door and entered his appearance to the sounds which we had heard he was an man clad in with an old up to his throat his back was his knees were and his breathing was as he upon a thick his shoulders in the effort to draw the air into his he had a round his chin and i could see little of his face save a pair of keen dark eyes by white brows and long grey altogether he gave me the impression of a respectable master who had fallen into years and poverty what is it my man i asked he looked about him in the slow fashion of old age is mr sherlock holmes here said he no but i am acting for him you can tell me any message you have for him it was to him himself i was to tell it said he but i tell you that i am acting for him was it about boat yes i knows well where it is an i knows where the men he is after are an i knows where the treasure is i knows all about it then tell me and i shall let him know it was to him i was to tell it he repeated with the petulant obstinacy of a very old man well you must wait for him no no i goin to lose a whole day to please no one if mr holmes here then mr holmes must find it all out for himself i don care about the look of either of you and i won tell a word he towards the door but jones got in front of him wait a bit my friend said he you have important and you must not walk off we shall keep you whether you like or not until our friend returns the old man made a little run towards the door but as jones put his broad back up against it he the uselessness of resistance pretty sort o treatment this he cried stamping his stick i come here to see a gentleman and you two who i never saw in my life seize me and treat me in this fashion you will be none the worse i said we shall you for the loss of your time sit over here on the and you will not have long to wait he came across enough and seated himself with his face on his hands jones and i our and our talk suddenly however holmes voice broke in upon us i think that you might offer me a too he said we both started in our chairs there was holmes sitting close to us with an air of quiet amusement holmes i you here but where is the old man here is the old man said he holding out a heap of white hair here he whiskers eyebrows and all i thought my was pretty good but i hardly expected that it would stand that test ah you rogue cried jones highly delighted you would have made an and a one you had the proper workhouse and those weak legs of yours are worth ten pounds a week i thought i knew the of your eye though you get away from us so easily you see i have been working in that all day said he lighting his you see a good many of the criminal classes begin to know since our friend here took to some of my cases so i can only go on the under some simple like this you got my yes that was what brought me here how has your case it has all come to nothing i have had to release two of my prisoners and there is no evidence against the other two never mind we shall give you two others in the place of them but you must put yourself under my orders you are welcome to all the official credit but you must act on the line that i point out is that agreed entirely if you will help me to the men well then in the first place i shall want a fast steam be at the stairs at seven o clock that is easily managed there is always one about there but i can step across the road and telephone to make sure then i shall want two men in case of resistance there will be two or three in the boat what else when we secure the men we shall get the treasure i think that it would be a pleasure to my friend here to take the box round to the young lady to whom half of it belongs let her be the first to open it would be a great pleasure to me rather an irregular proceeding said jones shaking his head however the whole thing is irregular and i suppose we must at it the treasure must afterwards be over to the until after the official certainly that is easily managed one other point i should much like to have a few about this matter from the lips of small himself you know i like to work the of my cases out there is no objection to my having an with him either here in my rooms or elsewhere as long as he is well you are master of the situation i have had no proof yet of the existence of this small however if you can catch him i don see how i can refuse you an with him that is understood then perfectly is there anything else only that i insist upon your dining with us it will be ready in half an hour i have and a of with something a little choice in white you have never yet my merits as a housekeeper the end of the our was a merry one holmes could talk well when he chose and that night he did choose he appeared to be in a state of nervous i have never known him so brilliant he spoke on a quick of on pottery on violins on the of and on the of the each as though he had made a special study of it his bright marked the reaction from his black depression of the days jones to be a soul in his hours of relaxation and his dinner with the air of a bon for myself i felt at the thought that we were the end of our task and i caught something of holmes gaiety none of us during dinner to the cause which had brought us together when the cloth was cleared holmes at his watch and filled up three with port one said he to the success of our little expedition and now it is high time we were off have you a pistol i have my old in my you had best take it then it is well to be prepared i see that the cab is at the door i ordered it for halfpast six it was a little past seven before we reached the and found our us holmes eyed it critically is there anything to mark it as a green lamp at the side then take it off the small change was made we on board and the were cast off jones holmes and i sat in the stern there was one man at the one to the and two forward where to asked jones to the tower tell them to stop opposite yard our was evidently a very fast one we shot past the long lines of loaded as though they were holmes with satisfaction as we a river and left her behind us we ought to be able to catch anything on the river he said well hardly that but there are not many to beat us we shall have to catch the and she has a name for being a i will tell you how the land lies you recollect how annoyed i was at being by so small a thing yes well i gave my mind a thorough rest by into a one of our greatest statesmen has said that a change of work is the best rest so it is when i had succeeded in the which i was at work at i came back to our problem of the and thought the whole matter out again my boys had been up the river and down the river without result the was not at any or nor had it returned yet it could hardly have been to hide their that always remained as a possible if all else failed i knew this man small had a certain degree of low cunning but i did not think him capable of anything in the nature of delicate that is usually a of higher education i then that since he had certainly been in london some we had evidence that he a continual watch over could hardly leave at a moment notice but would need some little time if it were only a day to arrange his affairs that was the of at any rate it seems to me to be a little weak said i it is more that he had arranged his affairs before ever he set out upon his expedition no i hardly think so this of his would be too valuable a in case of need for him to give it up until he was sure that he could do without it but a second consideration struck me small must have felt that the appearance of his companion however much he may have him would give rise to and possibly be with this tragedy he was quite sharp enough to see that they had started from their under of darkness and he would wish to get back before it was broad light now it was past three o clock according to mrs when they got the boat it would be quite bright and people would be about in an hour or so therefore i argued they did not go very far they paid well to hold his tongue reserved his for the final escape and hurried to their lodgings with the in a couple of nights when they had time to see what view the papers took and whether there was any suspicion they would make their way under of darkness to some ship at or in the where no doubt they had already arranged for to america or the but the they could not have taken that to their lodgings quite so i argued that the must be no great way off in spite of its i then put myself in the place of small and looked at it as a man of his capacity would he would probably consider that to send back the or to keep it at a would make pursuit easy if the police did happen to get on his track how then could he conceal the and yet have her at hand when wanted i wondered what i should do myself if i were in his shoes i could only think of one way of doing it i might land the over to some or with directions to make a trifling change in her she would then be to his shed or yard and so be effectually while at the same time i could have her at a few hours notice that seems simple enough it is just these very simple things which are extremely to be however i determined to act on the idea i started at once in this harmless and at all the yards down the river i drew at fifteen but at the learned that the had been over to them two days ago by a man with some trivial directions as to her there with her said the there she lies with the red at that moment who should come down but the missing owner he was rather the worse for liquor i should not of course have known him but he out his name and the name of his i want her tonight at eight o clock said eight o clock sharp mind for i have two gentlemen who won be kept waiting they had evidently paid him well for he was very flush of money about to the men i followed him some distance but he into an so i went back to the yard and happening to pick up one of my boys on the way i him as a over the he is to stand at water edge and wave his handkerchief to us when they start we shall be lying off in the stream and it will be a strange thing if we do not take men treasure and all you have it all very neatly whether they are the right men or not said jones but if the affair were in my hands i should have had a body of police in yard and arrested them when they came down which would have been never this man small is a pretty fellow he would send a on ahead and if anything made him suspicious lie for another week but you might have to and so been led to their said i in that case i should have wasted my day i think that it is a hundred to one against knowing where they live as long as he has liquor and good pay why should he ask questions they send him what to do no i thought over every possible course and this is the best while this conversation had been proceeding we had been shooting the long series of bridges which the as we passed the city the last of the sun were the cross upon the of st paul it was before we reached the tower that is yard said holmes pointing to a of and on the surrey side gently up and down here under of this string of he took a pair of from his pocket and some time at the i see my at his he but no sign of a handkerchief suppose we go a short way and lie in wait for them said jones eagerly we were all eager by this time even the and who had a very vague idea of what was going forward we have no right to take anything for granted holmes it is certainly ten to one that they go but we can not be certain from this point we can see the of the yard and they can hardly see us it will be a clear night and plenty of light we must stay where we are see how the folk over in the they are coming from work in the yard but i suppose every one has some little immortal spark about him you would not think it to look at them there is no a about it a strange enigma is man some one calls him a soul in an animal i is good upon the subject said holmes he remarks that while the individual man is an puzzle in the he becomes a certainty you can for example never what any one man will do but you can say with what an average number will be up to individuals but remain constant so says the but do i see a handkerchief surely there is a white over yes it is your boy i cried i can see him plainly and there is the holmes and going like the devil full ahead engineer make after that with the yellow light by heaven i shall never forgive myself if she proves to have the heels of us she had slipped through the and passed behind two or three small so that she had fairly got her up before we saw her now she was flying down the stream near in to the going at a tremendous rate jones looked gravely at her and his head she is very fast he said i doubt if we shall catch her we must catch her cried holmes between his teeth heap it on make her do all she can if we burn the boat we must have them we were fairly after her now the and the and like a great heart her sharp cut through the and sent two rolling waves to right and to left of us with every of the we and like a living thing one great yellow in our bows threw a long of light in front of us right ahead a dark upon the water showed where the lay and the of white behind her spoke of the pace at which she was going we past in and out behind this one and round the other us out of the darkness but still the on and still we followed close upon her track pile it on men pile it on cried holmes looking down into the while the fierce glow from beat upon his eager face get every pound of steam you can i think we gain a little said jones with his eyes on the i am sure of it said i we shall be up with her in a very few minutes at that moment however as our fate would have it a with three in in between us it was only by putting our hard down that we avoided a collision and before we could round them and recover our way the had gained a good two hundred yards she was still however well in view and the uncertain was setting into a clear starlit night our were strained to their and the frail shell and with the fierce energy which was driving us along we had shot through the past the west india down the long reach and up again after rounding the of dogs the dull in front of us resolved itself now clearly enough into the dainty jones turned our upon her so that we could plainly see the figures upon her one man sat by the stern with something black between his knees over which he beside him lay a dark which looked like a dog the boy held the while against the red glare of the i could see old stripped to the waist and for dear life they may have had some doubt at first as to whether we were really pursuing them but now as we followed every and turning which they took there could no longer be any question about it at we were about three hundred behind them at we could not have been more than two hundred and fifty i have many creatures in many during my career but never did sport give me such a wild as this mad flying down the steadily we drew in upon them yard by yard in the silence of the night we could hear the panting and of their machinery the man in the stern still upon the and his arms were moving as though he were busy while every now and then he would look up and measure with a glance the distance which still separated us nearer we came and nearer jones yelled to them to stop we were not more than four boat behind them both flying at a tremendous pace it was a clear reach of the river with level upon one side and the melancholy upon the other at our the man in the stern up from the and his two fists at us the while in a high cracked voice he was a man and as he stood himself with legs astride i could see that from the there was but a wooden upon the right side at the sound of his angry cries there was movement in the bundle upon the it straightened itself into a little black i have ever a great head and a shock of hair holmes had already his revolver and i out mine at the sight of this creature he was wrapped in some sort of dark or which left only his face exposed but that face was enough to give a man a night never have i seen features so deeply marked with all and his small eyes and with a light and his thick lips were back from his teeth which and at us with a half animal fury fire if he raises his hand said holmes quietly we were within a boat by this time and almost within touch of our quarry i can see the two of them now as they stood the white man with his legs far apart shrieking out and the with his hideous face and his strong yellow teeth at us in the light of our it was well that we had so clear a view of him even as we looked he out from under his covering a short round piece of wood like a and it to his lips our pistols out together he round threw up his arms and with a kind of choking fell into the stream i caught one glimpse of his venomous eyes the white of the at the same moment the man threw himself upon the and put it hard down so that his boat made straight in for the bank while we shot past her stern only clearing her by a few feet we were round after her in an instant but she was already nearly at the bank it was a wild and place where the upon a wide of with of water and beds of vegetation the with a dull ran up upon the with her bow in the air and her stern flush with the water the fugitive out but his instantly its whole length into the soil in vain he and not one step could he possibly take either or he yelled in rage and frantically into the mud with his other foot but his struggles only bored his wooden the deeper into the sticky bank when we brought our he was so firmly that it was only by throwing the end of a over his shoulders that we were able to him out and to drag him like some fish over our side the two father and son sat in their but came enough when the herself we hauled off and made fast to our stern a solid iron chest of indian stood upon the this there could be no question was the same that had the treasure of the there was no but it was of considerable weight so we transferred it carefully to our own little as we slowly again we our in every direction but there was no sign of the somewhere in the dark at the bottom of the lie the bones of that strange visitor to our shores see here said holmes pointing to the wooden we were hardly quick enough with our pistols there sure enough just behind where we had been standing one of those murderous darts which we knew so well it must have between us at the instant that we fired holmes at it and his shoulders in his easy fashion but i confess that it turned me sick to think of the horrible death which had passed so close to us that night the great treasure our sat in the opposite to the iron box which he had done so much and waited so long to gain he was a fellow with a of lines and wrinkles all over his features which told of a hard life there was a singular about his chin which marked a man who was not to be easily turned from his purpose his age may have been fifty or thereabouts for his black curly hair was shot with grey his face in was not an one though his heavy brows and chin gave him as i had lately seen a terrible expression when moved to anger he sat now with his hands upon his lap and his head upon his breast while he looked with his keen eyes at the box which had been the cause of his it seemed to me that there was more sorrow than anger in his rigid and countenance once he looked up at me with a gleam of something like in his eyes well small said holmes lighting a i am sorry that it has come to this and so am i sir he i don believe that i can swing over the job i give you my word on the book that i never raised hand against mr it was that little who shot one of his cursed darts into him i had no part in it sir i was as as if it had been my i the little devil with the end of the for it but it was done and i could not it again have a said holmes and you had best take a pull out of my for you are very wet how could you expect so small and weak a man as this black fellow to mr and hold him while you were climbing the you seem to know as much about it as if you were there sir the truth is that i hoped to find the room clear i knew the habits of the house pretty well and it was the time when mr usually went down to his supper i shall make no secret of the business the best defence that i can make is just the simple truth now if it had been the old major i would have for him with a light heart i would have thought no more of him than of smoking this but it cursed hard that i should be over this young with whom i had no quarrel whatever you are under the charge of mr jones of yard he is going to bring you up to my rooms and i shall ask you for a true account of the matter you must make a clean breast of it for if you do i hope that i may be of use to you i think i can prove that the poison so quickly that the man was dead before ever you reached the room that he was sir i never got such a turn in my life as when i saw him grinning at me with his head on his shoulder as i climbed through the window it fairly me sir i d have half killed for it if he had not off that was how he came to leave his club and some of his darts too as he tells me which i dare say helped to put you on our track though how you kept on it is more than i can tell i don feel no malice against you for it but it does seem a queer thing he with a bitter smile that i who have a fair claim to nigh upon half a of money should spend the first half of my life a in the and am like to spend the other half at it was an day for me when first i eyes upon the and had to do with the treasure which never brought anything but a curse yet upon the man who owned it to him it brought murder to major it brought fear and guilt to me it has meant slavery for life at this moment jones thrust his broad face and heavy shoulders into the tiny quite a family party he i think i shall have a pull at that holmes well i think we may all congratulate each other pity we take the other alive but there was no choice i say holmes you must confess that you cut it rather fine it was all we could do to her all is well that ends well said holmes but i certainly did not know that the was such a says she is one of the on the river and that if he had had another man to help him with the we should never have caught her he he knew nothing of this business neither he did cried our not a word i chose his because i heard that she was a we told him nothing but we paid him well and he was to get something handsome if we reached our the at bound for the well if he has done no wrong we shall see that no wrong comes to him if we are pretty quick in catching our men we are not so quick in them it was amusing to notice how the consequential jones was already beginning to give himself airs on the strength of the capture from the slight smile which played over sherlock holmes face i could see that the speech had not been lost upon him we will be at bridge presently said jones and shall land you with the i need hardly tell you that i am taking a very grave responsibility upon myself in doing this it is most irregular but of course an agreement is an agreement i must however as a matter of duty send an inspector with you since you have so valuable a charge you will drive no doubt yes i shall drive it is a pity there is no that we may make an first you will have to break it open where is the my man at the bottom of the river said small there was no use your giving this unnecessary trouble we have had work enough already through you however doctor i need not warn you to be careful bring the box back with you to the street rooms you will find us there on our way to the station they landed me at with my heavy iron box and with a genial inspector as my companion a quarter of an hour drive brought us to mrs cecil the servant seemed surprised at so late a visitor mrs cecil was out for the evening she explained and likely to be very late miss however was in the drawingroom so to the drawingroom i went box in hand leaving the obliging inspector in the cab she was seated by the open window dressed in some sort of white material with a little touch of scarlet at the neck and waist the soft light of a lamp fell upon her as she back in the basket chair playing over her grave face and with a dull the rich coils of her hair one white arm and hand over the side of the chair and her whole pose and figure spoke of an absorbing melancholy at the sound of my she to her feet however and a bright flush of surprise and of pleasure her pale cheeks i heard a cab drive up she said i thought that mrs had come back very early but i never that it might be you what news have you brought me i have brought something better than news said i putting down the box upon the table and speaking and though my heart was heavy within me i have brought you something which is worth all the news in the world i have brought you a fortune she at the iron box is that the treasure then she asked coolly enough yes this is the great treasure half of it is yours and half is you will have a couple of hundred thousand each think of that an of ten thousand pounds there will be few young ladies in england is it not glorious i think that i must have been rather my delight and that she a hollow ring in my congratulations for i saw her eyebrows rise a little and she at me curiously if i have it said she i owe it to you no no i not to me but to my friend sherlock holmes with all the will in the world i could never have followed up a which has even his genius as it was we very nearly lost it at the last moment pray sit down and tell me all about it said she i what had since i had seen her new of search the of the the appearance of jones our expedition in the evening and the wild chase down the she listened with parted lips and eyes to my of our adventures when i spoke of the which had so missed us she turned so white that i feared that she was about to faint it is nothing she said as i to pour her out some water i am all right again it was a shock to me to hear that i had placed my friends in such horrible peril that is all over i it was nothing i will tell you no more let us turn to something there is the treasure what could be than that i got leave to bring it with me thinking that it would interest you to be the first to see it it would be of the greatest interest to me she said there was no eagerness in her voice however it had struck her that it might seem upon her part to be indifferent to a which had cost so much to win what a pretty box she said stooping over it this is indian work i suppose yes it is and so heavy she trying to raise it the box alone must be of some value where is the small threw it into the i i must borrow mrs poker there was in the front a thick and broad in the image of a sitting under this i thrust the end of the poker and it as a the open with a loud snap with fingers i flung back the lid we both stood gazing in astonishment the box was no wonder that it was heavy the was of an inch thick all round it was well made and solid like a chest to carry things of great price but not one or of metal or jewelry lay within it it was absolutely and completely the treasure is lost said miss calmly as i listened to the words and what they meant a great seemed to pass from my soul i did not know how this treasure had me down until now that it was finally it was selfish no doubt wrong but i could nothing save that the golden barrier was gone from between us thank god i from my very heart she looked at me with a quick smile why do you say that she asked because you are within my reach again i said taking her hand she did not withdraw it because i love you as truly as ever a man loved a woman because this treasure these my lips now that they are gone i can tell you how i love you that is why i said thank god then i say thank god too she as i drew her to my side whoever had lost a treasure i knew that night that i had gained one the strange story of small a very patient man was that inspector in the cab for it was a weary time before i him his face over when i showed him the box there goes the reward said he gloomily where there is no money there is no pay this night work would have been worth a each to brown and me if the treasure had been there mr is a rich man i said he will see that you are treasure or no the inspector his head however it a bad job he repeated and so mr jones will think his to be correct for the detective looked enough when i got to street and showed him the box they had only just arrived holmes the prisoner and he for they had changed their plans so far as to themselves at a station upon the way my companion in his with his usual expression while small sat stolidly opposite to him with his wooden over his sound one as i the box he back in his chair and laughed this is your doing small said jones angrily yes i have put it away where you shall never lay hand upon it he cried it is my treasure and if i can have the i take good care that no one else does i tell you that no living man has any right to it unless it is three men who are in the and myself i know now that i can not have the use of it and i know that they can not i have acted all through for them as much as for myself it been the sign of four with us always well i know that they would have had me do just what i have done and throw the treasure into the rather than let it go to or of or of it was not to make them rich that we did for you find the treasure where the is and where little is when i saw that your must catch us i put the away in a safe place there are no for you this journey you are deceiving us small said jones sternly if you had wished to throw the treasure into the it would have been easier for you to have thrown box and all easier for me to throw and easier for you to recover he with a look the man that was clever enough to hunt me down is clever enough to pick an iron box from the bottom of a river now that they are scattered over five miles or so it may be a harder job it went to my heart to do it though i was half mad when you came up with us however there no good over it i had in my life and i had but i learned not to cry over milk this is a very serious matter small said the detective if you had helped justice instead of thwarting it in this way you would have had a better chance at your trial justice the a pretty justice whose is this if it is not ours where is the justice that i should give it up to those who have never earned it look how i have earned it twenty long years in that all day at work under the all night up in the filthy by with bullied by every cursed policeman who loved to take it out of a white man that was how i earned the treasure and you talk to me of justice because i can not bear to feel that i have paid this price only that another may enjoy it i would rather swing a score of times or have one of darts in my hide than live in a and feel that another man is at his ease in a palace with the money that should be mine small had dropped his mask of and all this came out in a wild of words while his eyes and the together with the movement of his hands i could understand as i saw the fury and the passion of the man that it was no or unnatural terror which had possessed major when he first learned that the injured was upon his track you forget that we know nothing of all this said holmes quietly we have not heard your story and we can not tell how far justice may originally have been on your side well sir you have been very to me though i can see that i have you to thank that i have these upon my wrists still i bear no grudge for that it is all fair and if you want to hear my story i have no wish to hold it back what i say to you is god truth every word of it thank you you can put the glass beside me here and i put my lips to it if i am dry i am a man near i dare say you would find a heap of living there now if you were to look i have often thought of taking a look round there but the truth is that i was never much of a credit to the family and i doubt if they would be so very glad to see me they were all steady folk small and respected over the while i was always a bit of a at last however when i was about eighteen i gave them no more trouble for i got into a mess over a girl and could only get out of it again by taking the queen shilling and the which was just starting for india i destined to do much soldiering however i had just got past the and learned to handle my when i was fool enough to go in the for me my company sergeant john was in the water at the same time and he was one of the finest in the service a crocodile took me just as i was across and off my right as clean as a could have done it just above the knee what with the shock and the loss of blood i fainted and should have if had not caught hold of me and for the bank i was five months in hospital over it and when at last i was able to out of it with this timber toe to my i found myself out of the army and for any active i was as you can imagine pretty down on my luck at this time for i was a useless though not yet in my twentieth year however my soon to be a blessing in a man named white who had come out there as an wanted an to look after his and keep them up to their work he happened to be a friend of our colonel who had taken an interest in me since the accident to make a long story short the colonel recommended me strongly for the and as the work was mostly to be done on horseback my was no great obstacle for i had enough knee left to keep good grip on the what i had to do was to ride over the to keep an eye on the men as they worked and to the the pay was fair i had comfortable quarters and altogether i was content to spend the of my life in mr white was a kind man and he would often drop into my little and a pipe with me for white folk out there feel their hearts warm to each other as they never do here at home well i was never in luck way long suddenly without a note of warning the great mutiny broke upon us one month india lay as still and to all appearance as surrey or the next there were two hundred thousand black devils let loose and the country was a perfect hell of course you know all about it deal more than i do very like since reading is not in my line i only know what i saw with my own eyes our was at a place called near the border of the night after night the whole sky was alight with the burning and day after day we had small companies of passing through our with their wives and children on their way to where were the nearest mr white was an obstinate man he had it in his head that the affair had been and that it would blow over as suddenly as it had sprung up there he sat on his drinking and smoking while the country was in a about him of course we by him i and who with his wife used to do the and the well one fine day the came i had been away on a distant and was slowly home in the evening when my eye fell upon something all together at the bottom of a i down to see what it was and the cold struck through my heart when i found it was wife all cut into and half eaten by and native dogs a little further up the road himself was lying on his face quite dead with an revolver in his hand and four lying across each other in front of him i up my horse wondering which way i should turn but at that moment i saw thick up from white and the flames beginning to burst through the roof i knew then that i could do my employer no good but would only throw my own life away if i in the matter from where i stood i could see hundreds of the black fiends with their red coats still on their backs and round the burning house some of them pointed at me and a couple of bullets sang past my head so i broke away across the and found myself late at night safe within the walls at as it however there was no great safety there either the whole country was up like a of bees wherever the english could in little bands they held just the ground that their guns everywhere else they were helpless fugitives it was a fight of the millions against the hundreds and the part of it was that these men that we fought against foot horse and were our own picked whom we had taught and trained handling our own weapons and blowing our own at there were the bengal some two of horse and a battery of artillery a volunteer of and had been formed and this i joined wooden and all we went out to meet the at early in and we beat them back for a time but our powder gave out and we had to fall back upon the city nothing but the worst news came to us from every is not to be wondered at for if you look at the you will see that we were right in the heart of it is rather better than a hundred miles to the east and about as far to the south from every point on the there was nothing but torture and murder and the city of is a great place with fanatics and fierce of all sorts our handful of men were lost among the narrow streets our leader moved across the river therefore and took up his position in the old at i don know if any of you gentlemen have ever read or heard anything of that old it is a very queer that ever i was in and i have been in some corners too first of all it is enormous in size i should think that the must be and there is a modern part which took all our women children and everything else with plenty of room over but the modern part is nothing like the size of the old quarter where nobody goes and which is given over to the and the it is all full of great deserted halls and and long in and out so that it is easy enough for folk to get lost in it for this reason it was seldom that any one went into it though now and again a party with might go the river along the front of the old and so it but on the and behind there are many doors and these had to be of course in the old quarter as well as in that which was actually held by our we were with hardly men enough to man the angles of the and to serve the guns it was impossible for us therefore to station a strong guard at every one of the innumerable gates what we did was to a central in the middle of the and to leave each gate under the charge of one white man and two or three i was selected to take charge during certain hours of the night of a small door upon the side of the two were placed under my command and i was instructed if anything went wrong to fire my when i might rely upon help coming at once from the central guard as the guard was a good two hundred away however and as the space between was cut up into a of and i had great as to whether they could in time to be of any use in case of an actual attack well i was pretty proud at having this small command given me since i was a raw and a one at that for two nights i kept the watch with my they were tall chaps mahomet and by name both old who had borne arms against us at they could talk english pretty well but i could get little out of them they preferred to stand together and all night in their queer lingo for myself i used to stand outside the gateway looking down on the broad river and on the lights of the great city the beating of the rattle of and the and of the drunk with and with bang were enough to remind us all night of our dangerous neighbours across the stream every two hours the officer of the night used to come round to all the posts to make sure that all was well the third night of my watch was dark and dirty with a small driving rain it was work standing in the gateway hour after hour in such weather i tried again and again to make my talk but without much success at two in the morning the passed and broke for a moment the weariness of the night finding that my would not be led into conversation i took out my pipe and laid down my to strike the match in an instant the two were upon me one of them my up and levelled it at my head while the other held a great knife to my throat and swore between his teeth that he would it into me if i moved a step my first thought was that these fellows were in league with the and that this was the beginning of an if our door were in the hands of the the place must fall and the women and children be treated as they were in maybe you gentlemen think that i am just making out a case for myself but i give you my word that when i thought of that though i felt the point of the knife at my throat i opened my mouth with the intention of giving a scream if it was my last one which might alarm the main guard the man who held me seemed to know my thoughts for even as i myself to it he don make a noise the is safe enough there are no dogs on this side of the river there was the ring of truth in what he said and i knew that if i raised my voice i was a dead man i could read it in the fellow brown eyes i waited therefore in silence to see what it was that they wanted from me listen to me said the and of the pair the one whom they called you must either be with us now or you must be silenced the thing is too great a one for us to hesitate either you are heart and soul with us on your oath on the cross of the christians or your body this night shall be thrown into the and we shall pass over to our brothers in the army there is no middle way which is it to be death or life we can only give you three minutes to decide for the time is passing and all must be done before the come again how can i decide said i you have not told me what you want of me but i tell you now that if it is anything against the safety of the i will have no truck with it so you can drive home your knife and welcome it is nothing against the said he we only ask you to do that which your come to this land for we ask you to be rich if you will be one of us this night we will swear to you upon the naked knife and by the oath which no was ever known to break that you shall have your fair share of the a quarter of the treasure shall be yours we can say no but what is the treasure then i asked i am as ready to be rich as you can be if you will but show me how it can be done you will swear then said he by the bones of your father by the of your mother by the cross of your faith to raise no hand and speak no word against us either now or afterwards i will swear it i provided that the is not then my comrade and i will swear that you shall have a quarter of the treasure which shall be equally divided among the four of us there are but three said i no must have his share we can tell the to you while we them do you stand at the gate mahomet and give notice of their coming the thing stands thus and i tell it to you because i know that an oath is upon a and that we may trust you had you been a lying though you had sworn by all the gods in their false your blood would have been upon the knife and your body in the water but the knows the englishman and the englishman knows the then to what i have to say there is a in the who has much wealth though his are small much has come to him from his father and more still he has set by himself for he is of a low nature and his gold rather than spend it when the troubles broke out he would be friends both with the lion and the the and with the company soon however it seemed to him that the white men day was come for through all the land he could hear of nothing but of their death and their yet being a careful man he made such plans that come what might half at least of his treasure should be left to him that which was in gold and he kept by him in the of his palace but the most precious stones and the that he had he put in an iron box and sent it by a servant who under the of a should take it to the at there to lie until the land is at peace thus if the won he would have his money but if the company his jewels would be saved to him having thus divided his he threw himself into the cause of the since they were strong upon his by doing this mark you his property becomes the due of those who have been true to their this pretended who under the name of is now in the city of and desires to gain his way into the he has with him as my who knows his secret has promised this night to lead him to a of the and has chosen this one for his purpose here he will come presently and here he will find mahomet and myself him the place is lonely and none shall know of his coming the world shall know of the no more but the great treasure of the shall be divided among us what say you to it in the life of a man seems a great and a sacred thing but it is very different when there is fire and blood all round you and you have been used to meeting death at every turn whether the lived or died was a thing as light as air to me but at the talk about the treasure my heart turned to it and i thought of what i might do in the old country with it and how my folk would stare when they saw their coming back with his pockets full of gold i had therefore already made up my mind however thinking that i the matter more closely consider said he that if this man is taken by the he will be hung or shot and his jewels taken by the government so that no man will be a the better for them now since we do the taking of him why should we not do the rest as well the jewels will be as well with us as in the company there will be enough to make every one of us rich men and great no one can know about the matter for here we are cut off from all men what could be better for the purpose say again then whether you are with us or if we must look upon you as an enemy i am with you heart and soul said i it is well he handing me back my you see that we trust you for your word like ours is not to be broken we have now only to wait for my brother and the does your brother know then of what you will do i asked the plan is his he has devised it we will go to the gate and share the watch with mahomet the rain was still falling steadily for it was just the beginning of the wet season brown heavy were drifting across the sky and it was hard to see more than a a deep lay in front of our door but the water was in places nearly up and it could easily be crossed it was strange to me to be standing there with those two wild waiting for the man who was coming to his death suddenly my eye caught the of a at the other side of the it among the and then appeared again coming slowly in our direction here they are i you will challenge him as usual give him no cause for fear send us in with him and we shall do the rest while you stay here on guard have the ready to that we may be sure that it is indeed the man the light had now stopping and now advancing until i could see two dark figures upon the other side of the i let them scramble down the bank through the and climb up to the gate before i them who goes there said i in a subdued voice friends came the answer i my and threw a flood of light upon them the first was an enormous with a black beard which swept nearly down to his outside of a show i have never seen so tall a man the other was a little fat round fellow with a great yellow and a bundle in his hand done up in a he seemed to be all in a with fear for his hands as if he had the and his head kept turning to left and right with two bright little eyes like a mouse when he out from his hole it gave me the to think of killing him but i thought of the treasure and my heart set as hard as a within me when he saw my white face he gave a little of joy and came running up towards me your protection he your protection for the unhappy i have across that i might seek the shelter of the at i have been robbed and beaten and because i have been the friend of the company it is a blessed night this when i am once more in and my poor what have you in the bundle i asked an iron box he which contains one or two little family matters which are of no value to others but which i should be sorry to lose yet i am not a beggar and i shall reward you young and your governor also if he will give me the shelter i ask i could not trust myself to speak longer with the man the more i looked at his fat frightened face the harder did it seem that we should slay him in cold blood it was best to get it over take him to the main guard said i the two closed in upon him on each side and the giant walked behind while they in through the dark gateway never was a man so round with death i remained at the gateway with the i could hear the measured tramp of their footsteps through the lonely suddenly it ceased and i heard and a with the sound of blows a moment later there came to my horror a rush of footsteps coming in my direction with the loud breathing of a running man i turned my down the long straight passage and there was the fat man running like the wind with a of blood across his face and close at his heels bounding like a tiger the great with a knife flashing in his hand i have never seen a man run so fast as that little he was on the and i could see that if he once passed me and got to the open air he would save himself yet my heart softened to him but again the thought of his treasure turned me hard and bitter i cast my between his legs as he past and he twice over like a shot rabbit ere he could to his feet the was upon him and buried his knife twice in his side the man never uttered nor moved muscle but lay were he had fallen i think myself that he may have broken his neck with the fall you see gentlemen that i am keeping my promise i am telling you every work of the business just exactly as it happened whether it is in my or not he stopped and held out his hands for the which holmes had for him for myself i confess that i had now the horror of the man not only for this coldblooded business in which he had been concerned but even more for the somewhat flippant and careless way in which he it whatever punishment was in store for him i felt that he might expect no sympathy from me sherlock holmes and jones sat with their hands upon their knees deeply interested in the story but with the same disgust written upon their faces he may have observed it for there was a touch of defiance in his voice and manner as he it was all very bad no doubt said he i should like to know how many fellows in my shoes would have refused a share of this when they knew that they would have their throats cut for their pains besides it was my life or his when once he was in the if he had got out the whole business would come to light and i should have been courtmartialled and shot as likely as not for people were not very lenient at a time like that go on with your story said holmes well we carried him in and i a fine weight he was too for all that he was so short mahomet was left to guard the door we took him to a place which the had already prepared it was some distance off where a passage leads to a great hall the walls of which were all to pieces the earth floor had in at one place making a natural grave so we left the there having first covered him over with loose this done we all went back to the treasure it lay where he had dropped it when he was first attacked the box was the same which now lies open upon your table a was hung by a silken to that carved handle upon the top we opened it and the light of the upon a collection of such as i have read of and thought about when i was a little lad at it was blinding to look upon them when we had our eyes we took them all out and made a of them there were one hundred and diamonds of the first water including one which has been called i believe the great and is said to be the second largest stone in existence then there were very fine and one hundred and seventy some of which however were small there were forty two hundred and ten and a great quantity of cats eyes and other stones the very names of which i did not know at the time though i have become more familiar with them since besides this there were nearly three hundred very fine twelve of which were set in a gold by the way these last had been taken out of the chest and were not there when i recovered it after we had counted our treasures we put them back into the chest and carried them to the gateway to show them to mahomet then we solemnly renewed our oath to stand by each other and be true to our secret we agreed to conceal our in a safe place until the country should be at peace again and then to it equally among ourselves there was no use it at present for if of such value were found upon us it would cause suspicion and there was no in the nor any place where we could keep them we carried the box therefore into the same hall where we had buried the body and there under certain in the wall we made a hollow and put our treasure we made careful note of the place and next day i drew four plans one for each of us and put the sign of the four of us at the bottom for we had sworn that we should each always act for all so that none might take advantage that is an oath that i can put my hand to my heart and swear that i have never broken well there no use my telling you gentlemen what came of the indian mutiny after took and sir relieved the back of the business was broken fresh came in and made himself over the frontier a flying column under colonel came round to and cleared the away from it peace seemed to be settling upon the country and we four were beginning to hope that the time was at hand when we might safely go off with our shares of the in a moment however our hopes were shattered by our being arrested as the murderers of it came about in this way when the put his jewels into the hands of he did it because he knew that he was a man they are suspicious folk in the east however so what does this do but take a second even more servant and set him to play the spy upon the first this second man was ordered never to let out of his sight and he followed him like his he went after him that night and saw him pass through the of course he thought he had taken refuge in the and applied for admission there himself next day but could find no trace of this seemed to him so strange that he spoke about it to a sergeant of who brought it to the ears of the a thorough search was quickly made and the body was discovered thus at the very moment that we thought that all was safe we were all four seized and brought to trial on a charge of of us because we had held the gate that night and the because he was known to have been in the company of the murdered man not a word about the jewels came out at the trial for the had been and driven out of india so no one had any particular interest in them the murder however was clearly made out and it was certain that we must all have been concerned in it the three got servitude for life and i was condemned to death though my sentence was afterwards into the same as the others it was rather a queer position that we found ourselves in then there we were all four tied by the and with precious little chance of ever getting out again while we each held a secret which might have put each of us in a palace if we could only have made use of it it was enough to make a man eat his heart out to have to stand the kick and the cuff of every petty to have to eat and water to drink when that gorgeous fortune was ready for him outside just waiting to be picked up it might have driven me mad but i was always a pretty one so i just held on and my time at last it seemed to me to have come i was changed from to and from there to in the there are very few white at this and as i had behaved well from the first i soon found myself a sort of person i was given a in hope town which is a small place on the slopes of mount and i was left pretty much to myself it is a place and all beyond our little was with wild who were ready enough to blow a poisoned at us if they saw a chance there was and and and a dozen other things to be done so we were busy enough all day though in the evening we had a little time to ourselves among other things i learned to for the and picked up a of his knowledge all the time i was on the for a chance of escape but it is hundreds of miles from any other land and there is little or no wind in those so it was a difficult job to get away the was a fast sporting young chap and the other young officers would meet in his rooms of an evening and play cards the where i used to make up my was next to his sittingroom with a small window between us often if i felt i used to turn out the lamp in the and then standing there i could hear their talk and watch their play i am fond of a hand at cards myself and it was almost as good as having one to watch the others there was major captain and brown who were in command of the native and there was the himself and two or three old hands who played a nice safe game a very little party they used to make well there was one thing which very soon struck me and that was that the soldiers used always to lose and the to win mind i don say that there was anything unfair but so it was these had done little else than play cards ever since they had been at the and they knew each other game to a point while the others just played to pass the time and threw their cards down anyhow night after night the soldiers got up poorer men and the poorer they got the more keen they were to play major was the hardest hit he used to pay in notes and gold at first but soon it came to notes of hand and for big he sometimes would win for a few just to give him heart and then the luck would set in against him worse than ever all day he would about as black as thunder and he took to drinking a deal more than was good for him one night he lost even more heavily than usual i was sitting in my when he and captain came stumbling along on the way to their quarters they were bosom friends those two and never far apart the major was raving about his it all up he was saying as they passed my i shall have to send in my papers i am a ruined man nonsense old chap said the other slapping him upon the shoulder i had a myself that was all i could hear but it was enough to set me thinking a couple of days later major was strolling on the beach so i took the chance of speaking to him i wish to have your advice major said i well small what is it he asked taking his from his lips i wanted to ask you sir said i who is the proper person to whom hidden treasure should be over i know where half a worth lies and as i can not use it myself i thought perhaps the best thing that i could do would be to hand it over to the proper and then perhaps they would get my sentence for me half a small he looking hard at me to see if i was in earnest quite that jewels and it lies there ready for any one and the queer thing about it is that the real owner is and can not hold property so that it belongs to the first comer to government small he to government but he said it in a halting fashion and i knew in my heart that i had got him you think then sir that i should give the to the governorgeneral said i quietly well well you must not do anything rash or that you might repent let me hear all about it small give me the facts i told him the whole story with small changes so that he could not the places when i had finished he stood stock still and full of thought i could see by the of his lip that there was a struggle going on within him this is a very important matter small he said at last you must not say a word to any one about it and i shall see you again soon two nights later he and his friend captain came to my in the dead of the night with a i want you just to let captain hear that story from your own lips small said he i repeated it as i had told it before it rings true eh said he it good enough to act upon captain look here small said the major we have been talking it over my friend here and i and we have come to the that this secret of yours is hardly a government matter after all but is a private concern of your own which of course you have the power of of as you think best now the question is what price would you ask for it we might be to take it up and at least look into it if we could agree as to terms he tried to speak in a cool careless way but his eyes were with excitement and greed why as to that gentlemen i trying also to be cool but feeling as excited as he did there is only one which a man in my position can make i shall want you to help me to my freedom and to help my three to theirs we shall then take you into and give you a share to between you said he a share that is not very tempting it would come to fifty thousand apiece said i but how can we gain your freedom you know very well that you ask an nothing of the sort i i have thought it all out to the last the only to our escape is that we can get no boat fit for the voyage and no to last us for so long a time there are plenty of little and at or which would serve our turn well do you bring one over we shall to get her by night and if you will drop us on any part of the indian you will have done your part of the if there were only one he said none or all i we have sworn it the four of us must always act together you see said he small is a man of his word he does not from his friend i think we may very well trust him it a dirty business the other yet as you say the money would save our handsomely well small said the major we must i suppose try and meet you we must first of course test the truth of your story tell me where the box is hid and i shall get leave of absence and go back to india in the to into the affair not so fast said i growing colder as he got hot i must have the consent of my three comrades i tell you that it is four or none with us nonsense he broke in what have three black fellows to do with our agreement black or blue said i they are in with me and we all go together well the matter ended by a second meeting at which mahomet and were all present we talked the matter over again and at last we came to an arrangement we were to provide both the officers with of the part of the and mark the place in the wall where the treasure was hid major was to go to india to test our story if he found the box he was to leave it there to send out a small for a voyage which was to lie off and to which we were to make our way and finally to return to his duties captain was then to for leave of absence to meet us at and there we were to have a final division of the treasure he taking the major share as well as his own all this we by the most solemn that the mind could think or the lips utter i sat up all night with paper and ink and by the morning i had the two all ready signed with the sign of is of mahomet and myself well gentlemen i weary you with my long story and i know that my friend mr jones is impatient to get me safely in i make it as short as i can the villain went off to india but he never came back again captain showed me his name among a of passengers in one of the very afterwards his uncle had died leaving him a fortune and he had left the army yet he could stoop to treat five men as he had treated us went over to afterwards and found as we expected that the treasure was indeed gone the scoundrel had stolen it all without carrying out one of the conditions on which we had sold him the secret from that day i lived only for vengeance i thought of it by day and i nursed it by night it became an absorbing passion with me i cared nothing for the for the gallows to escape to track down to have my hand upon his was my one thought even the treasure had come to be a smaller thing in my mind than the slaying of well i have set my mind on many things in this life and never one which i did not carry out but it was weary years before my time came i have told you that i had picked up something of medicine one day when was down with a fever a little was picked up by a in the woods he was sick to death and had gone to a lonely place to die i took him in hand though he was as venomous as a young and after a couple of months i got him all right and able to walk he took a kind of fancy to me then and would hardly go back to his woods but was always hanging about my i learned a little of his lingo from him and this made him all the fonder of me that was his a fine and owned a big of his own when i found that he was devoted to me and would do anything to serve me i saw my chance of escape i talked it over with him he was to bring his boat round on a certain night to an old which was never and there he was to pick me up i gave him directions to have several of water and a lot of and he was and true was little no man ever had a more faithful mate at the night named he had his boat at the as it however there was one of the down vile who had never missed a chance of insulting and me i had always vengeance and now i had my chance it was as if fate had placed him in my way that i might pay my before i left the he stood on the bank with his back to me and his on his shoulder i looked about for a stone to beat out his brains with but none could i see then a queer thought came into my head and showed me where i could lay my hand on a weapon i sat down in the darkness and my wooden with three long i was on him he put his to his shoulder but i struck him full and the whole front of his in you can see the in the wood now where i hit him we both went down together for i could not keep my but when i got up i found him still lying quiet enough i made for the boat and in an hour we were well out at sea had brought all his earthly with him his arms and his gods among other things he had a long and some with which i made a sort of sail for ten days we were beating about trusting to luck and on the we were picked up by a trader which was going from to with a of they were a crowd and and i soon managed to settle down among them they had one very good quality they let you alone and asked no questions well if i were to tell you all the adventures that my little and i went through you would not thank me for i would have you here until the sun was here and there we drifted about the world something always turning up to keep us from london all the time however i never lost sight of my purpose i would dream of at night a hundred times i have killed him in my sleep at last however some three or four years ago we found ourselves in england i had no great difficulty in finding where lived and i set to work to discover whether he had the treasure or if he still had it i made friends with someone who could help name no names for i don want to get any one else in a i soon found that he still had the jewels then i tried to get at him in many ways but he was pretty and had always two besides his sons and his on guard over him one day however i got word that he was dying i hurried at once to the garden mad that he should slip out of my clutches like that and looking through the window i saw him lying in his bed with his sons on each side of him i d have come through and taken my chance with the three of them only even as i looked at him his jaw dropped and i knew that he was gone i got into his room that same night though and i searched his papers to see if there was any record of where he had hidden our jewels there was not a line however so i came away bitter and as a man could be before i left i me that if i ever met my friends again it would be a satisfaction to know that i had left some mark of our so i scrawled down the sign of the four of us as it had been on the and i it on his bosom it was too much that he should be taken to the grave without some from the men whom he had robbed and we earned a living at this time by my poor at and other such places as the black he would eat raw and dance his so we always had a of pennies after a day work i still heard all the news from and for some years there was no news to hear except that they were hunting for the treasure at last however came what we had waited for so long the treasure had been found it was up at the top of the house in mr laboratory i came at once and had a look at the place but i could not see how with my wooden i was to make my way up to it i learned however about a in the roof and also about mr it seemed to me that i could manage the thing easily through i brought him out with me with a long wound round his waist he could climb like a cat and he soon made his way through the roof but as ill luck would have it was still in the room to his cost thought he had done something very clever in killing him for when i came up by the i found him about as proud as a very much surprised was he when i made at him with the end and cursed him for a little i took the and let it down and then down myself having first left the sign of the four upon the table to show that the jewels had come back at last to those who had most right to them then pulled up the closed the window and made off the way that he had come i don know that i have anything else to tell you i had heard a speak of the of the so i thought she would be a for our escape i engaged with old and was to give him a big sum if he got us safe to our ship he knew no doubt that there was some loose but he was not in our secrets all this is the truth and if i tell it to you gentlemen it is not to amuse you have not done me a very good it is because i believe the best defence i can make is just to hold back nothing but let all the world know how badly i have myself been served by major and how innocent i am of the death of his son a very remarkable account said sherlock holmes a fitting to an extremely interesting case there is nothing at all new to me in the part of your except that you brought your own that i did not know by the way i had hoped that had lost all his darts yet he managed to shoot one at us in the boat he had lost them all sir except the one which was in his blowpipe at the time ah of course said holmes i had not thought of that is there any other point which you would like to ask about asked the affably i think not thank you my companion well holmes said jones you are a man to be and we all know that you are a of crime but duty is duty and i have gone rather far in doing what you and your friend asked me i shall feel more at ease when we have our here safe under lock and the cab still waits and there are two downstairs i am much obliged to you both for your assistance of course you will be wanted at the trial goodnight to you goodnight gentlemen both said small you first small the jones as they left the room i take particular care that you don club me with your wooden whatever you may have done to the gentleman at the well and there is the end of our little drama i after we had set some time smoking in silence i fear that it may be the last in which i shall have the chance of studying your methods miss has done me the to accept me as a husband in he gave a most groan i feared as much said he i really can not congratulate you i was a little hurt have you any reason to be dissatisfied with my choice i asked not at all i think she is one of the most charming young ladies i ever met and might have been most useful in such work as we have been doing she had a genius that way witness the way in which she that plan from all the other papers of her father but love is an thing and whatever is is to that true cold reason which i place above all things i should never marry myself lest i my judgment i trust said i laughing that my judgment may survive the but you look weary yes the reaction is already upon me i shall be as as a rag for a week strange said i how terms of what in another man i should call laziness with your fits of splendid energy and vigour yes he there are in me the of a very fine and also of a pretty sort of fellow i often think of those lines of old die war by the way of this business you see that they had as i a in the house who could be none other than the so jones actually has the of having caught one fish in his great the division seems rather unfair i you have done all the work in this business i get a wife out of it jones gets the credit pray what remains for you for me said sherlock holmes there still remains the and he his long white hand up for it\n"
     ]
    }
   ],
   "source": [
    "print(text_doyle)"
   ]
  },
  {
   "cell_type": "code",
   "execution_count": 318,
   "metadata": {},
   "outputs": [
    {
     "data": {
      "text/plain": [
       "92259"
      ]
     },
     "execution_count": 318,
     "metadata": {},
     "output_type": "execute_result"
    }
   ],
   "source": [
    "text_doyle_token = word_tokenize(text_doyle)\n",
    "type(text_doyle_token)\n",
    "len(text_doyle_token)"
   ]
  },
  {
   "cell_type": "code",
   "execution_count": 16,
   "metadata": {},
   "outputs": [],
   "source": [
    "repeated = False\n",
    "first_loop = True\n",
    "for word in words_shaw:\n",
    "    for word2 in words_doyle_unique:\n",
    "        if word == word2:\n",
    "            repeated = True\n",
    "            break\n",
    "    if repeated == True:\n",
    "        if first_loop == False:\n",
    "            text_shaw = text_shaw + ' ' + word\n",
    "        else:\n",
    "            text_shaw = word\n",
    "            first_loop = False                                \n",
    "    repeated = False"
   ]
  },
  {
   "cell_type": "code",
   "execution_count": 17,
   "metadata": {},
   "outputs": [
    {
     "data": {
      "text/plain": [
       "91293"
      ]
     },
     "execution_count": 17,
     "metadata": {},
     "output_type": "execute_result"
    }
   ],
   "source": [
    "text_shaw_token = word_tokenize(text_shaw)\n",
    "len(text_shaw_token)"
   ]
  },
  {
   "cell_type": "markdown",
   "metadata": {},
   "source": [
    "# Use of stemmer"
   ]
  },
  {
   "cell_type": "code",
   "execution_count": 18,
   "metadata": {},
   "outputs": [],
   "source": [
    "stemmer = PorterStemmer()\n",
    "text_shaw_stemmed = pd.DataFrame(text_shaw_token)\n",
    "text_shaw_stemmed = text_shaw_stemmed.apply(lambda x: [stemmer.stem(y) for y in x])\n",
    "text_shaw_stemmed = text_shaw_stemmed.values.flatten()\n",
    "\n",
    "text_doyle_stemmed = pd.DataFrame(text_doyle_token)\n",
    "text_doyle_stemmed = text_doyle_stemmed.apply(lambda x: [stemmer.stem(y) for y in x])\n",
    "text_doyle_stemmed = text_doyle_stemmed.values.flatten()"
   ]
  },
  {
   "cell_type": "code",
   "execution_count": 19,
   "metadata": {},
   "outputs": [
    {
     "data": {
      "text/plain": [
       "numpy.ndarray"
      ]
     },
     "execution_count": 19,
     "metadata": {},
     "output_type": "execute_result"
    }
   ],
   "source": [
    "type(text_doyle_stemmed)"
   ]
  },
  {
   "cell_type": "markdown",
   "metadata": {},
   "source": [
    "# Splitting texts for groups of n words and then to training and test sets"
   ]
  },
  {
   "cell_type": "code",
   "execution_count": 433,
   "metadata": {},
   "outputs": [],
   "source": [
    "n = 30\n",
    "groups_doyle = [text_doyle_token[i:i+n] for i in range(0, len(text_doyle_token), n)]\n",
    "groups_shaw = [text_shaw_token[i:i+n] for i in range(0, len(text_shaw_token), n)]"
   ]
  },
  {
   "cell_type": "code",
   "execution_count": 434,
   "metadata": {},
   "outputs": [
    {
     "data": {
      "text/plain": [
       "3076"
      ]
     },
     "execution_count": 434,
     "metadata": {},
     "output_type": "execute_result"
    }
   ],
   "source": [
    "len(groups_doyle)"
   ]
  },
  {
   "cell_type": "code",
   "execution_count": 435,
   "metadata": {},
   "outputs": [
    {
     "data": {
      "text/plain": [
       "3044"
      ]
     },
     "execution_count": 435,
     "metadata": {},
     "output_type": "execute_result"
    }
   ],
   "source": [
    "len(groups_shaw)"
   ]
  },
  {
   "cell_type": "code",
   "execution_count": 436,
   "metadata": {},
   "outputs": [
    {
     "data": {
      "text/plain": [
       "[['\\ufeff',\n",
       "  'mr',\n",
       "  'sherlock',\n",
       "  'holmes',\n",
       "  'who',\n",
       "  'was',\n",
       "  'usually',\n",
       "  'very',\n",
       "  'late',\n",
       "  'in',\n",
       "  'the',\n",
       "  'save',\n",
       "  'upon',\n",
       "  'those',\n",
       "  'not',\n",
       "  'occasions',\n",
       "  'when',\n",
       "  'he',\n",
       "  'was',\n",
       "  'up',\n",
       "  'all',\n",
       "  'night',\n",
       "  'was',\n",
       "  'seated',\n",
       "  'at',\n",
       "  'the',\n",
       "  'breakfast',\n",
       "  'table',\n",
       "  'i',\n",
       "  'stood']]"
      ]
     },
     "execution_count": 436,
     "metadata": {},
     "output_type": "execute_result"
    }
   ],
   "source": [
    "groups_doyle[:1]"
   ]
  },
  {
   "cell_type": "code",
   "execution_count": 437,
   "metadata": {},
   "outputs": [
    {
     "data": {
      "text/plain": [
       "[['\\ufeff',\n",
       "  'night',\n",
       "  'a',\n",
       "  'in',\n",
       "  'in',\n",
       "  'a',\n",
       "  'small',\n",
       "  'town',\n",
       "  'near',\n",
       "  'the',\n",
       "  'pass',\n",
       "  'it',\n",
       "  'is',\n",
       "  'late',\n",
       "  'in',\n",
       "  'november',\n",
       "  'in',\n",
       "  'the',\n",
       "  'year',\n",
       "  'and',\n",
       "  'through',\n",
       "  'an',\n",
       "  'open',\n",
       "  'window',\n",
       "  'with',\n",
       "  'a',\n",
       "  'little',\n",
       "  'balcony',\n",
       "  'on',\n",
       "  'the']]"
      ]
     },
     "execution_count": 437,
     "metadata": {},
     "output_type": "execute_result"
    }
   ],
   "source": [
    "groups_shaw[:1]"
   ]
  },
  {
   "cell_type": "code",
   "execution_count": 438,
   "metadata": {},
   "outputs": [],
   "source": [
    "groups_doyle_detoken = [TreebankWordDetokenizer().detokenize(groups_doyle[i]) for i in range(0, len(groups_doyle))]\n",
    "groups_shaw_detoken = [TreebankWordDetokenizer().detokenize(groups_shaw[i]) for i in range(0, len(groups_shaw))]\n",
    "train_doyle, test_doyle = train_test_split(groups_doyle_detoken, test_size=0.2)\n",
    "train_shaw, test_shaw = train_test_split(groups_shaw_detoken, test_size=0.2)"
   ]
  },
  {
   "cell_type": "code",
   "execution_count": 439,
   "metadata": {},
   "outputs": [],
   "source": [
    "df_train_doyle = pd.DataFrame(train_doyle)\n",
    "df_train_doyle['Class'] = \"Doyle\"\n",
    "df_train_doyle.rename(columns={0:'Group'},inplace=True)\n",
    "\n",
    "df_train_shaw = pd.DataFrame(train_shaw)\n",
    "df_train_shaw['Class'] = \"Shaw\"\n",
    "df_train_shaw.rename(columns={0:'Group'},inplace=True)\n",
    "\n",
    "df_test_doyle = pd.DataFrame(test_doyle)\n",
    "df_test_doyle['Class'] = \"Doyle\"\n",
    "df_test_doyle.rename(columns={0:'Group'},inplace=True)\n",
    "\n",
    "df_test_shaw = pd.DataFrame(test_shaw)\n",
    "df_test_shaw['Class'] = \"Shaw\"\n",
    "df_test_shaw.rename(columns={0:'Group'},inplace=True)"
   ]
  },
  {
   "cell_type": "code",
   "execution_count": 440,
   "metadata": {
    "scrolled": true
   },
   "outputs": [
    {
     "data": {
      "text/html": [
       "<div>\n",
       "<style scoped>\n",
       "    .dataframe tbody tr th:only-of-type {\n",
       "        vertical-align: middle;\n",
       "    }\n",
       "\n",
       "    .dataframe tbody tr th {\n",
       "        vertical-align: top;\n",
       "    }\n",
       "\n",
       "    .dataframe thead th {\n",
       "        text-align: right;\n",
       "    }\n",
       "</style>\n",
       "<table border=\"1\" class=\"dataframe\">\n",
       "  <thead>\n",
       "    <tr style=\"text-align: right;\">\n",
       "      <th></th>\n",
       "      <th>Group</th>\n",
       "      <th>Class</th>\n",
       "    </tr>\n",
       "  </thead>\n",
       "  <tbody>\n",
       "    <tr>\n",
       "      <td>0</td>\n",
       "      <td>affected to speak i must say i am surprised to...</td>\n",
       "      <td>Shaw</td>\n",
       "    </tr>\n",
       "    <tr>\n",
       "      <td>1</td>\n",
       "      <td>library disappointed but we are just going out...</td>\n",
       "      <td>Shaw</td>\n",
       "    </tr>\n",
       "    <tr>\n",
       "      <td>2</td>\n",
       "      <td>which man will die will be a idea when the lea...</td>\n",
       "      <td>Shaw</td>\n",
       "    </tr>\n",
       "    <tr>\n",
       "      <td>3</td>\n",
       "      <td>to and honest men can never exercise any real ...</td>\n",
       "      <td>Shaw</td>\n",
       "    </tr>\n",
       "    <tr>\n",
       "      <td>4</td>\n",
       "      <td>diamonds no i want no gold and no diamonds a g...</td>\n",
       "      <td>Shaw</td>\n",
       "    </tr>\n",
       "    <tr>\n",
       "      <td>...</td>\n",
       "      <td>...</td>\n",
       "      <td>...</td>\n",
       "    </tr>\n",
       "    <tr>\n",
       "      <td>2430</td>\n",
       "      <td>protection tanner its all right then not going...</td>\n",
       "      <td>Shaw</td>\n",
       "    </tr>\n",
       "    <tr>\n",
       "      <td>2431</td>\n",
       "      <td>he stops and looks at them as if they had appe...</td>\n",
       "      <td>Shaw</td>\n",
       "    </tr>\n",
       "    <tr>\n",
       "      <td>2432</td>\n",
       "      <td>look shocked you know better than any of us th...</td>\n",
       "      <td>Shaw</td>\n",
       "    </tr>\n",
       "    <tr>\n",
       "      <td>2433</td>\n",
       "      <td>of course you are you are never ill so glad to...</td>\n",
       "      <td>Shaw</td>\n",
       "    </tr>\n",
       "    <tr>\n",
       "      <td>2434</td>\n",
       "      <td>from the were like her mother stuff sir he fol...</td>\n",
       "      <td>Shaw</td>\n",
       "    </tr>\n",
       "  </tbody>\n",
       "</table>\n",
       "<p>2435 rows × 2 columns</p>\n",
       "</div>"
      ],
      "text/plain": [
       "                                                  Group Class\n",
       "0     affected to speak i must say i am surprised to...  Shaw\n",
       "1     library disappointed but we are just going out...  Shaw\n",
       "2     which man will die will be a idea when the lea...  Shaw\n",
       "3     to and honest men can never exercise any real ...  Shaw\n",
       "4     diamonds no i want no gold and no diamonds a g...  Shaw\n",
       "...                                                 ...   ...\n",
       "2430  protection tanner its all right then not going...  Shaw\n",
       "2431  he stops and looks at them as if they had appe...  Shaw\n",
       "2432  look shocked you know better than any of us th...  Shaw\n",
       "2433  of course you are you are never ill so glad to...  Shaw\n",
       "2434  from the were like her mother stuff sir he fol...  Shaw\n",
       "\n",
       "[2435 rows x 2 columns]"
      ]
     },
     "execution_count": 440,
     "metadata": {},
     "output_type": "execute_result"
    }
   ],
   "source": [
    "df_train_shaw"
   ]
  },
  {
   "cell_type": "code",
   "execution_count": 441,
   "metadata": {},
   "outputs": [],
   "source": [
    "df_train = pd.concat([df_train_doyle, df_train_shaw], join='outer', keys=None, ignore_index=True)\n",
    "df_test = pd.concat([df_test_doyle, df_test_shaw], join='outer', keys=None, ignore_index=True)"
   ]
  },
  {
   "cell_type": "code",
   "execution_count": 442,
   "metadata": {},
   "outputs": [
    {
     "data": {
      "text/html": [
       "<div>\n",
       "<style scoped>\n",
       "    .dataframe tbody tr th:only-of-type {\n",
       "        vertical-align: middle;\n",
       "    }\n",
       "\n",
       "    .dataframe tbody tr th {\n",
       "        vertical-align: top;\n",
       "    }\n",
       "\n",
       "    .dataframe thead th {\n",
       "        text-align: right;\n",
       "    }\n",
       "</style>\n",
       "<table border=\"1\" class=\"dataframe\">\n",
       "  <thead>\n",
       "    <tr style=\"text-align: right;\">\n",
       "      <th></th>\n",
       "      <th>Group</th>\n",
       "      <th>Class</th>\n",
       "    </tr>\n",
       "  </thead>\n",
       "  <tbody>\n",
       "    <tr>\n",
       "      <td>0</td>\n",
       "      <td>are in the and myself i know now that i cannot...</td>\n",
       "      <td>Doyle</td>\n",
       "    </tr>\n",
       "    <tr>\n",
       "      <td>1</td>\n",
       "      <td>evening and the wild chase down the she listen...</td>\n",
       "      <td>Doyle</td>\n",
       "    </tr>\n",
       "    <tr>\n",
       "      <td>2</td>\n",
       "      <td>and was silent for a few moments a it was he s...</td>\n",
       "      <td>Doyle</td>\n",
       "    </tr>\n",
       "    <tr>\n",
       "      <td>3</td>\n",
       "      <td>that they get five pounds if they can give yes...</td>\n",
       "      <td>Doyle</td>\n",
       "    </tr>\n",
       "    <tr>\n",
       "      <td>4</td>\n",
       "      <td>than later come now no lies what were you doin...</td>\n",
       "      <td>Doyle</td>\n",
       "    </tr>\n",
       "    <tr>\n",
       "      <td>...</td>\n",
       "      <td>...</td>\n",
       "      <td>...</td>\n",
       "    </tr>\n",
       "    <tr>\n",
       "      <td>4890</td>\n",
       "      <td>protection tanner its all right then not going...</td>\n",
       "      <td>Shaw</td>\n",
       "    </tr>\n",
       "    <tr>\n",
       "      <td>4891</td>\n",
       "      <td>he stops and looks at them as if they had appe...</td>\n",
       "      <td>Shaw</td>\n",
       "    </tr>\n",
       "    <tr>\n",
       "      <td>4892</td>\n",
       "      <td>look shocked you know better than any of us th...</td>\n",
       "      <td>Shaw</td>\n",
       "    </tr>\n",
       "    <tr>\n",
       "      <td>4893</td>\n",
       "      <td>of course you are you are never ill so glad to...</td>\n",
       "      <td>Shaw</td>\n",
       "    </tr>\n",
       "    <tr>\n",
       "      <td>4894</td>\n",
       "      <td>from the were like her mother stuff sir he fol...</td>\n",
       "      <td>Shaw</td>\n",
       "    </tr>\n",
       "  </tbody>\n",
       "</table>\n",
       "<p>4895 rows × 2 columns</p>\n",
       "</div>"
      ],
      "text/plain": [
       "                                                  Group  Class\n",
       "0     are in the and myself i know now that i cannot...  Doyle\n",
       "1     evening and the wild chase down the she listen...  Doyle\n",
       "2     and was silent for a few moments a it was he s...  Doyle\n",
       "3     that they get five pounds if they can give yes...  Doyle\n",
       "4     than later come now no lies what were you doin...  Doyle\n",
       "...                                                 ...    ...\n",
       "4890  protection tanner its all right then not going...   Shaw\n",
       "4891  he stops and looks at them as if they had appe...   Shaw\n",
       "4892  look shocked you know better than any of us th...   Shaw\n",
       "4893  of course you are you are never ill so glad to...   Shaw\n",
       "4894  from the were like her mother stuff sir he fol...   Shaw\n",
       "\n",
       "[4895 rows x 2 columns]"
      ]
     },
     "execution_count": 442,
     "metadata": {},
     "output_type": "execute_result"
    }
   ],
   "source": [
    "df_train"
   ]
  },
  {
   "cell_type": "markdown",
   "metadata": {},
   "source": [
    "# Training"
   ]
  },
  {
   "cell_type": "code",
   "execution_count": 443,
   "metadata": {},
   "outputs": [],
   "source": [
    "count_vectorizer = CountVectorizer(binary=True, min_df=0.001, max_df=0.4)\n",
    "term_matrix = count_vectorizer.fit_transform(df_train['Group'])"
   ]
  },
  {
   "cell_type": "code",
   "execution_count": 444,
   "metadata": {},
   "outputs": [],
   "source": [
    "transformer = TfidfTransformer().fit(term_matrix)\n",
    "term_matrix_idf = transformer.transform(term_matrix)"
   ]
  },
  {
   "cell_type": "code",
   "execution_count": 445,
   "metadata": {
    "scrolled": true
   },
   "outputs": [
    {
     "name": "stdout",
     "output_type": "stream",
     "text": [
      "['aback', 'abandoned', 'able', 'about', 'above', 'absence', 'absolutely', 'absurd', 'accept', 'accident']\n"
     ]
    }
   ],
   "source": [
    "feature_names = count_vectorizer.get_feature_names()\n",
    "print(feature_names[:10])"
   ]
  },
  {
   "cell_type": "code",
   "execution_count": 446,
   "metadata": {},
   "outputs": [
    {
     "data": {
      "text/plain": [
       "2272"
      ]
     },
     "execution_count": 446,
     "metadata": {},
     "output_type": "execute_result"
    }
   ],
   "source": [
    "len(feature_names)"
   ]
  },
  {
   "cell_type": "code",
   "execution_count": 447,
   "metadata": {},
   "outputs": [
    {
     "data": {
      "text/plain": [
       "0.9252298263534219"
      ]
     },
     "execution_count": 447,
     "metadata": {},
     "output_type": "execute_result"
    }
   ],
   "source": [
    "clf = MultinomialNB()\n",
    "clf.fit(term_matrix_idf, df_train['Class'])\n",
    "clf.score(term_matrix_idf, df_train['Class'])"
   ]
  },
  {
   "cell_type": "markdown",
   "metadata": {},
   "source": [
    "# Testing"
   ]
  },
  {
   "cell_type": "code",
   "execution_count": 448,
   "metadata": {},
   "outputs": [],
   "source": [
    "df_test_shuffle = shuffle(df_test)"
   ]
  },
  {
   "cell_type": "code",
   "execution_count": 449,
   "metadata": {},
   "outputs": [
    {
     "data": {
      "text/html": [
       "<div>\n",
       "<style scoped>\n",
       "    .dataframe tbody tr th:only-of-type {\n",
       "        vertical-align: middle;\n",
       "    }\n",
       "\n",
       "    .dataframe tbody tr th {\n",
       "        vertical-align: top;\n",
       "    }\n",
       "\n",
       "    .dataframe thead th {\n",
       "        text-align: right;\n",
       "    }\n",
       "</style>\n",
       "<table border=\"1\" class=\"dataframe\">\n",
       "  <thead>\n",
       "    <tr style=\"text-align: right;\">\n",
       "      <th></th>\n",
       "      <th>Group</th>\n",
       "      <th>Class</th>\n",
       "    </tr>\n",
       "  </thead>\n",
       "  <tbody>\n",
       "    <tr>\n",
       "      <td>476</td>\n",
       "      <td>have important and you must not walk off we sh...</td>\n",
       "      <td>Doyle</td>\n",
       "    </tr>\n",
       "    <tr>\n",
       "      <td>1020</td>\n",
       "      <td>call it if you i am an able man a strong man i...</td>\n",
       "      <td>Shaw</td>\n",
       "    </tr>\n",
       "    <tr>\n",
       "      <td>193</td>\n",
       "      <td>of which away until it into the slopes of the ...</td>\n",
       "      <td>Doyle</td>\n",
       "    </tr>\n",
       "    <tr>\n",
       "      <td>60</td>\n",
       "      <td>written in a hand he had suffered for years fr...</td>\n",
       "      <td>Doyle</td>\n",
       "    </tr>\n",
       "    <tr>\n",
       "      <td>1081</td>\n",
       "      <td>climate one who would dress thus for the middl...</td>\n",
       "      <td>Shaw</td>\n",
       "    </tr>\n",
       "    <tr>\n",
       "      <td>...</td>\n",
       "      <td>...</td>\n",
       "      <td>...</td>\n",
       "    </tr>\n",
       "    <tr>\n",
       "      <td>1215</td>\n",
       "      <td>putting down his papers a remarkable looking y...</td>\n",
       "      <td>Shaw</td>\n",
       "    </tr>\n",
       "    <tr>\n",
       "      <td>352</td>\n",
       "      <td>bank the cloud was within fifty yards of where...</td>\n",
       "      <td>Doyle</td>\n",
       "    </tr>\n",
       "    <tr>\n",
       "      <td>574</td>\n",
       "      <td>the of loud were audible from and the hall doo...</td>\n",
       "      <td>Doyle</td>\n",
       "    </tr>\n",
       "    <tr>\n",
       "      <td>268</td>\n",
       "      <td>the long series of his i as i walked back alon...</td>\n",
       "      <td>Doyle</td>\n",
       "    </tr>\n",
       "    <tr>\n",
       "      <td>199</td>\n",
       "      <td>boots or of the hotel was well to help him in ...</td>\n",
       "      <td>Doyle</td>\n",
       "    </tr>\n",
       "  </tbody>\n",
       "</table>\n",
       "<p>1225 rows × 2 columns</p>\n",
       "</div>"
      ],
      "text/plain": [
       "                                                  Group  Class\n",
       "476   have important and you must not walk off we sh...  Doyle\n",
       "1020  call it if you i am an able man a strong man i...   Shaw\n",
       "193   of which away until it into the slopes of the ...  Doyle\n",
       "60    written in a hand he had suffered for years fr...  Doyle\n",
       "1081  climate one who would dress thus for the middl...   Shaw\n",
       "...                                                 ...    ...\n",
       "1215  putting down his papers a remarkable looking y...   Shaw\n",
       "352   bank the cloud was within fifty yards of where...  Doyle\n",
       "574   the of loud were audible from and the hall doo...  Doyle\n",
       "268   the long series of his i as i walked back alon...  Doyle\n",
       "199   boots or of the hotel was well to help him in ...  Doyle\n",
       "\n",
       "[1225 rows x 2 columns]"
      ]
     },
     "execution_count": 449,
     "metadata": {},
     "output_type": "execute_result"
    }
   ],
   "source": [
    "df_test_shuffle"
   ]
  },
  {
   "cell_type": "code",
   "execution_count": 450,
   "metadata": {},
   "outputs": [],
   "source": [
    "term_matrix_test = count_vectorizer.transform(df_test_shuffle['Group'])"
   ]
  },
  {
   "cell_type": "code",
   "execution_count": 451,
   "metadata": {},
   "outputs": [
    {
     "data": {
      "text/plain": [
       "0.9126530612244897"
      ]
     },
     "execution_count": 451,
     "metadata": {},
     "output_type": "execute_result"
    }
   ],
   "source": [
    "clf.score(term_matrix_test, df_test_shuffle['Class'])"
   ]
  },
  {
   "cell_type": "code",
   "execution_count": 452,
   "metadata": {},
   "outputs": [],
   "source": [
    "clftest=clf.predict(term_matrix_test)"
   ]
  },
  {
   "cell_type": "code",
   "execution_count": 453,
   "metadata": {},
   "outputs": [
    {
     "data": {
      "text/plain": [
       "1225"
      ]
     },
     "execution_count": 453,
     "metadata": {},
     "output_type": "execute_result"
    }
   ],
   "source": [
    "len(df_test_shuffle)"
   ]
  },
  {
   "cell_type": "code",
   "execution_count": 454,
   "metadata": {},
   "outputs": [],
   "source": [
    "clftest[0:20]\n",
    "clftest = clftest.tolist()"
   ]
  },
  {
   "cell_type": "code",
   "execution_count": 455,
   "metadata": {},
   "outputs": [
    {
     "data": {
      "text/plain": [
       "1225"
      ]
     },
     "execution_count": 455,
     "metadata": {},
     "output_type": "execute_result"
    }
   ],
   "source": [
    "len(clftest)"
   ]
  },
  {
   "cell_type": "code",
   "execution_count": 456,
   "metadata": {},
   "outputs": [
    {
     "name": "stderr",
     "output_type": "stream",
     "text": [
      "C:\\Users\\filip\\Anaconda3\\lib\\site-packages\\ipykernel_launcher.py:1: SettingWithCopyWarning: \n",
      "A value is trying to be set on a copy of a slice from a DataFrame.\n",
      "Try using .loc[row_indexer,col_indexer] = value instead\n",
      "\n",
      "See the caveats in the documentation: http://pandas.pydata.org/pandas-docs/stable/user_guide/indexing.html#returning-a-view-versus-a-copy\n",
      "  \"\"\"Entry point for launching an IPython kernel.\n"
     ]
    }
   ],
   "source": [
    "df_test_shuffle['Predict'] = clftest"
   ]
  },
  {
   "cell_type": "code",
   "execution_count": 457,
   "metadata": {},
   "outputs": [
    {
     "data": {
      "text/html": [
       "<div>\n",
       "<style scoped>\n",
       "    .dataframe tbody tr th:only-of-type {\n",
       "        vertical-align: middle;\n",
       "    }\n",
       "\n",
       "    .dataframe tbody tr th {\n",
       "        vertical-align: top;\n",
       "    }\n",
       "\n",
       "    .dataframe thead th {\n",
       "        text-align: right;\n",
       "    }\n",
       "</style>\n",
       "<table border=\"1\" class=\"dataframe\">\n",
       "  <thead>\n",
       "    <tr style=\"text-align: right;\">\n",
       "      <th></th>\n",
       "      <th>Group</th>\n",
       "      <th>Class</th>\n",
       "      <th>Predict</th>\n",
       "    </tr>\n",
       "  </thead>\n",
       "  <tbody>\n",
       "    <tr>\n",
       "      <td>476</td>\n",
       "      <td>have important and you must not walk off we sh...</td>\n",
       "      <td>Doyle</td>\n",
       "      <td>Doyle</td>\n",
       "    </tr>\n",
       "    <tr>\n",
       "      <td>1020</td>\n",
       "      <td>call it if you i am an able man a strong man i...</td>\n",
       "      <td>Shaw</td>\n",
       "      <td>Shaw</td>\n",
       "    </tr>\n",
       "    <tr>\n",
       "      <td>193</td>\n",
       "      <td>of which away until it into the slopes of the ...</td>\n",
       "      <td>Doyle</td>\n",
       "      <td>Doyle</td>\n",
       "    </tr>\n",
       "    <tr>\n",
       "      <td>60</td>\n",
       "      <td>written in a hand he had suffered for years fr...</td>\n",
       "      <td>Doyle</td>\n",
       "      <td>Doyle</td>\n",
       "    </tr>\n",
       "    <tr>\n",
       "      <td>1081</td>\n",
       "      <td>climate one who would dress thus for the middl...</td>\n",
       "      <td>Shaw</td>\n",
       "      <td>Shaw</td>\n",
       "    </tr>\n",
       "    <tr>\n",
       "      <td>88</td>\n",
       "      <td>plain to the north here with the queer hills b...</td>\n",
       "      <td>Doyle</td>\n",
       "      <td>Doyle</td>\n",
       "    </tr>\n",
       "    <tr>\n",
       "      <td>356</td>\n",
       "      <td>important and tell you more about the and espe...</td>\n",
       "      <td>Doyle</td>\n",
       "      <td>Doyle</td>\n",
       "    </tr>\n",
       "    <tr>\n",
       "      <td>839</td>\n",
       "      <td>of than that in which his has landed him on th...</td>\n",
       "      <td>Shaw</td>\n",
       "      <td>Doyle</td>\n",
       "    </tr>\n",
       "    <tr>\n",
       "      <td>1121</td>\n",
       "      <td>men than me will call for my dust and touch me...</td>\n",
       "      <td>Shaw</td>\n",
       "      <td>Shaw</td>\n",
       "    </tr>\n",
       "    <tr>\n",
       "      <td>677</td>\n",
       "      <td>coffee to the table well the run away with you...</td>\n",
       "      <td>Shaw</td>\n",
       "      <td>Shaw</td>\n",
       "    </tr>\n",
       "  </tbody>\n",
       "</table>\n",
       "</div>"
      ],
      "text/plain": [
       "                                                  Group  Class Predict\n",
       "476   have important and you must not walk off we sh...  Doyle   Doyle\n",
       "1020  call it if you i am an able man a strong man i...   Shaw    Shaw\n",
       "193   of which away until it into the slopes of the ...  Doyle   Doyle\n",
       "60    written in a hand he had suffered for years fr...  Doyle   Doyle\n",
       "1081  climate one who would dress thus for the middl...   Shaw    Shaw\n",
       "88    plain to the north here with the queer hills b...  Doyle   Doyle\n",
       "356   important and tell you more about the and espe...  Doyle   Doyle\n",
       "839   of than that in which his has landed him on th...   Shaw   Doyle\n",
       "1121  men than me will call for my dust and touch me...   Shaw    Shaw\n",
       "677   coffee to the table well the run away with you...   Shaw    Shaw"
      ]
     },
     "execution_count": 457,
     "metadata": {},
     "output_type": "execute_result"
    }
   ],
   "source": [
    "df_test_shuffle[0:10]"
   ]
  },
  {
   "cell_type": "code",
   "execution_count": 458,
   "metadata": {},
   "outputs": [],
   "source": [
    "i = 0\n",
    "count = 0\n",
    "for pred in df_test_shuffle['Class']:\n",
    "    if pred == clftest[i]:\n",
    "        count = count + 1\n",
    "    i = i + 1"
   ]
  },
  {
   "cell_type": "code",
   "execution_count": 459,
   "metadata": {},
   "outputs": [
    {
     "data": {
      "text/plain": [
       "1118"
      ]
     },
     "execution_count": 459,
     "metadata": {},
     "output_type": "execute_result"
    }
   ],
   "source": [
    "count"
   ]
  },
  {
   "cell_type": "code",
   "execution_count": 460,
   "metadata": {},
   "outputs": [
    {
     "data": {
      "text/plain": [
       "1225"
      ]
     },
     "execution_count": 460,
     "metadata": {},
     "output_type": "execute_result"
    }
   ],
   "source": [
    "len(df_test_shuffle)"
   ]
  },
  {
   "cell_type": "code",
   "execution_count": 461,
   "metadata": {},
   "outputs": [
    {
     "data": {
      "text/plain": [
       "91.26530612244898"
      ]
     },
     "execution_count": 461,
     "metadata": {},
     "output_type": "execute_result"
    }
   ],
   "source": [
    "count/len(df_test_shuffle)*100"
   ]
  },
  {
   "cell_type": "markdown",
   "metadata": {},
   "source": [
    "# Stopwords influence"
   ]
  },
  {
   "cell_type": "code",
   "execution_count": 467,
   "metadata": {},
   "outputs": [
    {
     "name": "stderr",
     "output_type": "stream",
     "text": [
      "[nltk_data] Downloading package stopwords to\n",
      "[nltk_data]     C:\\Users\\filip\\AppData\\Roaming\\nltk_data...\n",
      "[nltk_data]   Package stopwords is already up-to-date!\n"
     ]
    },
    {
     "name": "stdout",
     "output_type": "stream",
     "text": [
      "['able', 'absurd', 'accept', 'according', 'account', 'acquaintance', 'across', 'act', 'action', 'active']\n"
     ]
    }
   ],
   "source": [
    "nltk.download('stopwords')\n",
    "\n",
    "count_vectorizer_stop = CountVectorizer(binary=True, min_df=0.002, max_df=0.4, stop_words=stopwords.words('english'))\n",
    "term_matrix_stop = count_vectorizer_stop.fit_transform(df_train['Group'])\n",
    "feature_names_stop = count_vectorizer_stop.get_feature_names()\n",
    "print(feature_names_stop[:10])"
   ]
  },
  {
   "cell_type": "code",
   "execution_count": 468,
   "metadata": {},
   "outputs": [],
   "source": [
    "transformer_stop = TfidfTransformer().fit(term_matrix_stop)\n",
    "term_matrix_stop_idf = transformer_stop.transform(term_matrix_stop)"
   ]
  },
  {
   "cell_type": "code",
   "execution_count": 469,
   "metadata": {},
   "outputs": [
    {
     "data": {
      "text/plain": [
       "0.898467824310521"
      ]
     },
     "execution_count": 469,
     "metadata": {},
     "output_type": "execute_result"
    }
   ],
   "source": [
    "clf_stop = MultinomialNB()\n",
    "clf_stop.fit(term_matrix_stop_idf, df_train['Class'])\n",
    "clf_stop.score(term_matrix_stop_idf, df_train['Class'])"
   ]
  },
  {
   "cell_type": "code",
   "execution_count": 470,
   "metadata": {},
   "outputs": [
    {
     "data": {
      "text/plain": [
       "0.8889795918367347"
      ]
     },
     "execution_count": 470,
     "metadata": {},
     "output_type": "execute_result"
    }
   ],
   "source": [
    "term_matrix_stop = count_vectorizer_stop.transform(df_test_shuffle['Group'])\n",
    "clf_stop.score(term_matrix_stop, df_test_shuffle['Class'])"
   ]
  },
  {
   "cell_type": "markdown",
   "metadata": {},
   "source": [
    "# Ngrams model influence"
   ]
  },
  {
   "cell_type": "code",
   "execution_count": 471,
   "metadata": {},
   "outputs": [
    {
     "name": "stdout",
     "output_type": "stream",
     "text": [
      "['aback', 'abandoned', 'able', 'able to', 'about', 'about and', 'about her', 'about him', 'about his', 'about in']\n"
     ]
    }
   ],
   "source": [
    "count_vectorizer_ngram = CountVectorizer(binary=True, min_df=0.001, max_df=0.3, ngram_range=(1, 2))\n",
    "term_matrix_ngram = count_vectorizer_ngram.fit_transform(df_train['Group'])\n",
    "feature_names_ngram = count_vectorizer_ngram.get_feature_names()\n",
    "print(feature_names_ngram[:10])"
   ]
  },
  {
   "cell_type": "code",
   "execution_count": 472,
   "metadata": {},
   "outputs": [
    {
     "data": {
      "text/plain": [
       "6465"
      ]
     },
     "execution_count": 472,
     "metadata": {},
     "output_type": "execute_result"
    }
   ],
   "source": [
    "len(feature_names_ngram)"
   ]
  },
  {
   "cell_type": "code",
   "execution_count": 473,
   "metadata": {},
   "outputs": [],
   "source": [
    "transformer_ngram = TfidfTransformer().fit(term_matrix_ngram)\n",
    "term_matrix_ngram_idf = transformer_ngram.transform(term_matrix_ngram)"
   ]
  },
  {
   "cell_type": "code",
   "execution_count": 474,
   "metadata": {},
   "outputs": [
    {
     "data": {
      "text/plain": [
       "0.9468845760980592"
      ]
     },
     "execution_count": 474,
     "metadata": {},
     "output_type": "execute_result"
    }
   ],
   "source": [
    "clf_ngram = MultinomialNB()\n",
    "clf_ngram.fit(term_matrix_ngram_idf, df_train['Class'])\n",
    "clf_ngram.score(term_matrix_ngram_idf, df_train['Class'])"
   ]
  },
  {
   "cell_type": "code",
   "execution_count": 475,
   "metadata": {},
   "outputs": [
    {
     "data": {
      "text/plain": [
       "0.913469387755102"
      ]
     },
     "execution_count": 475,
     "metadata": {},
     "output_type": "execute_result"
    }
   ],
   "source": [
    "term_matrix_ngram = count_vectorizer_ngram.transform(df_test_shuffle['Group'])\n",
    "clf_ngram.score(term_matrix_ngram, df_test_shuffle['Class'])"
   ]
  },
  {
   "cell_type": "code",
   "execution_count": 476,
   "metadata": {},
   "outputs": [
    {
     "name": "stdout",
     "output_type": "stream",
     "text": [
      "[[573  43]\n",
      " [ 63 546]]\n"
     ]
    }
   ],
   "source": [
    "df_test_shuffle_arr = df_test_shuffle['Class'].to_list()\n",
    "predict_ngram = clf_ngram.predict(term_matrix_ngram)\n",
    "print(confusion_matrix(df_test_shuffle_arr, predict_ngram))"
   ]
  },
  {
   "cell_type": "code",
   "execution_count": 477,
   "metadata": {},
   "outputs": [
    {
     "data": {
      "text/plain": [
       "0.9253246753246753"
      ]
     },
     "execution_count": 477,
     "metadata": {},
     "output_type": "execute_result"
    }
   ],
   "source": [
    "precision_ngram = 570/(570+46)\n",
    "precision_ngram"
   ]
  },
  {
   "cell_type": "code",
   "execution_count": 478,
   "metadata": {},
   "outputs": [
    {
     "data": {
      "text/plain": [
       "0.8948194662480377"
      ]
     },
     "execution_count": 478,
     "metadata": {},
     "output_type": "execute_result"
    }
   ],
   "source": [
    "recall_ngram = 570/(570+67)\n",
    "recall_ngram"
   ]
  },
  {
   "cell_type": "code",
   "execution_count": 501,
   "metadata": {},
   "outputs": [
    {
     "data": {
      "text/plain": [
       "0.9098164405426975"
      ]
     },
     "execution_count": 501,
     "metadata": {},
     "output_type": "execute_result"
    }
   ],
   "source": [
    "f1_ngram = 2*precision_ngram*recall_ngram/(precision_ngram+recall_ngram)\n",
    "f1_ngram"
   ]
  },
  {
   "cell_type": "markdown",
   "metadata": {},
   "source": [
    "# New books test + summary"
   ]
  },
  {
   "cell_type": "code",
   "execution_count": 480,
   "metadata": {},
   "outputs": [
    {
     "data": {
      "text/plain": [
       "111785"
      ]
     },
     "execution_count": 480,
     "metadata": {},
     "output_type": "execute_result"
    }
   ],
   "source": [
    "book_doyle_test = open(path+'/adventures_edited.txt', \"r\", encoding=\"utf-8\")\n",
    "doyle_test = book_doyle_test.read()\n",
    "doyle_test = doyle_test.lower()\n",
    "doyle_test = doyle_test.translate(str.maketrans('', '', string.punctuation))\n",
    "\n",
    "doyle_test = word_tokenize(doyle_test)\n",
    "len(doyle_test)"
   ]
  },
  {
   "cell_type": "code",
   "execution_count": 481,
   "metadata": {},
   "outputs": [
    {
     "data": {
      "text/plain": [
       "32623"
      ]
     },
     "execution_count": 481,
     "metadata": {},
     "output_type": "execute_result"
    }
   ],
   "source": [
    "book_shaw_test = open(path2+'/major_edited.txt', \"r\", encoding=\"utf-8\")\n",
    "shaw_test = book_shaw_test.read()\n",
    "shaw_test = shaw_test.lower()\n",
    "shaw_test = shaw_test.translate(str.maketrans('', '', string.punctuation))\n",
    "\n",
    "shaw_test = word_tokenize(shaw_test)\n",
    "len(shaw_test)"
   ]
  },
  {
   "cell_type": "code",
   "execution_count": 482,
   "metadata": {},
   "outputs": [
    {
     "data": {
      "text/html": [
       "<div>\n",
       "<style scoped>\n",
       "    .dataframe tbody tr th:only-of-type {\n",
       "        vertical-align: middle;\n",
       "    }\n",
       "\n",
       "    .dataframe tbody tr th {\n",
       "        vertical-align: top;\n",
       "    }\n",
       "\n",
       "    .dataframe thead th {\n",
       "        text-align: right;\n",
       "    }\n",
       "</style>\n",
       "<table border=\"1\" class=\"dataframe\">\n",
       "  <thead>\n",
       "    <tr style=\"text-align: right;\">\n",
       "      <th></th>\n",
       "      <th>Group</th>\n",
       "      <th>Class</th>\n",
       "    </tr>\n",
       "  </thead>\n",
       "  <tbody>\n",
       "    <tr>\n",
       "      <td>0</td>\n",
       "      <td>﻿to sherlock holmes she is always the woman i ...</td>\n",
       "      <td>Doyle</td>\n",
       "    </tr>\n",
       "    <tr>\n",
       "      <td>1</td>\n",
       "      <td>sex it was not that he felt any emotion akin t...</td>\n",
       "      <td>Doyle</td>\n",
       "    </tr>\n",
       "    <tr>\n",
       "      <td>2</td>\n",
       "      <td>mind he was i take it the most perfect reasoni...</td>\n",
       "      <td>Doyle</td>\n",
       "    </tr>\n",
       "    <tr>\n",
       "      <td>3</td>\n",
       "      <td>position he never spoke of the softer passions...</td>\n",
       "      <td>Doyle</td>\n",
       "    </tr>\n",
       "    <tr>\n",
       "      <td>4</td>\n",
       "      <td>motives and actions but for the trained reason...</td>\n",
       "      <td>Doyle</td>\n",
       "    </tr>\n",
       "    <tr>\n",
       "      <td>...</td>\n",
       "      <td>...</td>\n",
       "      <td>...</td>\n",
       "    </tr>\n",
       "    <tr>\n",
       "      <td>3722</td>\n",
       "      <td>broken man kept alive solely through the care ...</td>\n",
       "      <td>Doyle</td>\n",
       "    </tr>\n",
       "    <tr>\n",
       "      <td>3723</td>\n",
       "      <td>that he finds it difficult to part from them m...</td>\n",
       "      <td>Doyle</td>\n",
       "    </tr>\n",
       "    <tr>\n",
       "      <td>3724</td>\n",
       "      <td>the holder of a government appointment in the ...</td>\n",
       "      <td>Doyle</td>\n",
       "    </tr>\n",
       "    <tr>\n",
       "      <td>3725</td>\n",
       "      <td>once she had ceased to be the centre of one of...</td>\n",
       "      <td>Doyle</td>\n",
       "    </tr>\n",
       "    <tr>\n",
       "      <td>3726</td>\n",
       "      <td>has met with considerable success</td>\n",
       "      <td>Doyle</td>\n",
       "    </tr>\n",
       "  </tbody>\n",
       "</table>\n",
       "<p>3727 rows × 2 columns</p>\n",
       "</div>"
      ],
      "text/plain": [
       "                                                  Group  Class\n",
       "0     ﻿to sherlock holmes she is always the woman i ...  Doyle\n",
       "1     sex it was not that he felt any emotion akin t...  Doyle\n",
       "2     mind he was i take it the most perfect reasoni...  Doyle\n",
       "3     position he never spoke of the softer passions...  Doyle\n",
       "4     motives and actions but for the trained reason...  Doyle\n",
       "...                                                 ...    ...\n",
       "3722  broken man kept alive solely through the care ...  Doyle\n",
       "3723  that he finds it difficult to part from them m...  Doyle\n",
       "3724  the holder of a government appointment in the ...  Doyle\n",
       "3725  once she had ceased to be the centre of one of...  Doyle\n",
       "3726                  has met with considerable success  Doyle\n",
       "\n",
       "[3727 rows x 2 columns]"
      ]
     },
     "execution_count": 482,
     "metadata": {},
     "output_type": "execute_result"
    }
   ],
   "source": [
    "groups_doyle_test = [doyle_test[i:i+n] for i in range(0, len(doyle_test), n)]\n",
    "groups_doyle_test_detoken = [TreebankWordDetokenizer().detokenize(groups_doyle_test[i]) for i in range(0, len(groups_doyle_test))]\n",
    "df_doyle_test = pd.DataFrame(groups_doyle_test_detoken)\n",
    "df_doyle_test['Class'] = \"Doyle\"\n",
    "df_doyle_test.rename(columns={0:'Group'},inplace=True)\n",
    "df_doyle_test"
   ]
  },
  {
   "cell_type": "code",
   "execution_count": 483,
   "metadata": {},
   "outputs": [
    {
     "data": {
      "text/html": [
       "<div>\n",
       "<style scoped>\n",
       "    .dataframe tbody tr th:only-of-type {\n",
       "        vertical-align: middle;\n",
       "    }\n",
       "\n",
       "    .dataframe tbody tr th {\n",
       "        vertical-align: top;\n",
       "    }\n",
       "\n",
       "    .dataframe thead th {\n",
       "        text-align: right;\n",
       "    }\n",
       "</style>\n",
       "<table border=\"1\" class=\"dataframe\">\n",
       "  <thead>\n",
       "    <tr style=\"text-align: right;\">\n",
       "      <th></th>\n",
       "      <th>Group</th>\n",
       "      <th>Class</th>\n",
       "    </tr>\n",
       "  </thead>\n",
       "  <tbody>\n",
       "    <tr>\n",
       "      <td>0</td>\n",
       "      <td>﻿it is after dinner on a january night in the ...</td>\n",
       "      <td>Shaw</td>\n",
       "    </tr>\n",
       "    <tr>\n",
       "      <td>1</td>\n",
       "      <td>room upholstered in dark leather a person sitt...</td>\n",
       "      <td>Shaw</td>\n",
       "    </tr>\n",
       "    <tr>\n",
       "      <td>2</td>\n",
       "      <td>it a smaller writing table behind him on his l...</td>\n",
       "      <td>Shaw</td>\n",
       "    </tr>\n",
       "    <tr>\n",
       "      <td>3</td>\n",
       "      <td>the window is an armchair lady britomart is a ...</td>\n",
       "      <td>Shaw</td>\n",
       "    </tr>\n",
       "    <tr>\n",
       "      <td>4</td>\n",
       "      <td>well mannered and yet appallingly outspoken an...</td>\n",
       "      <td>Shaw</td>\n",
       "    </tr>\n",
       "    <tr>\n",
       "      <td>...</td>\n",
       "      <td>...</td>\n",
       "      <td>...</td>\n",
       "    </tr>\n",
       "    <tr>\n",
       "      <td>1083</td>\n",
       "      <td>lady britomart coming from the shed and stoppi...</td>\n",
       "      <td>Shaw</td>\n",
       "    </tr>\n",
       "    <tr>\n",
       "      <td>1084</td>\n",
       "      <td>learn to be independent and to act and think f...</td>\n",
       "      <td>Shaw</td>\n",
       "    </tr>\n",
       "    <tr>\n",
       "      <td>1085</td>\n",
       "      <td>lady britomarts ribs with her finger tips and ...</td>\n",
       "      <td>Shaw</td>\n",
       "    </tr>\n",
       "    <tr>\n",
       "      <td>1086</td>\n",
       "      <td>very naughty children what do you want barbara...</td>\n",
       "      <td>Shaw</td>\n",
       "    </tr>\n",
       "    <tr>\n",
       "      <td>1087</td>\n",
       "      <td>one to take undershaft to cusins six oclock to...</td>\n",
       "      <td>Shaw</td>\n",
       "    </tr>\n",
       "  </tbody>\n",
       "</table>\n",
       "<p>1088 rows × 2 columns</p>\n",
       "</div>"
      ],
      "text/plain": [
       "                                                  Group Class\n",
       "0     ﻿it is after dinner on a january night in the ...  Shaw\n",
       "1     room upholstered in dark leather a person sitt...  Shaw\n",
       "2     it a smaller writing table behind him on his l...  Shaw\n",
       "3     the window is an armchair lady britomart is a ...  Shaw\n",
       "4     well mannered and yet appallingly outspoken an...  Shaw\n",
       "...                                                 ...   ...\n",
       "1083  lady britomart coming from the shed and stoppi...  Shaw\n",
       "1084  learn to be independent and to act and think f...  Shaw\n",
       "1085  lady britomarts ribs with her finger tips and ...  Shaw\n",
       "1086  very naughty children what do you want barbara...  Shaw\n",
       "1087  one to take undershaft to cusins six oclock to...  Shaw\n",
       "\n",
       "[1088 rows x 2 columns]"
      ]
     },
     "execution_count": 483,
     "metadata": {},
     "output_type": "execute_result"
    }
   ],
   "source": [
    "groups_shaw_test = [shaw_test[i:i+n] for i in range(0, len(shaw_test), n)]\n",
    "groups_shaw_test_detoken = [TreebankWordDetokenizer().detokenize(groups_shaw_test[i]) for i in range(0, len(groups_shaw_test))]\n",
    "df_shaw_test = pd.DataFrame(groups_shaw_test_detoken)\n",
    "df_shaw_test['Class'] = \"Shaw\"\n",
    "df_shaw_test.rename(columns={0:'Group'},inplace=True)\n",
    "df_shaw_test"
   ]
  },
  {
   "cell_type": "code",
   "execution_count": 484,
   "metadata": {},
   "outputs": [
    {
     "data": {
      "text/plain": [
       "0.8408907968875772"
      ]
     },
     "execution_count": 484,
     "metadata": {},
     "output_type": "execute_result"
    }
   ],
   "source": [
    "term_matrix_test_doyle = count_vectorizer.transform(df_doyle_test['Group']) #basic test\n",
    "clf.score(term_matrix_test_doyle, df_doyle_test['Class'])"
   ]
  },
  {
   "cell_type": "code",
   "execution_count": 485,
   "metadata": {},
   "outputs": [
    {
     "data": {
      "text/plain": [
       "0.8621323529411765"
      ]
     },
     "execution_count": 485,
     "metadata": {},
     "output_type": "execute_result"
    }
   ],
   "source": [
    "term_matrix_test_shaw = count_vectorizer.transform(df_shaw_test['Group']) #basic test\n",
    "clf.score(term_matrix_test_shaw, df_shaw_test['Class'])"
   ]
  },
  {
   "cell_type": "code",
   "execution_count": 486,
   "metadata": {},
   "outputs": [
    {
     "data": {
      "text/plain": [
       "0.7880332707271264"
      ]
     },
     "execution_count": 486,
     "metadata": {},
     "output_type": "execute_result"
    }
   ],
   "source": [
    "term_matrix_test_doyle = count_vectorizer_stop.transform(df_doyle_test['Group']) #stop test\n",
    "clf_stop.score(term_matrix_test_doyle, df_doyle_test['Class'])"
   ]
  },
  {
   "cell_type": "code",
   "execution_count": 487,
   "metadata": {},
   "outputs": [
    {
     "data": {
      "text/plain": [
       "0.8382352941176471"
      ]
     },
     "execution_count": 487,
     "metadata": {},
     "output_type": "execute_result"
    }
   ],
   "source": [
    "term_matrix_test_shaw = count_vectorizer_stop.transform(df_shaw_test['Group']) #stop test\n",
    "clf_stop.score(term_matrix_test_shaw, df_shaw_test['Class'])"
   ]
  },
  {
   "cell_type": "code",
   "execution_count": 488,
   "metadata": {},
   "outputs": [
    {
     "data": {
      "text/plain": [
       "0.8438422323584652"
      ]
     },
     "execution_count": 488,
     "metadata": {},
     "output_type": "execute_result"
    }
   ],
   "source": [
    "term_matrix_test_doyle = count_vectorizer_ngram.transform(df_doyle_test['Group']) #ngram test\n",
    "clf_ngram.score(term_matrix_test_doyle, df_doyle_test['Class'])"
   ]
  },
  {
   "cell_type": "code",
   "execution_count": 489,
   "metadata": {},
   "outputs": [
    {
     "data": {
      "text/plain": [
       "0.8676470588235294"
      ]
     },
     "execution_count": 489,
     "metadata": {},
     "output_type": "execute_result"
    }
   ],
   "source": [
    "term_matrix_test_shaw = count_vectorizer_ngram.transform(df_shaw_test['Group']) #ngram test\n",
    "clf_ngram.score(term_matrix_test_shaw, df_shaw_test['Class'])"
   ]
  },
  {
   "cell_type": "code",
   "execution_count": 490,
   "metadata": {},
   "outputs": [
    {
     "data": {
      "text/html": [
       "<div>\n",
       "<style scoped>\n",
       "    .dataframe tbody tr th:only-of-type {\n",
       "        vertical-align: middle;\n",
       "    }\n",
       "\n",
       "    .dataframe tbody tr th {\n",
       "        vertical-align: top;\n",
       "    }\n",
       "\n",
       "    .dataframe thead th {\n",
       "        text-align: right;\n",
       "    }\n",
       "</style>\n",
       "<table border=\"1\" class=\"dataframe\">\n",
       "  <thead>\n",
       "    <tr style=\"text-align: right;\">\n",
       "      <th></th>\n",
       "      <th>Group</th>\n",
       "      <th>Class</th>\n",
       "    </tr>\n",
       "  </thead>\n",
       "  <tbody>\n",
       "    <tr>\n",
       "      <td>0</td>\n",
       "      <td>﻿it is after dinner on a january night in the ...</td>\n",
       "      <td>Shaw</td>\n",
       "    </tr>\n",
       "    <tr>\n",
       "      <td>1</td>\n",
       "      <td>room upholstered in dark leather a person sitt...</td>\n",
       "      <td>Shaw</td>\n",
       "    </tr>\n",
       "    <tr>\n",
       "      <td>2</td>\n",
       "      <td>it a smaller writing table behind him on his l...</td>\n",
       "      <td>Shaw</td>\n",
       "    </tr>\n",
       "    <tr>\n",
       "      <td>3</td>\n",
       "      <td>the window is an armchair lady britomart is a ...</td>\n",
       "      <td>Shaw</td>\n",
       "    </tr>\n",
       "    <tr>\n",
       "      <td>4</td>\n",
       "      <td>well mannered and yet appallingly outspoken an...</td>\n",
       "      <td>Shaw</td>\n",
       "    </tr>\n",
       "    <tr>\n",
       "      <td>...</td>\n",
       "      <td>...</td>\n",
       "      <td>...</td>\n",
       "    </tr>\n",
       "    <tr>\n",
       "      <td>4810</td>\n",
       "      <td>broken man kept alive solely through the care ...</td>\n",
       "      <td>Doyle</td>\n",
       "    </tr>\n",
       "    <tr>\n",
       "      <td>4811</td>\n",
       "      <td>that he finds it difficult to part from them m...</td>\n",
       "      <td>Doyle</td>\n",
       "    </tr>\n",
       "    <tr>\n",
       "      <td>4812</td>\n",
       "      <td>the holder of a government appointment in the ...</td>\n",
       "      <td>Doyle</td>\n",
       "    </tr>\n",
       "    <tr>\n",
       "      <td>4813</td>\n",
       "      <td>once she had ceased to be the centre of one of...</td>\n",
       "      <td>Doyle</td>\n",
       "    </tr>\n",
       "    <tr>\n",
       "      <td>4814</td>\n",
       "      <td>has met with considerable success</td>\n",
       "      <td>Doyle</td>\n",
       "    </tr>\n",
       "  </tbody>\n",
       "</table>\n",
       "<p>4815 rows × 2 columns</p>\n",
       "</div>"
      ],
      "text/plain": [
       "                                                  Group  Class\n",
       "0     ﻿it is after dinner on a january night in the ...   Shaw\n",
       "1     room upholstered in dark leather a person sitt...   Shaw\n",
       "2     it a smaller writing table behind him on his l...   Shaw\n",
       "3     the window is an armchair lady britomart is a ...   Shaw\n",
       "4     well mannered and yet appallingly outspoken an...   Shaw\n",
       "...                                                 ...    ...\n",
       "4810  broken man kept alive solely through the care ...  Doyle\n",
       "4811  that he finds it difficult to part from them m...  Doyle\n",
       "4812  the holder of a government appointment in the ...  Doyle\n",
       "4813  once she had ceased to be the centre of one of...  Doyle\n",
       "4814                  has met with considerable success  Doyle\n",
       "\n",
       "[4815 rows x 2 columns]"
      ]
     },
     "execution_count": 490,
     "metadata": {},
     "output_type": "execute_result"
    }
   ],
   "source": [
    "df_new_books = pd.concat([df_shaw_test, df_doyle_test], join='outer', keys=None, ignore_index=True)\n",
    "df_new_books"
   ]
  },
  {
   "cell_type": "code",
   "execution_count": 491,
   "metadata": {},
   "outputs": [
    {
     "data": {
      "text/plain": [
       "0.8456905503634475"
      ]
     },
     "execution_count": 491,
     "metadata": {},
     "output_type": "execute_result"
    }
   ],
   "source": [
    "term_matrix_new_books = count_vectorizer.transform(df_new_books['Group']) #basic test zbiorczy\n",
    "clf.score(term_matrix_new_books, df_new_books['Class'])"
   ]
  },
  {
   "cell_type": "code",
   "execution_count": 492,
   "metadata": {},
   "outputs": [
    {
     "data": {
      "text/plain": [
       "0.7993769470404984"
      ]
     },
     "execution_count": 492,
     "metadata": {},
     "output_type": "execute_result"
    }
   ],
   "source": [
    "term_matrix_new_books = count_vectorizer_stop.transform(df_new_books['Group']) #stop test zbiorczy\n",
    "clf_stop.score(term_matrix_new_books, df_new_books['Class'])"
   ]
  },
  {
   "cell_type": "code",
   "execution_count": 514,
   "metadata": {},
   "outputs": [
    {
     "data": {
      "text/plain": [
       "0.8492211838006231"
      ]
     },
     "execution_count": 514,
     "metadata": {},
     "output_type": "execute_result"
    }
   ],
   "source": [
    "term_matrix_new_books = count_vectorizer_ngram.transform(df_new_books['Group']) #ngram test zbiorczy\n",
    "clf_ngram.score(term_matrix_new_books, df_new_books['Class'])"
   ]
  },
  {
   "cell_type": "code",
   "execution_count": 494,
   "metadata": {},
   "outputs": [],
   "source": [
    "df_new_books_arr = df_new_books['Class'].to_list()"
   ]
  },
  {
   "cell_type": "code",
   "execution_count": 495,
   "metadata": {
    "scrolled": true
   },
   "outputs": [
    {
     "data": {
      "text/plain": [
       "['Shaw',\n",
       " 'Shaw',\n",
       " 'Shaw',\n",
       " 'Shaw',\n",
       " 'Shaw',\n",
       " 'Shaw',\n",
       " 'Shaw',\n",
       " 'Shaw',\n",
       " 'Shaw',\n",
       " 'Shaw']"
      ]
     },
     "execution_count": 495,
     "metadata": {},
     "output_type": "execute_result"
    }
   ],
   "source": [
    "df_new_books_arr[:10]"
   ]
  },
  {
   "cell_type": "code",
   "execution_count": 496,
   "metadata": {},
   "outputs": [
    {
     "data": {
      "text/plain": [
       "[3132, 595, 945, 143]"
      ]
     },
     "execution_count": 496,
     "metadata": {},
     "output_type": "execute_result"
    }
   ],
   "source": [
    "#doyle -> positive\n",
    "#shaw -> negative\n",
    "tp = 0\n",
    "fp = 0\n",
    "tn = 0\n",
    "fn = 0\n",
    "for i in range(0, len(df_new_books_arr)):\n",
    "    if df_new_books_arr[i] == 'Doyle' and predict[i] == 'Doyle':\n",
    "        tp = tp + 1\n",
    "    if df_new_books_arr[i] == 'Doyle' and predict[i] == 'Shaw':\n",
    "        fp = fp + 1\n",
    "    if df_new_books_arr[i] == 'Shaw' and predict[i] == 'Shaw':\n",
    "        tn = tn + 1\n",
    "    if df_new_books_arr[i] == 'Shaw' and predict[i] == 'Doyle':\n",
    "        fn = fn + 1\n",
    "\n",
    "score = [tp, fp, tn, fn]\n",
    "score"
   ]
  },
  {
   "cell_type": "code",
   "execution_count": 497,
   "metadata": {},
   "outputs": [
    {
     "name": "stdout",
     "output_type": "stream",
     "text": [
      "[[3132  595]\n",
      " [ 143  945]]\n"
     ]
    }
   ],
   "source": [
    "print(confusion_matrix(df_new_books_arr, predict))"
   ]
  },
  {
   "cell_type": "code",
   "execution_count": 498,
   "metadata": {},
   "outputs": [
    {
     "data": {
      "text/plain": [
       "0.8403541722565065"
      ]
     },
     "execution_count": 498,
     "metadata": {},
     "output_type": "execute_result"
    }
   ],
   "source": [
    "precision = 3132/(3132+595)\n",
    "precision"
   ]
  },
  {
   "cell_type": "code",
   "execution_count": 499,
   "metadata": {},
   "outputs": [
    {
     "data": {
      "text/plain": [
       "0.9563358778625954"
      ]
     },
     "execution_count": 499,
     "metadata": {},
     "output_type": "execute_result"
    }
   ],
   "source": [
    "recall = 3132/(3132+143)\n",
    "recall"
   ]
  },
  {
   "cell_type": "code",
   "execution_count": 500,
   "metadata": {},
   "outputs": [
    {
     "data": {
      "text/plain": [
       "0.8946015424164523"
      ]
     },
     "execution_count": 500,
     "metadata": {},
     "output_type": "execute_result"
    }
   ],
   "source": [
    "f1 = precision*recall*2/(precision + recall)\n",
    "f1"
   ]
  },
  {
   "cell_type": "markdown",
   "metadata": {},
   "source": [
    "# Unique words of each author influence"
   ]
  },
  {
   "cell_type": "code",
   "execution_count": 519,
   "metadata": {},
   "outputs": [
    {
     "data": {
      "text/plain": [
       "0.9638512339242267"
      ]
     },
     "execution_count": 519,
     "metadata": {},
     "output_type": "execute_result"
    }
   ],
   "source": [
    "groups_doyle_nofilter = [words_doyle[i:i+n] for i in range(0, len(words_doyle), n)]\n",
    "groups_shaw_nofilter = [words_shaw[i:i+n] for i in range(0, len(words_shaw), n)]\n",
    "\n",
    "groups_doyle_detoken_nofilter = [TreebankWordDetokenizer().detokenize(groups_doyle_nofilter[i]) for i in range(0, len(groups_doyle_nofilter))]\n",
    "groups_shaw_detoken_nofilter = [TreebankWordDetokenizer().detokenize(groups_shaw_nofilter[i]) for i in range(0, len(groups_shaw_nofilter))]\n",
    "train_doyle_nofilter, test_doyle_nofilter = train_test_split(groups_doyle_detoken_nofilter, test_size=0.2)\n",
    "train_shaw_nofilter, test_shaw_nofilter = train_test_split(groups_shaw_detoken_nofilter, test_size=0.2)\n",
    "\n",
    "df_train_doyle_nofilter = pd.DataFrame(train_doyle_nofilter)\n",
    "df_train_doyle_nofilter['Class'] = \"Doyle\"\n",
    "df_train_doyle_nofilter.rename(columns={0:'Group'},inplace=True)\n",
    "\n",
    "df_train_shaw_nofilter = pd.DataFrame(train_shaw_nofilter)\n",
    "df_train_shaw_nofilter['Class'] = \"Shaw\"\n",
    "df_train_shaw_nofilter.rename(columns={0:'Group'},inplace=True)\n",
    "\n",
    "df_test_doyle_nofilter = pd.DataFrame(test_doyle_nofilter)\n",
    "df_test_doyle_nofilter['Class'] = \"Doyle\"\n",
    "df_test_doyle_nofilter.rename(columns={0:'Group'},inplace=True)\n",
    "\n",
    "df_test_shaw_nofilter = pd.DataFrame(test_shaw_nofilter)\n",
    "df_test_shaw_nofilter['Class'] = \"Shaw\"\n",
    "df_test_shaw_nofilter.rename(columns={0:'Group'},inplace=True)\n",
    "\n",
    "df_train_nofilter = pd.concat([df_train_doyle_nofilter, df_train_shaw_nofilter], join='outer', keys=None, ignore_index=True)\n",
    "df_test_nofilter = pd.concat([df_test_doyle_nofilter, df_test_shaw_nofilter], join='outer', keys=None, ignore_index=True)\n",
    "\n",
    "count_vectorizer_ngram_nofilter = CountVectorizer(binary=True, min_df=0.001, max_df=0.3, ngram_range=(1, 2))\n",
    "term_matrix_ngram_nofilter = count_vectorizer_ngram_nofilter.fit_transform(df_train_nofilter['Group'])\n",
    "feature_names_ngram_nofilter = count_vectorizer_ngram_nofilter.get_feature_names()\n",
    "\n",
    "transformer_ngram_nofilter = TfidfTransformer().fit(term_matrix_ngram_nofilter)\n",
    "term_matrix_ngram_idf_nofilter = transformer_ngram_nofilter.transform(term_matrix_ngram_nofilter)\n",
    "\n",
    "clf_ngram_nofilter = MultinomialNB()\n",
    "clf_ngram_nofilter.fit(term_matrix_ngram_idf_nofilter, df_train_nofilter['Class'])\n",
    "clf_ngram_nofilter.score(term_matrix_ngram_idf_nofilter, df_train_nofilter['Class'])"
   ]
  },
  {
   "cell_type": "code",
   "execution_count": 523,
   "metadata": {},
   "outputs": [
    {
     "data": {
      "text/plain": [
       "0.929795918367347"
      ]
     },
     "execution_count": 523,
     "metadata": {},
     "output_type": "execute_result"
    }
   ],
   "source": [
    "term_matrix_ngram_nofilter = count_vectorizer_ngram_nofilter.transform(df_test_shuffle['Group'])\n",
    "clf_ngram_nofilter.score(term_matrix_ngram_nofilter, df_test_shuffle['Class'])"
   ]
  },
  {
   "cell_type": "code",
   "execution_count": 521,
   "metadata": {},
   "outputs": [
    {
     "data": {
      "text/plain": [
       "0.894821572310169"
      ]
     },
     "execution_count": 521,
     "metadata": {},
     "output_type": "execute_result"
    }
   ],
   "source": [
    "term_matrix_test_doyle = count_vectorizer_ngram_nofilter.transform(df_doyle_test['Group']) #ngram test\n",
    "clf_ngram_nofilter.score(term_matrix_test_doyle, df_doyle_test['Class'])"
   ]
  },
  {
   "cell_type": "code",
   "execution_count": 522,
   "metadata": {},
   "outputs": [
    {
     "data": {
      "text/plain": [
       "0.859375"
      ]
     },
     "execution_count": 522,
     "metadata": {},
     "output_type": "execute_result"
    }
   ],
   "source": [
    "term_matrix_test_shaw = count_vectorizer_ngram_nofilter.transform(df_shaw_test['Group']) #ngram test\n",
    "clf_ngram_nofilter.score(term_matrix_test_shaw, df_shaw_test['Class'])"
   ]
  },
  {
   "cell_type": "code",
   "execution_count": 520,
   "metadata": {},
   "outputs": [
    {
     "data": {
      "text/plain": [
       "0.8868120456905504"
      ]
     },
     "execution_count": 520,
     "metadata": {},
     "output_type": "execute_result"
    }
   ],
   "source": [
    "term_matrix_new_books = count_vectorizer_ngram_nofilter.transform(df_new_books['Group']) #ngram test zbiorczy\n",
    "clf_ngram_nofilter.score(term_matrix_new_books, df_new_books['Class'])"
   ]
  }
 ],
 "metadata": {
  "kernelspec": {
   "display_name": "Python 3",
   "language": "python",
   "name": "python3"
  },
  "language_info": {
   "codemirror_mode": {
    "name": "ipython",
    "version": 3
   },
   "file_extension": ".py",
   "mimetype": "text/x-python",
   "name": "python",
   "nbconvert_exporter": "python",
   "pygments_lexer": "ipython3",
   "version": "3.7.4"
  }
 },
 "nbformat": 4,
 "nbformat_minor": 2
}
